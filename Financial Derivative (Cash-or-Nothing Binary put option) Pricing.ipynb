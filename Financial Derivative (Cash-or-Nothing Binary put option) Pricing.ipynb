{
 "cells": [
  {
   "cell_type": "code",
   "execution_count": 1,
   "metadata": {},
   "outputs": [
    {
     "name": "stdout",
     "output_type": "stream",
     "text": [
      "Requirement already satisfied: yfinance in c:\\users\\shobh\\anaconda3\\lib\\site-packages (0.1.55)\n",
      "Requirement already satisfied: multitasking>=0.0.7 in c:\\users\\shobh\\anaconda3\\lib\\site-packages (from yfinance) (0.0.9)\n",
      "Requirement already satisfied: pandas>=0.24 in c:\\users\\shobh\\anaconda3\\lib\\site-packages (from yfinance) (1.1.3)\n",
      "Requirement already satisfied: numpy>=1.15 in c:\\users\\shobh\\anaconda3\\lib\\site-packages (from yfinance) (1.19.2)\n",
      "Requirement already satisfied: requests>=2.20 in c:\\users\\shobh\\anaconda3\\lib\\site-packages (from yfinance) (2.24.0)\n",
      "Requirement already satisfied: lxml>=4.5.1 in c:\\users\\shobh\\anaconda3\\lib\\site-packages (from yfinance) (4.6.1)\n",
      "Requirement already satisfied: python-dateutil>=2.7.3 in c:\\users\\shobh\\anaconda3\\lib\\site-packages (from pandas>=0.24->yfinance) (2.8.1)\n",
      "Requirement already satisfied: pytz>=2017.2 in c:\\users\\shobh\\anaconda3\\lib\\site-packages (from pandas>=0.24->yfinance) (2020.1)\n",
      "Requirement already satisfied: urllib3!=1.25.0,!=1.25.1,<1.26,>=1.21.1 in c:\\users\\shobh\\anaconda3\\lib\\site-packages (from requests>=2.20->yfinance) (1.25.11)\n",
      "Requirement already satisfied: idna<3,>=2.5 in c:\\users\\shobh\\anaconda3\\lib\\site-packages (from requests>=2.20->yfinance) (2.10)\n",
      "Requirement already satisfied: certifi>=2017.4.17 in c:\\users\\shobh\\anaconda3\\lib\\site-packages (from requests>=2.20->yfinance) (2020.6.20)\n",
      "Requirement already satisfied: chardet<4,>=3.0.2 in c:\\users\\shobh\\anaconda3\\lib\\site-packages (from requests>=2.20->yfinance) (3.0.4)\n",
      "Requirement already satisfied: six>=1.5 in c:\\users\\shobh\\anaconda3\\lib\\site-packages (from python-dateutil>=2.7.3->pandas>=0.24->yfinance) (1.15.0)\n",
      "Note: you may need to restart the kernel to use updated packages.\n"
     ]
    }
   ],
   "source": [
    "pip install yfinance"
   ]
  },
  {
   "cell_type": "code",
   "execution_count": 2,
   "metadata": {},
   "outputs": [],
   "source": [
    "import yfinance as yf\n",
    "import numpy as np\n",
    "import pandas as pd\n",
    "import matplotlib as mpl"
   ]
  },
  {
   "cell_type": "code",
   "execution_count": 3,
   "metadata": {},
   "outputs": [
    {
     "name": "stdout",
     "output_type": "stream",
     "text": [
      "[*********************100%***********************]  2 of 2 completed\n"
     ]
    }
   ],
   "source": [
    "initial_data = yf.download(\"AAPL ^VIX\", start =\"2020-03-01\", end=\"2021-03-01\")"
   ]
  },
  {
   "cell_type": "code",
   "execution_count": 4,
   "metadata": {},
   "outputs": [
    {
     "data": {
      "text/html": [
       "<div>\n",
       "<style scoped>\n",
       "    .dataframe tbody tr th:only-of-type {\n",
       "        vertical-align: middle;\n",
       "    }\n",
       "\n",
       "    .dataframe tbody tr th {\n",
       "        vertical-align: top;\n",
       "    }\n",
       "\n",
       "    .dataframe thead tr th {\n",
       "        text-align: left;\n",
       "    }\n",
       "\n",
       "    .dataframe thead tr:last-of-type th {\n",
       "        text-align: right;\n",
       "    }\n",
       "</style>\n",
       "<table border=\"1\" class=\"dataframe\">\n",
       "  <thead>\n",
       "    <tr>\n",
       "      <th></th>\n",
       "      <th colspan=\"2\" halign=\"left\">Adj Close</th>\n",
       "      <th colspan=\"2\" halign=\"left\">Close</th>\n",
       "      <th colspan=\"2\" halign=\"left\">High</th>\n",
       "      <th colspan=\"2\" halign=\"left\">Low</th>\n",
       "      <th colspan=\"2\" halign=\"left\">Open</th>\n",
       "      <th colspan=\"2\" halign=\"left\">Volume</th>\n",
       "    </tr>\n",
       "    <tr>\n",
       "      <th></th>\n",
       "      <th>AAPL</th>\n",
       "      <th>^VIX</th>\n",
       "      <th>AAPL</th>\n",
       "      <th>^VIX</th>\n",
       "      <th>AAPL</th>\n",
       "      <th>^VIX</th>\n",
       "      <th>AAPL</th>\n",
       "      <th>^VIX</th>\n",
       "      <th>AAPL</th>\n",
       "      <th>^VIX</th>\n",
       "      <th>AAPL</th>\n",
       "      <th>^VIX</th>\n",
       "    </tr>\n",
       "    <tr>\n",
       "      <th>Date</th>\n",
       "      <th></th>\n",
       "      <th></th>\n",
       "      <th></th>\n",
       "      <th></th>\n",
       "      <th></th>\n",
       "      <th></th>\n",
       "      <th></th>\n",
       "      <th></th>\n",
       "      <th></th>\n",
       "      <th></th>\n",
       "      <th></th>\n",
       "      <th></th>\n",
       "    </tr>\n",
       "  </thead>\n",
       "  <tbody>\n",
       "    <tr>\n",
       "      <th>2020-03-02</th>\n",
       "      <td>74.127892</td>\n",
       "      <td>33.419998</td>\n",
       "      <td>74.702499</td>\n",
       "      <td>33.419998</td>\n",
       "      <td>75.360001</td>\n",
       "      <td>40.410000</td>\n",
       "      <td>69.430000</td>\n",
       "      <td>31.500000</td>\n",
       "      <td>70.570000</td>\n",
       "      <td>38.540001</td>\n",
       "      <td>341397200</td>\n",
       "      <td>0</td>\n",
       "    </tr>\n",
       "    <tr>\n",
       "      <th>2020-03-03</th>\n",
       "      <td>71.773636</td>\n",
       "      <td>36.820000</td>\n",
       "      <td>72.330002</td>\n",
       "      <td>36.820000</td>\n",
       "      <td>76.000000</td>\n",
       "      <td>41.060001</td>\n",
       "      <td>71.449997</td>\n",
       "      <td>24.930000</td>\n",
       "      <td>75.917503</td>\n",
       "      <td>33.650002</td>\n",
       "      <td>319475600</td>\n",
       "      <td>0</td>\n",
       "    </tr>\n",
       "    <tr>\n",
       "      <th>2020-03-04</th>\n",
       "      <td>75.102829</td>\n",
       "      <td>31.990000</td>\n",
       "      <td>75.684998</td>\n",
       "      <td>31.990000</td>\n",
       "      <td>75.849998</td>\n",
       "      <td>35.580002</td>\n",
       "      <td>73.282501</td>\n",
       "      <td>30.299999</td>\n",
       "      <td>74.110001</td>\n",
       "      <td>34.439999</td>\n",
       "      <td>219178400</td>\n",
       "      <td>0</td>\n",
       "    </tr>\n",
       "    <tr>\n",
       "      <th>2020-03-05</th>\n",
       "      <td>72.666725</td>\n",
       "      <td>39.619999</td>\n",
       "      <td>73.230003</td>\n",
       "      <td>39.619999</td>\n",
       "      <td>74.887497</td>\n",
       "      <td>42.840000</td>\n",
       "      <td>72.852501</td>\n",
       "      <td>33.540001</td>\n",
       "      <td>73.879997</td>\n",
       "      <td>33.610001</td>\n",
       "      <td>187572800</td>\n",
       "      <td>0</td>\n",
       "    </tr>\n",
       "    <tr>\n",
       "      <th>2020-03-06</th>\n",
       "      <td>71.701706</td>\n",
       "      <td>41.939999</td>\n",
       "      <td>72.257500</td>\n",
       "      <td>41.939999</td>\n",
       "      <td>72.705002</td>\n",
       "      <td>54.389999</td>\n",
       "      <td>70.307503</td>\n",
       "      <td>40.840000</td>\n",
       "      <td>70.500000</td>\n",
       "      <td>48.930000</td>\n",
       "      <td>226176800</td>\n",
       "      <td>0</td>\n",
       "    </tr>\n",
       "  </tbody>\n",
       "</table>\n",
       "</div>"
      ],
      "text/plain": [
       "            Adj Close                 Close                  High             \\\n",
       "                 AAPL       ^VIX       AAPL       ^VIX       AAPL       ^VIX   \n",
       "Date                                                                           \n",
       "2020-03-02  74.127892  33.419998  74.702499  33.419998  75.360001  40.410000   \n",
       "2020-03-03  71.773636  36.820000  72.330002  36.820000  76.000000  41.060001   \n",
       "2020-03-04  75.102829  31.990000  75.684998  31.990000  75.849998  35.580002   \n",
       "2020-03-05  72.666725  39.619999  73.230003  39.619999  74.887497  42.840000   \n",
       "2020-03-06  71.701706  41.939999  72.257500  41.939999  72.705002  54.389999   \n",
       "\n",
       "                  Low                  Open                Volume       \n",
       "                 AAPL       ^VIX       AAPL       ^VIX       AAPL ^VIX  \n",
       "Date                                                                    \n",
       "2020-03-02  69.430000  31.500000  70.570000  38.540001  341397200    0  \n",
       "2020-03-03  71.449997  24.930000  75.917503  33.650002  319475600    0  \n",
       "2020-03-04  73.282501  30.299999  74.110001  34.439999  219178400    0  \n",
       "2020-03-05  72.852501  33.540001  73.879997  33.610001  187572800    0  \n",
       "2020-03-06  70.307503  40.840000  70.500000  48.930000  226176800    0  "
      ]
     },
     "execution_count": 4,
     "metadata": {},
     "output_type": "execute_result"
    }
   ],
   "source": [
    "initial_data.head()"
   ]
  },
  {
   "cell_type": "code",
   "execution_count": 5,
   "metadata": {},
   "outputs": [
    {
     "data": {
      "text/html": [
       "<div>\n",
       "<style scoped>\n",
       "    .dataframe tbody tr th:only-of-type {\n",
       "        vertical-align: middle;\n",
       "    }\n",
       "\n",
       "    .dataframe tbody tr th {\n",
       "        vertical-align: top;\n",
       "    }\n",
       "\n",
       "    .dataframe thead th {\n",
       "        text-align: right;\n",
       "    }\n",
       "</style>\n",
       "<table border=\"1\" class=\"dataframe\">\n",
       "  <thead>\n",
       "    <tr style=\"text-align: right;\">\n",
       "      <th></th>\n",
       "      <th>AAPL</th>\n",
       "      <th>^VIX</th>\n",
       "    </tr>\n",
       "    <tr>\n",
       "      <th>Date</th>\n",
       "      <th></th>\n",
       "      <th></th>\n",
       "    </tr>\n",
       "  </thead>\n",
       "  <tbody>\n",
       "    <tr>\n",
       "      <th>2020-03-02</th>\n",
       "      <td>74.127892</td>\n",
       "      <td>33.419998</td>\n",
       "    </tr>\n",
       "    <tr>\n",
       "      <th>2020-03-03</th>\n",
       "      <td>71.773636</td>\n",
       "      <td>36.820000</td>\n",
       "    </tr>\n",
       "    <tr>\n",
       "      <th>2020-03-04</th>\n",
       "      <td>75.102829</td>\n",
       "      <td>31.990000</td>\n",
       "    </tr>\n",
       "    <tr>\n",
       "      <th>2020-03-05</th>\n",
       "      <td>72.666725</td>\n",
       "      <td>39.619999</td>\n",
       "    </tr>\n",
       "    <tr>\n",
       "      <th>2020-03-06</th>\n",
       "      <td>71.701706</td>\n",
       "      <td>41.939999</td>\n",
       "    </tr>\n",
       "  </tbody>\n",
       "</table>\n",
       "</div>"
      ],
      "text/plain": [
       "                 AAPL       ^VIX\n",
       "Date                            \n",
       "2020-03-02  74.127892  33.419998\n",
       "2020-03-03  71.773636  36.820000\n",
       "2020-03-04  75.102829  31.990000\n",
       "2020-03-05  72.666725  39.619999\n",
       "2020-03-06  71.701706  41.939999"
      ]
     },
     "execution_count": 5,
     "metadata": {},
     "output_type": "execute_result"
    }
   ],
   "source": [
    "initial_data['Adj Close'].head()"
   ]
  },
  {
   "cell_type": "code",
   "execution_count": 6,
   "metadata": {},
   "outputs": [
    {
     "name": "stdout",
     "output_type": "stream",
     "text": [
      "<class 'pandas.core.frame.DataFrame'>\n",
      "DatetimeIndex: 251 entries, 2020-03-02 to 2021-02-26\n",
      "Data columns (total 2 columns):\n",
      " #   Column  Non-Null Count  Dtype  \n",
      "---  ------  --------------  -----  \n",
      " 0   AAPL    251 non-null    float64\n",
      " 1   ^VIX    251 non-null    float64\n",
      "dtypes: float64(2)\n",
      "memory usage: 5.9 KB\n"
     ]
    }
   ],
   "source": [
    "data =  initial_data['Adj Close']\n",
    "data.info()"
   ]
  },
  {
   "cell_type": "code",
   "execution_count": 7,
   "metadata": {},
   "outputs": [
    {
     "data": {
      "text/plain": [
       "array([<AxesSubplot:xlabel='Date'>, <AxesSubplot:xlabel='Date'>],\n",
       "      dtype=object)"
      ]
     },
     "execution_count": 7,
     "metadata": {},
     "output_type": "execute_result"
    },
    {
     "data": {
      "image/png": "[encoded data removed]",
      "text/plain": [
       "<Figure size 720x864 with 2 Axes>"
      ]
     },
     "metadata": {
      "needs_background": "light"
     },
     "output_type": "display_data"
    }
   ],
   "source": [
    "data.plot(figsize=(10, 12), subplots=True)"
   ]
  },
  {
   "cell_type": "code",
   "execution_count": 8,
   "metadata": {},
   "outputs": [
    {
     "data": {
      "text/html": [
       "<div>\n",
       "<style scoped>\n",
       "    .dataframe tbody tr th:only-of-type {\n",
       "        vertical-align: middle;\n",
       "    }\n",
       "\n",
       "    .dataframe tbody tr th {\n",
       "        vertical-align: top;\n",
       "    }\n",
       "\n",
       "    .dataframe thead th {\n",
       "        text-align: right;\n",
       "    }\n",
       "</style>\n",
       "<table border=\"1\" class=\"dataframe\">\n",
       "  <thead>\n",
       "    <tr style=\"text-align: right;\">\n",
       "      <th></th>\n",
       "      <th>AAPL</th>\n",
       "      <th>^VIX</th>\n",
       "    </tr>\n",
       "  </thead>\n",
       "  <tbody>\n",
       "    <tr>\n",
       "      <th>count</th>\n",
       "      <td>251.00</td>\n",
       "      <td>251.00</td>\n",
       "    </tr>\n",
       "    <tr>\n",
       "      <th>mean</th>\n",
       "      <td>103.37</td>\n",
       "      <td>30.47</td>\n",
       "    </tr>\n",
       "    <tr>\n",
       "      <th>std</th>\n",
       "      <td>24.00</td>\n",
       "      <td>11.23</td>\n",
       "    </tr>\n",
       "    <tr>\n",
       "      <th>min</th>\n",
       "      <td>55.66</td>\n",
       "      <td>19.97</td>\n",
       "    </tr>\n",
       "    <tr>\n",
       "      <th>25%</th>\n",
       "      <td>79.73</td>\n",
       "      <td>23.22</td>\n",
       "    </tr>\n",
       "    <tr>\n",
       "      <th>50%</th>\n",
       "      <td>112.37</td>\n",
       "      <td>26.97</td>\n",
       "    </tr>\n",
       "    <tr>\n",
       "      <th>75%</th>\n",
       "      <td>122.65</td>\n",
       "      <td>33.07</td>\n",
       "    </tr>\n",
       "    <tr>\n",
       "      <th>max</th>\n",
       "      <td>142.95</td>\n",
       "      <td>82.69</td>\n",
       "    </tr>\n",
       "  </tbody>\n",
       "</table>\n",
       "</div>"
      ],
      "text/plain": [
       "         AAPL    ^VIX\n",
       "count  251.00  251.00\n",
       "mean   103.37   30.47\n",
       "std     24.00   11.23\n",
       "min     55.66   19.97\n",
       "25%     79.73   23.22\n",
       "50%    112.37   26.97\n",
       "75%    122.65   33.07\n",
       "max    142.95   82.69"
      ]
     },
     "execution_count": 8,
     "metadata": {},
     "output_type": "execute_result"
    }
   ],
   "source": [
    "data.describe().round(2)"
   ]
  },
  {
   "cell_type": "code",
   "execution_count": 9,
   "metadata": {},
   "outputs": [
    {
     "data": {
      "text/html": [
       "<div>\n",
       "<style scoped>\n",
       "    .dataframe tbody tr th:only-of-type {\n",
       "        vertical-align: middle;\n",
       "    }\n",
       "\n",
       "    .dataframe tbody tr th {\n",
       "        vertical-align: top;\n",
       "    }\n",
       "\n",
       "    .dataframe thead th {\n",
       "        text-align: right;\n",
       "    }\n",
       "</style>\n",
       "<table border=\"1\" class=\"dataframe\">\n",
       "  <thead>\n",
       "    <tr style=\"text-align: right;\">\n",
       "      <th></th>\n",
       "      <th>AAPL</th>\n",
       "      <th>^VIX</th>\n",
       "    </tr>\n",
       "    <tr>\n",
       "      <th>Date</th>\n",
       "      <th></th>\n",
       "      <th></th>\n",
       "    </tr>\n",
       "  </thead>\n",
       "  <tbody>\n",
       "    <tr>\n",
       "      <th>2020-03-02</th>\n",
       "      <td>NaN</td>\n",
       "      <td>NaN</td>\n",
       "    </tr>\n",
       "    <tr>\n",
       "      <th>2020-03-03</th>\n",
       "      <td>-2.354256</td>\n",
       "      <td>3.400002</td>\n",
       "    </tr>\n",
       "    <tr>\n",
       "      <th>2020-03-04</th>\n",
       "      <td>3.329193</td>\n",
       "      <td>-4.830000</td>\n",
       "    </tr>\n",
       "    <tr>\n",
       "      <th>2020-03-05</th>\n",
       "      <td>-2.436104</td>\n",
       "      <td>7.629999</td>\n",
       "    </tr>\n",
       "    <tr>\n",
       "      <th>2020-03-06</th>\n",
       "      <td>-0.965019</td>\n",
       "      <td>2.320000</td>\n",
       "    </tr>\n",
       "  </tbody>\n",
       "</table>\n",
       "</div>"
      ],
      "text/plain": [
       "                AAPL      ^VIX\n",
       "Date                          \n",
       "2020-03-02       NaN       NaN\n",
       "2020-03-03 -2.354256  3.400002\n",
       "2020-03-04  3.329193 -4.830000\n",
       "2020-03-05 -2.436104  7.629999\n",
       "2020-03-06 -0.965019  2.320000"
      ]
     },
     "execution_count": 9,
     "metadata": {},
     "output_type": "execute_result"
    }
   ],
   "source": [
    "data.diff().head()"
   ]
  },
  {
   "cell_type": "code",
   "execution_count": 10,
   "metadata": {},
   "outputs": [
    {
     "data": {
      "text/html": [
       "<div>\n",
       "<style scoped>\n",
       "    .dataframe tbody tr th:only-of-type {\n",
       "        vertical-align: middle;\n",
       "    }\n",
       "\n",
       "    .dataframe tbody tr th {\n",
       "        vertical-align: top;\n",
       "    }\n",
       "\n",
       "    .dataframe thead th {\n",
       "        text-align: right;\n",
       "    }\n",
       "</style>\n",
       "<table border=\"1\" class=\"dataframe\">\n",
       "  <thead>\n",
       "    <tr style=\"text-align: right;\">\n",
       "      <th></th>\n",
       "      <th>AAPL</th>\n",
       "      <th>^VIX</th>\n",
       "    </tr>\n",
       "  </thead>\n",
       "  <tbody>\n",
       "    <tr>\n",
       "      <th>count</th>\n",
       "      <td>250.00</td>\n",
       "      <td>250.00</td>\n",
       "    </tr>\n",
       "    <tr>\n",
       "      <th>mean</th>\n",
       "      <td>0.19</td>\n",
       "      <td>-0.02</td>\n",
       "    </tr>\n",
       "    <tr>\n",
       "      <th>std</th>\n",
       "      <td>2.69</td>\n",
       "      <td>3.66</td>\n",
       "    </tr>\n",
       "    <tr>\n",
       "      <th>min</th>\n",
       "      <td>-10.49</td>\n",
       "      <td>-17.64</td>\n",
       "    </tr>\n",
       "    <tr>\n",
       "      <th>25%</th>\n",
       "      <td>-1.09</td>\n",
       "      <td>-1.37</td>\n",
       "    </tr>\n",
       "    <tr>\n",
       "      <th>50%</th>\n",
       "      <td>0.15</td>\n",
       "      <td>-0.30</td>\n",
       "    </tr>\n",
       "    <tr>\n",
       "      <th>75%</th>\n",
       "      <td>1.71</td>\n",
       "      <td>0.90</td>\n",
       "    </tr>\n",
       "    <tr>\n",
       "      <th>max</th>\n",
       "      <td>10.02</td>\n",
       "      <td>24.86</td>\n",
       "    </tr>\n",
       "  </tbody>\n",
       "</table>\n",
       "</div>"
      ],
      "text/plain": [
       "         AAPL    ^VIX\n",
       "count  250.00  250.00\n",
       "mean     0.19   -0.02\n",
       "std      2.69    3.66\n",
       "min    -10.49  -17.64\n",
       "25%     -1.09   -1.37\n",
       "50%      0.15   -0.30\n",
       "75%      1.71    0.90\n",
       "max     10.02   24.86"
      ]
     },
     "execution_count": 10,
     "metadata": {},
     "output_type": "execute_result"
    }
   ],
   "source": [
    "data.diff().describe().round(2)"
   ]
  },
  {
   "cell_type": "code",
   "execution_count": 11,
   "metadata": {},
   "outputs": [
    {
     "data": {
      "text/html": [
       "<div>\n",
       "<style scoped>\n",
       "    .dataframe tbody tr th:only-of-type {\n",
       "        vertical-align: middle;\n",
       "    }\n",
       "\n",
       "    .dataframe tbody tr th {\n",
       "        vertical-align: top;\n",
       "    }\n",
       "\n",
       "    .dataframe thead th {\n",
       "        text-align: right;\n",
       "    }\n",
       "</style>\n",
       "<table border=\"1\" class=\"dataframe\">\n",
       "  <thead>\n",
       "    <tr style=\"text-align: right;\">\n",
       "      <th></th>\n",
       "      <th>AAPL</th>\n",
       "      <th>^VIX</th>\n",
       "    </tr>\n",
       "    <tr>\n",
       "      <th>Date</th>\n",
       "      <th></th>\n",
       "      <th></th>\n",
       "    </tr>\n",
       "  </thead>\n",
       "  <tbody>\n",
       "    <tr>\n",
       "      <th>2020-03-02</th>\n",
       "      <td>NaN</td>\n",
       "      <td>NaN</td>\n",
       "    </tr>\n",
       "    <tr>\n",
       "      <th>2020-03-03</th>\n",
       "      <td>-0.0318</td>\n",
       "      <td>0.1017</td>\n",
       "    </tr>\n",
       "    <tr>\n",
       "      <th>2020-03-04</th>\n",
       "      <td>0.0464</td>\n",
       "      <td>-0.1312</td>\n",
       "    </tr>\n",
       "    <tr>\n",
       "      <th>2020-03-05</th>\n",
       "      <td>-0.0324</td>\n",
       "      <td>0.2385</td>\n",
       "    </tr>\n",
       "    <tr>\n",
       "      <th>2020-03-06</th>\n",
       "      <td>-0.0133</td>\n",
       "      <td>0.0586</td>\n",
       "    </tr>\n",
       "  </tbody>\n",
       "</table>\n",
       "</div>"
      ],
      "text/plain": [
       "              AAPL    ^VIX\n",
       "Date                      \n",
       "2020-03-02     NaN     NaN\n",
       "2020-03-03 -0.0318  0.1017\n",
       "2020-03-04  0.0464 -0.1312\n",
       "2020-03-05 -0.0324  0.2385\n",
       "2020-03-06 -0.0133  0.0586"
      ]
     },
     "execution_count": 11,
     "metadata": {},
     "output_type": "execute_result"
    }
   ],
   "source": [
    "data.pct_change().round(4).head()"
   ]
  },
  {
   "cell_type": "code",
   "execution_count": 12,
   "metadata": {},
   "outputs": [
    {
     "data": {
      "image/png": "[encoded data removed]",
      "text/plain": [
       "<Figure size 720x432 with 1 Axes>"
      ]
     },
     "metadata": {
      "needs_background": "light"
     },
     "output_type": "display_data"
    }
   ],
   "source": [
    "data.pct_change().mean().plot(kind='bar', figsize=(10, 6));"
   ]
  },
  {
   "cell_type": "code",
   "execution_count": 13,
   "metadata": {},
   "outputs": [
    {
     "data": {
      "text/html": [
       "<div>\n",
       "<style scoped>\n",
       "    .dataframe tbody tr th:only-of-type {\n",
       "        vertical-align: middle;\n",
       "    }\n",
       "\n",
       "    .dataframe tbody tr th {\n",
       "        vertical-align: top;\n",
       "    }\n",
       "\n",
       "    .dataframe thead th {\n",
       "        text-align: right;\n",
       "    }\n",
       "</style>\n",
       "<table border=\"1\" class=\"dataframe\">\n",
       "  <thead>\n",
       "    <tr style=\"text-align: right;\">\n",
       "      <th></th>\n",
       "      <th>AAPL</th>\n",
       "      <th>^VIX</th>\n",
       "    </tr>\n",
       "    <tr>\n",
       "      <th>Date</th>\n",
       "      <th></th>\n",
       "      <th></th>\n",
       "    </tr>\n",
       "  </thead>\n",
       "  <tbody>\n",
       "    <tr>\n",
       "      <th>2020-03-02</th>\n",
       "      <td>NaN</td>\n",
       "      <td>NaN</td>\n",
       "    </tr>\n",
       "    <tr>\n",
       "      <th>2020-03-03</th>\n",
       "      <td>-0.0323</td>\n",
       "      <td>0.0969</td>\n",
       "    </tr>\n",
       "    <tr>\n",
       "      <th>2020-03-04</th>\n",
       "      <td>0.0453</td>\n",
       "      <td>-0.1406</td>\n",
       "    </tr>\n",
       "    <tr>\n",
       "      <th>2020-03-05</th>\n",
       "      <td>-0.0330</td>\n",
       "      <td>0.2139</td>\n",
       "    </tr>\n",
       "    <tr>\n",
       "      <th>2020-03-06</th>\n",
       "      <td>-0.0134</td>\n",
       "      <td>0.0569</td>\n",
       "    </tr>\n",
       "  </tbody>\n",
       "</table>\n",
       "</div>"
      ],
      "text/plain": [
       "              AAPL    ^VIX\n",
       "Date                      \n",
       "2020-03-02     NaN     NaN\n",
       "2020-03-03 -0.0323  0.0969\n",
       "2020-03-04  0.0453 -0.1406\n",
       "2020-03-05 -0.0330  0.2139\n",
       "2020-03-06 -0.0134  0.0569"
      ]
     },
     "execution_count": 13,
     "metadata": {},
     "output_type": "execute_result"
    }
   ],
   "source": [
    "rets = np.log(data / data.shift(1))\n",
    "rets.head().round(4)"
   ]
  },
  {
   "cell_type": "code",
   "execution_count": 14,
   "metadata": {},
   "outputs": [
    {
     "data": {
      "image/png": "[encoded data removed]",
      "text/plain": [
       "<Figure size 720x432 with 1 Axes>"
      ]
     },
     "metadata": {
      "needs_background": "light"
     },
     "output_type": "display_data"
    }
   ],
   "source": [
    "rets.cumsum().apply(np.exp).plot(figsize=(10, 6));"
   ]
  },
  {
   "cell_type": "code",
   "execution_count": 41,
   "metadata": {},
   "outputs": [],
   "source": [
    "import numpy as np\n",
    "import pandas as pd\n",
    "import matplotlib.pyplot as plt\n",
    "import scipy.stats as si\n",
    "import yfinance as yf\n",
    "import os"
   ]
  },
  {
   "cell_type": "code",
   "execution_count": 16,
   "metadata": {},
   "outputs": [
    {
     "data": {
      "text/html": [
       "<div>\n",
       "<style scoped>\n",
       "    .dataframe tbody tr th:only-of-type {\n",
       "        vertical-align: middle;\n",
       "    }\n",
       "\n",
       "    .dataframe tbody tr th {\n",
       "        vertical-align: top;\n",
       "    }\n",
       "\n",
       "    .dataframe thead th {\n",
       "        text-align: right;\n",
       "    }\n",
       "</style>\n",
       "<table border=\"1\" class=\"dataframe\">\n",
       "  <thead>\n",
       "    <tr style=\"text-align: right;\">\n",
       "      <th></th>\n",
       "      <th>contractSymbol</th>\n",
       "      <th>lastTradeDate</th>\n",
       "      <th>strike</th>\n",
       "      <th>lastPrice</th>\n",
       "      <th>bid</th>\n",
       "      <th>ask</th>\n",
       "      <th>change</th>\n",
       "      <th>percentChange</th>\n",
       "      <th>volume</th>\n",
       "      <th>openInterest</th>\n",
       "      <th>impliedVolatility</th>\n",
       "      <th>inTheMoney</th>\n",
       "      <th>contractSize</th>\n",
       "      <th>currency</th>\n",
       "    </tr>\n",
       "  </thead>\n",
       "  <tbody>\n",
       "    <tr>\n",
       "      <th>0</th>\n",
       "      <td>AAPL210507P00085000</td>\n",
       "      <td>2021-03-30 19:59:08</td>\n",
       "      <td>85.0</td>\n",
       "      <td>0.15</td>\n",
       "      <td>0.11</td>\n",
       "      <td>0.14</td>\n",
       "      <td>0.000000</td>\n",
       "      <td>0.000000</td>\n",
       "      <td>4</td>\n",
       "      <td>45</td>\n",
       "      <td>0.566411</td>\n",
       "      <td>False</td>\n",
       "      <td>REGULAR</td>\n",
       "      <td>USD</td>\n",
       "    </tr>\n",
       "    <tr>\n",
       "      <th>1</th>\n",
       "      <td>AAPL210507P00095000</td>\n",
       "      <td>2021-04-01 17:50:58</td>\n",
       "      <td>95.0</td>\n",
       "      <td>0.26</td>\n",
       "      <td>0.22</td>\n",
       "      <td>0.26</td>\n",
       "      <td>-0.050000</td>\n",
       "      <td>-16.129036</td>\n",
       "      <td>25</td>\n",
       "      <td>174</td>\n",
       "      <td>0.470708</td>\n",
       "      <td>False</td>\n",
       "      <td>REGULAR</td>\n",
       "      <td>USD</td>\n",
       "    </tr>\n",
       "    <tr>\n",
       "      <th>2</th>\n",
       "      <td>AAPL210507P00100000</td>\n",
       "      <td>2021-04-01 19:59:56</td>\n",
       "      <td>100.0</td>\n",
       "      <td>0.34</td>\n",
       "      <td>0.32</td>\n",
       "      <td>0.36</td>\n",
       "      <td>-0.080000</td>\n",
       "      <td>-19.047615</td>\n",
       "      <td>180</td>\n",
       "      <td>831</td>\n",
       "      <td>0.418951</td>\n",
       "      <td>False</td>\n",
       "      <td>REGULAR</td>\n",
       "      <td>USD</td>\n",
       "    </tr>\n",
       "    <tr>\n",
       "      <th>3</th>\n",
       "      <td>AAPL210507P00105000</td>\n",
       "      <td>2021-04-01 19:56:30</td>\n",
       "      <td>105.0</td>\n",
       "      <td>0.54</td>\n",
       "      <td>0.51</td>\n",
       "      <td>0.55</td>\n",
       "      <td>-0.140000</td>\n",
       "      <td>-20.588232</td>\n",
       "      <td>118</td>\n",
       "      <td>279</td>\n",
       "      <td>0.374274</td>\n",
       "      <td>False</td>\n",
       "      <td>REGULAR</td>\n",
       "      <td>USD</td>\n",
       "    </tr>\n",
       "    <tr>\n",
       "      <th>4</th>\n",
       "      <td>AAPL210507P00107000</td>\n",
       "      <td>2021-04-01 19:59:56</td>\n",
       "      <td>107.0</td>\n",
       "      <td>0.66</td>\n",
       "      <td>0.64</td>\n",
       "      <td>0.66</td>\n",
       "      <td>-0.150000</td>\n",
       "      <td>-18.518515</td>\n",
       "      <td>105</td>\n",
       "      <td>450</td>\n",
       "      <td>0.356940</td>\n",
       "      <td>False</td>\n",
       "      <td>REGULAR</td>\n",
       "      <td>USD</td>\n",
       "    </tr>\n",
       "    <tr>\n",
       "      <th>5</th>\n",
       "      <td>AAPL210507P00108000</td>\n",
       "      <td>2021-04-01 19:39:58</td>\n",
       "      <td>108.0</td>\n",
       "      <td>0.75</td>\n",
       "      <td>0.71</td>\n",
       "      <td>0.75</td>\n",
       "      <td>-0.150000</td>\n",
       "      <td>-16.666664</td>\n",
       "      <td>40</td>\n",
       "      <td>215</td>\n",
       "      <td>0.352057</td>\n",
       "      <td>False</td>\n",
       "      <td>REGULAR</td>\n",
       "      <td>USD</td>\n",
       "    </tr>\n",
       "    <tr>\n",
       "      <th>6</th>\n",
       "      <td>AAPL210507P00109000</td>\n",
       "      <td>2021-04-01 17:13:13</td>\n",
       "      <td>109.0</td>\n",
       "      <td>0.84</td>\n",
       "      <td>0.79</td>\n",
       "      <td>0.84</td>\n",
       "      <td>-0.220000</td>\n",
       "      <td>-20.754715</td>\n",
       "      <td>18</td>\n",
       "      <td>76</td>\n",
       "      <td>0.345710</td>\n",
       "      <td>False</td>\n",
       "      <td>REGULAR</td>\n",
       "      <td>USD</td>\n",
       "    </tr>\n",
       "    <tr>\n",
       "      <th>7</th>\n",
       "      <td>AAPL210507P00110000</td>\n",
       "      <td>2021-04-01 19:58:29</td>\n",
       "      <td>110.0</td>\n",
       "      <td>0.93</td>\n",
       "      <td>0.90</td>\n",
       "      <td>0.95</td>\n",
       "      <td>-0.300000</td>\n",
       "      <td>-24.390244</td>\n",
       "      <td>207</td>\n",
       "      <td>573</td>\n",
       "      <td>0.340583</td>\n",
       "      <td>False</td>\n",
       "      <td>REGULAR</td>\n",
       "      <td>USD</td>\n",
       "    </tr>\n",
       "    <tr>\n",
       "      <th>8</th>\n",
       "      <td>AAPL210507P00111000</td>\n",
       "      <td>2021-04-01 19:57:46</td>\n",
       "      <td>111.0</td>\n",
       "      <td>1.02</td>\n",
       "      <td>1.02</td>\n",
       "      <td>1.08</td>\n",
       "      <td>-0.290000</td>\n",
       "      <td>-22.137402</td>\n",
       "      <td>66</td>\n",
       "      <td>182</td>\n",
       "      <td>0.335944</td>\n",
       "      <td>False</td>\n",
       "      <td>REGULAR</td>\n",
       "      <td>USD</td>\n",
       "    </tr>\n",
       "    <tr>\n",
       "      <th>9</th>\n",
       "      <td>AAPL210507P00112000</td>\n",
       "      <td>2021-04-01 19:14:52</td>\n",
       "      <td>112.0</td>\n",
       "      <td>1.24</td>\n",
       "      <td>1.16</td>\n",
       "      <td>1.22</td>\n",
       "      <td>-0.260000</td>\n",
       "      <td>-17.333334</td>\n",
       "      <td>39</td>\n",
       "      <td>121</td>\n",
       "      <td>0.330817</td>\n",
       "      <td>False</td>\n",
       "      <td>REGULAR</td>\n",
       "      <td>USD</td>\n",
       "    </tr>\n",
       "    <tr>\n",
       "      <th>10</th>\n",
       "      <td>AAPL210507P00113000</td>\n",
       "      <td>2021-04-01 19:59:06</td>\n",
       "      <td>113.0</td>\n",
       "      <td>1.39</td>\n",
       "      <td>1.32</td>\n",
       "      <td>1.38</td>\n",
       "      <td>-2.260000</td>\n",
       "      <td>-61.917812</td>\n",
       "      <td>50</td>\n",
       "      <td>212</td>\n",
       "      <td>0.326179</td>\n",
       "      <td>False</td>\n",
       "      <td>REGULAR</td>\n",
       "      <td>USD</td>\n",
       "    </tr>\n",
       "    <tr>\n",
       "      <th>11</th>\n",
       "      <td>AAPL210507P00114000</td>\n",
       "      <td>2021-04-01 19:59:06</td>\n",
       "      <td>114.0</td>\n",
       "      <td>1.58</td>\n",
       "      <td>1.51</td>\n",
       "      <td>1.57</td>\n",
       "      <td>-0.390000</td>\n",
       "      <td>-19.796953</td>\n",
       "      <td>197</td>\n",
       "      <td>202</td>\n",
       "      <td>0.322394</td>\n",
       "      <td>False</td>\n",
       "      <td>REGULAR</td>\n",
       "      <td>USD</td>\n",
       "    </tr>\n",
       "    <tr>\n",
       "      <th>12</th>\n",
       "      <td>AAPL210507P00115000</td>\n",
       "      <td>2021-04-01 19:58:29</td>\n",
       "      <td>115.0</td>\n",
       "      <td>1.79</td>\n",
       "      <td>1.72</td>\n",
       "      <td>1.79</td>\n",
       "      <td>-0.440000</td>\n",
       "      <td>-19.730944</td>\n",
       "      <td>277</td>\n",
       "      <td>294</td>\n",
       "      <td>0.319343</td>\n",
       "      <td>False</td>\n",
       "      <td>REGULAR</td>\n",
       "      <td>USD</td>\n",
       "    </tr>\n",
       "    <tr>\n",
       "      <th>13</th>\n",
       "      <td>AAPL210507P00116000</td>\n",
       "      <td>2021-04-01 19:34:14</td>\n",
       "      <td>116.0</td>\n",
       "      <td>2.04</td>\n",
       "      <td>1.96</td>\n",
       "      <td>2.03</td>\n",
       "      <td>-0.490000</td>\n",
       "      <td>-19.367590</td>\n",
       "      <td>41</td>\n",
       "      <td>210</td>\n",
       "      <td>0.316047</td>\n",
       "      <td>False</td>\n",
       "      <td>REGULAR</td>\n",
       "      <td>USD</td>\n",
       "    </tr>\n",
       "    <tr>\n",
       "      <th>14</th>\n",
       "      <td>AAPL210507P00117000</td>\n",
       "      <td>2021-04-01 19:28:22</td>\n",
       "      <td>117.0</td>\n",
       "      <td>2.30</td>\n",
       "      <td>2.24</td>\n",
       "      <td>2.31</td>\n",
       "      <td>-0.530000</td>\n",
       "      <td>-18.727915</td>\n",
       "      <td>126</td>\n",
       "      <td>212</td>\n",
       "      <td>0.313850</td>\n",
       "      <td>False</td>\n",
       "      <td>REGULAR</td>\n",
       "      <td>USD</td>\n",
       "    </tr>\n",
       "    <tr>\n",
       "      <th>15</th>\n",
       "      <td>AAPL210507P00118000</td>\n",
       "      <td>2021-04-01 19:11:37</td>\n",
       "      <td>118.0</td>\n",
       "      <td>2.74</td>\n",
       "      <td>2.55</td>\n",
       "      <td>2.62</td>\n",
       "      <td>-0.340000</td>\n",
       "      <td>-11.038959</td>\n",
       "      <td>64</td>\n",
       "      <td>171</td>\n",
       "      <td>0.311774</td>\n",
       "      <td>False</td>\n",
       "      <td>REGULAR</td>\n",
       "      <td>USD</td>\n",
       "    </tr>\n",
       "    <tr>\n",
       "      <th>16</th>\n",
       "      <td>AAPL210507P00119000</td>\n",
       "      <td>2021-04-01 19:54:01</td>\n",
       "      <td>119.0</td>\n",
       "      <td>2.94</td>\n",
       "      <td>2.90</td>\n",
       "      <td>2.97</td>\n",
       "      <td>-0.380000</td>\n",
       "      <td>-11.445780</td>\n",
       "      <td>77</td>\n",
       "      <td>521</td>\n",
       "      <td>0.310310</td>\n",
       "      <td>False</td>\n",
       "      <td>REGULAR</td>\n",
       "      <td>USD</td>\n",
       "    </tr>\n",
       "    <tr>\n",
       "      <th>17</th>\n",
       "      <td>AAPL210507P00120000</td>\n",
       "      <td>2021-04-01 19:28:22</td>\n",
       "      <td>120.0</td>\n",
       "      <td>3.50</td>\n",
       "      <td>3.25</td>\n",
       "      <td>3.35</td>\n",
       "      <td>-0.500000</td>\n",
       "      <td>-12.500000</td>\n",
       "      <td>320</td>\n",
       "      <td>837</td>\n",
       "      <td>0.308845</td>\n",
       "      <td>False</td>\n",
       "      <td>REGULAR</td>\n",
       "      <td>USD</td>\n",
       "    </tr>\n",
       "    <tr>\n",
       "      <th>18</th>\n",
       "      <td>AAPL210507P00121000</td>\n",
       "      <td>2021-04-01 19:18:12</td>\n",
       "      <td>121.0</td>\n",
       "      <td>3.75</td>\n",
       "      <td>3.65</td>\n",
       "      <td>3.80</td>\n",
       "      <td>-0.420000</td>\n",
       "      <td>-10.071944</td>\n",
       "      <td>71</td>\n",
       "      <td>263</td>\n",
       "      <td>0.309821</td>\n",
       "      <td>False</td>\n",
       "      <td>REGULAR</td>\n",
       "      <td>USD</td>\n",
       "    </tr>\n",
       "    <tr>\n",
       "      <th>19</th>\n",
       "      <td>AAPL210507P00122000</td>\n",
       "      <td>2021-04-01 19:03:46</td>\n",
       "      <td>122.0</td>\n",
       "      <td>4.19</td>\n",
       "      <td>4.15</td>\n",
       "      <td>4.25</td>\n",
       "      <td>-0.760000</td>\n",
       "      <td>-15.353531</td>\n",
       "      <td>125</td>\n",
       "      <td>125</td>\n",
       "      <td>0.308601</td>\n",
       "      <td>False</td>\n",
       "      <td>REGULAR</td>\n",
       "      <td>USD</td>\n",
       "    </tr>\n",
       "    <tr>\n",
       "      <th>20</th>\n",
       "      <td>AAPL210507P00123000</td>\n",
       "      <td>2021-04-01 19:18:12</td>\n",
       "      <td>123.0</td>\n",
       "      <td>4.84</td>\n",
       "      <td>4.65</td>\n",
       "      <td>4.70</td>\n",
       "      <td>-0.340000</td>\n",
       "      <td>-6.563701</td>\n",
       "      <td>100</td>\n",
       "      <td>179</td>\n",
       "      <td>0.305183</td>\n",
       "      <td>False</td>\n",
       "      <td>REGULAR</td>\n",
       "      <td>USD</td>\n",
       "    </tr>\n",
       "    <tr>\n",
       "      <th>21</th>\n",
       "      <td>AAPL210507P00124000</td>\n",
       "      <td>2021-04-01 19:03:55</td>\n",
       "      <td>124.0</td>\n",
       "      <td>5.40</td>\n",
       "      <td>5.15</td>\n",
       "      <td>5.30</td>\n",
       "      <td>-0.230000</td>\n",
       "      <td>-4.085257</td>\n",
       "      <td>32</td>\n",
       "      <td>159</td>\n",
       "      <td>0.309333</td>\n",
       "      <td>True</td>\n",
       "      <td>REGULAR</td>\n",
       "      <td>USD</td>\n",
       "    </tr>\n",
       "    <tr>\n",
       "      <th>22</th>\n",
       "      <td>AAPL210507P00125000</td>\n",
       "      <td>2021-04-01 19:20:08</td>\n",
       "      <td>125.0</td>\n",
       "      <td>6.00</td>\n",
       "      <td>5.70</td>\n",
       "      <td>5.85</td>\n",
       "      <td>-0.630000</td>\n",
       "      <td>-9.502264</td>\n",
       "      <td>80</td>\n",
       "      <td>179</td>\n",
       "      <td>0.308112</td>\n",
       "      <td>True</td>\n",
       "      <td>REGULAR</td>\n",
       "      <td>USD</td>\n",
       "    </tr>\n",
       "    <tr>\n",
       "      <th>23</th>\n",
       "      <td>AAPL210507P00126000</td>\n",
       "      <td>2021-04-01 17:16:49</td>\n",
       "      <td>126.0</td>\n",
       "      <td>6.50</td>\n",
       "      <td>6.30</td>\n",
       "      <td>6.45</td>\n",
       "      <td>-0.350000</td>\n",
       "      <td>-5.109488</td>\n",
       "      <td>19</td>\n",
       "      <td>120</td>\n",
       "      <td>0.307990</td>\n",
       "      <td>True</td>\n",
       "      <td>REGULAR</td>\n",
       "      <td>USD</td>\n",
       "    </tr>\n",
       "    <tr>\n",
       "      <th>24</th>\n",
       "      <td>AAPL210507P00127000</td>\n",
       "      <td>2021-03-31 17:59:01</td>\n",
       "      <td>127.0</td>\n",
       "      <td>7.35</td>\n",
       "      <td>6.90</td>\n",
       "      <td>7.10</td>\n",
       "      <td>0.000000</td>\n",
       "      <td>0.000000</td>\n",
       "      <td>37</td>\n",
       "      <td>55</td>\n",
       "      <td>0.309211</td>\n",
       "      <td>True</td>\n",
       "      <td>REGULAR</td>\n",
       "      <td>USD</td>\n",
       "    </tr>\n",
       "    <tr>\n",
       "      <th>25</th>\n",
       "      <td>AAPL210507P00128000</td>\n",
       "      <td>2021-04-01 19:44:03</td>\n",
       "      <td>128.0</td>\n",
       "      <td>7.95</td>\n",
       "      <td>7.60</td>\n",
       "      <td>7.75</td>\n",
       "      <td>-0.630000</td>\n",
       "      <td>-7.342659</td>\n",
       "      <td>12</td>\n",
       "      <td>36</td>\n",
       "      <td>0.308357</td>\n",
       "      <td>True</td>\n",
       "      <td>REGULAR</td>\n",
       "      <td>USD</td>\n",
       "    </tr>\n",
       "    <tr>\n",
       "      <th>26</th>\n",
       "      <td>AAPL210507P00129000</td>\n",
       "      <td>2021-03-29 18:21:09</td>\n",
       "      <td>129.0</td>\n",
       "      <td>8.65</td>\n",
       "      <td>8.30</td>\n",
       "      <td>8.45</td>\n",
       "      <td>-2.190001</td>\n",
       "      <td>-20.202957</td>\n",
       "      <td>1</td>\n",
       "      <td>41</td>\n",
       "      <td>0.308967</td>\n",
       "      <td>True</td>\n",
       "      <td>REGULAR</td>\n",
       "      <td>USD</td>\n",
       "    </tr>\n",
       "    <tr>\n",
       "      <th>27</th>\n",
       "      <td>AAPL210507P00130000</td>\n",
       "      <td>2021-04-01 16:43:08</td>\n",
       "      <td>130.0</td>\n",
       "      <td>9.22</td>\n",
       "      <td>9.00</td>\n",
       "      <td>9.20</td>\n",
       "      <td>-0.410000</td>\n",
       "      <td>-4.257527</td>\n",
       "      <td>6</td>\n",
       "      <td>65</td>\n",
       "      <td>0.311286</td>\n",
       "      <td>True</td>\n",
       "      <td>REGULAR</td>\n",
       "      <td>USD</td>\n",
       "    </tr>\n",
       "    <tr>\n",
       "      <th>28</th>\n",
       "      <td>AAPL210507P00131000</td>\n",
       "      <td>2021-03-26 19:59:57</td>\n",
       "      <td>131.0</td>\n",
       "      <td>11.60</td>\n",
       "      <td>9.75</td>\n",
       "      <td>9.95</td>\n",
       "      <td>0.000000</td>\n",
       "      <td>0.000000</td>\n",
       "      <td>1</td>\n",
       "      <td>241</td>\n",
       "      <td>0.311774</td>\n",
       "      <td>True</td>\n",
       "      <td>REGULAR</td>\n",
       "      <td>USD</td>\n",
       "    </tr>\n",
       "    <tr>\n",
       "      <th>29</th>\n",
       "      <td>AAPL210507P00134000</td>\n",
       "      <td>2021-03-30 19:23:22</td>\n",
       "      <td>134.0</td>\n",
       "      <td>15.04</td>\n",
       "      <td>12.20</td>\n",
       "      <td>12.40</td>\n",
       "      <td>0.000000</td>\n",
       "      <td>0.000000</td>\n",
       "      <td>8</td>\n",
       "      <td>31</td>\n",
       "      <td>0.319099</td>\n",
       "      <td>True</td>\n",
       "      <td>REGULAR</td>\n",
       "      <td>USD</td>\n",
       "    </tr>\n",
       "    <tr>\n",
       "      <th>30</th>\n",
       "      <td>AAPL210507P00135000</td>\n",
       "      <td>2021-04-01 19:02:07</td>\n",
       "      <td>135.0</td>\n",
       "      <td>13.38</td>\n",
       "      <td>13.05</td>\n",
       "      <td>13.25</td>\n",
       "      <td>-0.040000</td>\n",
       "      <td>-0.298062</td>\n",
       "      <td>2</td>\n",
       "      <td>161</td>\n",
       "      <td>0.321296</td>\n",
       "      <td>True</td>\n",
       "      <td>REGULAR</td>\n",
       "      <td>USD</td>\n",
       "    </tr>\n",
       "    <tr>\n",
       "      <th>31</th>\n",
       "      <td>AAPL210507P00150000</td>\n",
       "      <td>2021-04-01 14:33:14</td>\n",
       "      <td>150.0</td>\n",
       "      <td>26.94</td>\n",
       "      <td>27.25</td>\n",
       "      <td>27.50</td>\n",
       "      <td>-1.779999</td>\n",
       "      <td>-6.197767</td>\n",
       "      <td>11</td>\n",
       "      <td>12</td>\n",
       "      <td>0.416754</td>\n",
       "      <td>True</td>\n",
       "      <td>REGULAR</td>\n",
       "      <td>USD</td>\n",
       "    </tr>\n",
       "  </tbody>\n",
       "</table>\n",
       "</div>"
      ],
      "text/plain": [
       "         contractSymbol       lastTradeDate  strike  lastPrice    bid    ask  \\\n",
       "0   AAPL210507P00085000 2021-03-30 19:59:08    85.0       0.15   0.11   0.14   \n",
       "1   AAPL210507P00095000 2021-04-01 17:50:58    95.0       0.26   0.22   0.26   \n",
       "2   AAPL210507P00100000 2021-04-01 19:59:56   100.0       0.34   0.32   0.36   \n",
       "3   AAPL210507P00105000 2021-04-01 19:56:30   105.0       0.54   0.51   0.55   \n",
       "4   AAPL210507P00107000 2021-04-01 19:59:56   107.0       0.66   0.64   0.66   \n",
       "5   AAPL210507P00108000 2021-04-01 19:39:58   108.0       0.75   0.71   0.75   \n",
       "6   AAPL210507P00109000 2021-04-01 17:13:13   109.0       0.84   0.79   0.84   \n",
       "7   AAPL210507P00110000 2021-04-01 19:58:29   110.0       0.93   0.90   0.95   \n",
       "8   AAPL210507P00111000 2021-04-01 19:57:46   111.0       1.02   1.02   1.08   \n",
       "9   AAPL210507P00112000 2021-04-01 19:14:52   112.0       1.24   1.16   1.22   \n",
       "10  AAPL210507P00113000 2021-04-01 19:59:06   113.0       1.39   1.32   1.38   \n",
       "11  AAPL210507P00114000 2021-04-01 19:59:06   114.0       1.58   1.51   1.57   \n",
       "12  AAPL210507P00115000 2021-04-01 19:58:29   115.0       1.79   1.72   1.79   \n",
       "13  AAPL210507P00116000 2021-04-01 19:34:14   116.0       2.04   1.96   2.03   \n",
       "14  AAPL210507P00117000 2021-04-01 19:28:22   117.0       2.30   2.24   2.31   \n",
       "15  AAPL210507P00118000 2021-04-01 19:11:37   118.0       2.74   2.55   2.62   \n",
       "16  AAPL210507P00119000 2021-04-01 19:54:01   119.0       2.94   2.90   2.97   \n",
       "17  AAPL210507P00120000 2021-04-01 19:28:22   120.0       3.50   3.25   3.35   \n",
       "18  AAPL210507P00121000 2021-04-01 19:18:12   121.0       3.75   3.65   3.80   \n",
       "19  AAPL210507P00122000 2021-04-01 19:03:46   122.0       4.19   4.15   4.25   \n",
       "20  AAPL210507P00123000 2021-04-01 19:18:12   123.0       4.84   4.65   4.70   \n",
       "21  AAPL210507P00124000 2021-04-01 19:03:55   124.0       5.40   5.15   5.30   \n",
       "22  AAPL210507P00125000 2021-04-01 19:20:08   125.0       6.00   5.70   5.85   \n",
       "23  AAPL210507P00126000 2021-04-01 17:16:49   126.0       6.50   6.30   6.45   \n",
       "24  AAPL210507P00127000 2021-03-31 17:59:01   127.0       7.35   6.90   7.10   \n",
       "25  AAPL210507P00128000 2021-04-01 19:44:03   128.0       7.95   7.60   7.75   \n",
       "26  AAPL210507P00129000 2021-03-29 18:21:09   129.0       8.65   8.30   8.45   \n",
       "27  AAPL210507P00130000 2021-04-01 16:43:08   130.0       9.22   9.00   9.20   \n",
       "28  AAPL210507P00131000 2021-03-26 19:59:57   131.0      11.60   9.75   9.95   \n",
       "29  AAPL210507P00134000 2021-03-30 19:23:22   134.0      15.04  12.20  12.40   \n",
       "30  AAPL210507P00135000 2021-04-01 19:02:07   135.0      13.38  13.05  13.25   \n",
       "31  AAPL210507P00150000 2021-04-01 14:33:14   150.0      26.94  27.25  27.50   \n",
       "\n",
       "      change  percentChange  volume  openInterest  impliedVolatility  \\\n",
       "0   0.000000       0.000000       4            45           0.566411   \n",
       "1  -0.050000     -16.129036      25           174           0.470708   \n",
       "2  -0.080000     -19.047615     180           831           0.418951   \n",
       "3  -0.140000     -20.588232     118           279           0.374274   \n",
       "4  -0.150000     -18.518515     105           450           0.356940   \n",
       "5  -0.150000     -16.666664      40           215           0.352057   \n",
       "6  -0.220000     -20.754715      18            76           0.345710   \n",
       "7  -0.300000     -24.390244     207           573           0.340583   \n",
       "8  -0.290000     -22.137402      66           182           0.335944   \n",
       "9  -0.260000     -17.333334      39           121           0.330817   \n",
       "10 -2.260000     -61.917812      50           212           0.326179   \n",
       "11 -0.390000     -19.796953     197           202           0.322394   \n",
       "12 -0.440000     -19.730944     277           294           0.319343   \n",
       "13 -0.490000     -19.367590      41           210           0.316047   \n",
       "14 -0.530000     -18.727915     126           212           0.313850   \n",
       "15 -0.340000     -11.038959      64           171           0.311774   \n",
       "16 -0.380000     -11.445780      77           521           0.310310   \n",
       "17 -0.500000     -12.500000     320           837           0.308845   \n",
       "18 -0.420000     -10.071944      71           263           0.309821   \n",
       "19 -0.760000     -15.353531     125           125           0.308601   \n",
       "20 -0.340000      -6.563701     100           179           0.305183   \n",
       "21 -0.230000      -4.085257      32           159           0.309333   \n",
       "22 -0.630000      -9.502264      80           179           0.308112   \n",
       "23 -0.350000      -5.109488      19           120           0.307990   \n",
       "24  0.000000       0.000000      37            55           0.309211   \n",
       "25 -0.630000      -7.342659      12            36           0.308357   \n",
       "26 -2.190001     -20.202957       1            41           0.308967   \n",
       "27 -0.410000      -4.257527       6            65           0.311286   \n",
       "28  0.000000       0.000000       1           241           0.311774   \n",
       "29  0.000000       0.000000       8            31           0.319099   \n",
       "30 -0.040000      -0.298062       2           161           0.321296   \n",
       "31 -1.779999      -6.197767      11            12           0.416754   \n",
       "\n",
       "    inTheMoney contractSize currency  \n",
       "0        False      REGULAR      USD  \n",
       "1        False      REGULAR      USD  \n",
       "2        False      REGULAR      USD  \n",
       "3        False      REGULAR      USD  \n",
       "4        False      REGULAR      USD  \n",
       "5        False      REGULAR      USD  \n",
       "6        False      REGULAR      USD  \n",
       "7        False      REGULAR      USD  \n",
       "8        False      REGULAR      USD  \n",
       "9        False      REGULAR      USD  \n",
       "10       False      REGULAR      USD  \n",
       "11       False      REGULAR      USD  \n",
       "12       False      REGULAR      USD  \n",
       "13       False      REGULAR      USD  \n",
       "14       False      REGULAR      USD  \n",
       "15       False      REGULAR      USD  \n",
       "16       False      REGULAR      USD  \n",
       "17       False      REGULAR      USD  \n",
       "18       False      REGULAR      USD  \n",
       "19       False      REGULAR      USD  \n",
       "20       False      REGULAR      USD  \n",
       "21        True      REGULAR      USD  \n",
       "22        True      REGULAR      USD  \n",
       "23        True      REGULAR      USD  \n",
       "24        True      REGULAR      USD  \n",
       "25        True      REGULAR      USD  \n",
       "26        True      REGULAR      USD  \n",
       "27        True      REGULAR      USD  \n",
       "28        True      REGULAR      USD  \n",
       "29        True      REGULAR      USD  \n",
       "30        True      REGULAR      USD  \n",
       "31        True      REGULAR      USD  "
      ]
     },
     "execution_count": 16,
     "metadata": {},
     "output_type": "execute_result"
    }
   ],
   "source": [
    "AAPL = yf.Ticker(\"AAPL\")\n",
    "opt = AAPL.option_chain('2021-05-07')\n",
    "opt.puts"
   ]
  },
  {
   "cell_type": "code",
   "execution_count": 17,
   "metadata": {},
   "outputs": [
    {
     "name": "stdout",
     "output_type": "stream",
     "text": [
      "[*********************100%***********************]  1 of 1 completed\n"
     ]
    }
   ],
   "source": [
    "data = yf.download(\"AAPL\", start=\"2020-03-01\", end=\"2021-03-01\")"
   ]
  },
  {
   "cell_type": "code",
   "execution_count": 18,
   "metadata": {},
   "outputs": [
    {
     "data": {
      "text/plain": [
       "Date\n",
       "2020-03-02     74.127892\n",
       "2020-03-03     71.773636\n",
       "2020-03-04     75.102829\n",
       "2020-03-05     72.666725\n",
       "2020-03-06     71.701706\n",
       "                 ...    \n",
       "2021-02-22    126.000000\n",
       "2021-02-23    125.860001\n",
       "2021-02-24    125.349998\n",
       "2021-02-25    120.989998\n",
       "2021-02-26    121.260002\n",
       "Name: Adj Close, Length: 251, dtype: float64"
      ]
     },
     "execution_count": 18,
     "metadata": {},
     "output_type": "execute_result"
    }
   ],
   "source": [
    "data['Adj Close']"
   ]
  },
  {
   "cell_type": "code",
   "execution_count": 19,
   "metadata": {},
   "outputs": [
    {
     "data": {
      "text/plain": [
       "0.45732933573445084"
      ]
     },
     "execution_count": 19,
     "metadata": {},
     "output_type": "execute_result"
    }
   ],
   "source": [
    "S = data['Adj Close'][-1]\n",
    "K = opt.puts['strike']\n",
    "T = 1/12\n",
    "r = 0.0083\n",
    "q = 0.0069\n",
    "log_return = np.log(data['Adj Close'] / data['Adj Close'].shift(1))\n",
    "vol = np.sqrt(252) * log_return.std() \n",
    "vol"
   ]
  },
  {
   "cell_type": "code",
   "execution_count": 20,
   "metadata": {},
   "outputs": [
    {
     "name": "stdout",
     "output_type": "stream",
     "text": [
      "[*********************100%***********************]  1 of 1 completed\n"
     ]
    }
   ],
   "source": [
    "data = yf.download(\"AAPL\", start=\"2020-09-01\", end=\"2021-03-01\")"
   ]
  },
  {
   "cell_type": "code",
   "execution_count": 21,
   "metadata": {},
   "outputs": [
    {
     "data": {
      "text/plain": [
       "0.37784909941441586"
      ]
     },
     "execution_count": 21,
     "metadata": {},
     "output_type": "execute_result"
    }
   ],
   "source": [
    "S = data['Adj Close'][-1]\n",
    "K = opt.puts['strike']\n",
    "T = 1/12\n",
    "r = 0.0083\n",
    "q = 0.0069\n",
    "log_return = np.log(data['Adj Close'] / data['Adj Close'].shift(1))\n",
    "vol = np.sqrt(252) * log_return.std() \n",
    "vol"
   ]
  },
  {
   "cell_type": "code",
   "execution_count": 22,
   "metadata": {},
   "outputs": [],
   "source": [
    "S0 = 121             # spot stock price\n",
    "K = 120               # strike\n",
    "T = 1/12                 # maturity \n",
    "r = 0.0083                 # risk free rate \n",
    "sig = 0.46               # diffusion coefficient or volatility\n",
    "N = 3                   # number of periods or number of time steps  \n",
    "payoff = \"put\"          # payoff"
   ]
  },
  {
   "cell_type": "code",
   "execution_count": 23,
   "metadata": {},
   "outputs": [],
   "source": [
    "dT = float(T) / N                             # Delta t\n",
    "u = np.exp(sig * np.sqrt(dT))                 # up factor\n",
    "d = 1.0 / u    "
   ]
  },
  {
   "cell_type": "code",
   "execution_count": 24,
   "metadata": {},
   "outputs": [],
   "source": [
    "S = np.zeros((N + 1, N + 1))\n",
    "S[0, 0] = S0\n",
    "z = 1\n",
    "for t in range(1, N + 1):\n",
    "    for i in range(z):\n",
    "        S[i, t] = S[i, t-1] * u\n",
    "        S[i+1, t] = S[i, t-1] * d\n",
    "    z += 1"
   ]
  },
  {
   "cell_type": "code",
   "execution_count": 25,
   "metadata": {},
   "outputs": [
    {
     "data": {
      "text/plain": [
       "array([[121.        , 130.64153681, 141.05133173, 152.2906012 ],\n",
       "       [  0.        , 112.07002274, 121.        , 130.64153681],\n",
       "       [  0.        ,   0.        , 103.79909087, 112.07002274],\n",
       "       [  0.        ,   0.        ,   0.        ,  96.1385659 ]])"
      ]
     },
     "execution_count": 25,
     "metadata": {},
     "output_type": "execute_result"
    }
   ],
   "source": [
    "S"
   ]
  },
  {
   "cell_type": "code",
   "execution_count": 26,
   "metadata": {},
   "outputs": [
    {
     "data": {
      "text/plain": [
       "0.4823450403177774"
      ]
     },
     "execution_count": 26,
     "metadata": {},
     "output_type": "execute_result"
    }
   ],
   "source": [
    "a = np.exp(r * dT)    # risk free compound return\n",
    "p = (a - d)/ (u - d)  # risk neutral up probability\n",
    "q = 1.0 - p           # risk neutral down probability\n",
    "p"
   ]
  },
  {
   "cell_type": "code",
   "execution_count": 27,
   "metadata": {},
   "outputs": [
    {
     "data": {
      "text/plain": [
       "array([[ 0.        ,  0.        ,  0.        ,  0.        ],\n",
       "       [ 0.        ,  0.        ,  0.        ,  0.        ],\n",
       "       [ 0.        ,  0.        ,  0.        ,  7.92997726],\n",
       "       [ 0.        ,  0.        ,  0.        , 23.8614341 ]])"
      ]
     },
     "execution_count": 27,
     "metadata": {},
     "output_type": "execute_result"
    }
   ],
   "source": [
    "S_T = S[:,-1]\n",
    "V = np.zeros((N + 1, N + 1))\n",
    "if payoff ==\"call\":\n",
    "    V[:,-1] = np.maximum(S_T-K, 0.0)\n",
    "elif payoff ==\"put\":\n",
    "    V[:,-1] = np.maximum(K-S_T, 0.0)\n",
    "V"
   ]
  },
  {
   "cell_type": "code",
   "execution_count": 28,
   "metadata": {},
   "outputs": [
    {
     "name": "stdout",
     "output_type": "stream",
     "text": [
      "Binary put 1.0\n"
     ]
    }
   ],
   "source": [
    "pp = (K - S[-1,:])>0\n",
    "bpp = np.mean(np.maximum(pp.astype(int),0))\n",
    "print('Binary put', str(bpp))"
   ]
  },
  {
   "cell_type": "code",
   "execution_count": 29,
   "metadata": {},
   "outputs": [
    {
     "name": "stdout",
     "output_type": "stream",
     "text": [
      "[*********************100%***********************]  1 of 1 completed\n"
     ]
    }
   ],
   "source": [
    "data = yf.download(\"AAPL\", start=\"2020-03-01\", end=\"2021-03-01\")"
   ]
  },
  {
   "cell_type": "code",
   "execution_count": 30,
   "metadata": {},
   "outputs": [
    {
     "data": {
      "text/plain": [
       "Date\n",
       "2020-03-02     74.127892\n",
       "2020-03-03     71.773636\n",
       "2020-03-04     75.102829\n",
       "2020-03-05     72.666725\n",
       "2020-03-06     71.701706\n",
       "                 ...    \n",
       "2021-02-22    126.000000\n",
       "2021-02-23    125.860001\n",
       "2021-02-24    125.349998\n",
       "2021-02-25    120.989998\n",
       "2021-02-26    121.260002\n",
       "Name: Adj Close, Length: 251, dtype: float64"
      ]
     },
     "execution_count": 30,
     "metadata": {},
     "output_type": "execute_result"
    }
   ],
   "source": [
    "data['Adj Close']"
   ]
  },
  {
   "cell_type": "code",
   "execution_count": 31,
   "metadata": {},
   "outputs": [
    {
     "data": {
      "text/plain": [
       "0.45732933573445084"
      ]
     },
     "execution_count": 31,
     "metadata": {},
     "output_type": "execute_result"
    }
   ],
   "source": [
    "S = data['Adj Close'][-1]\n",
    "K = opt.puts['strike']\n",
    "T = 1/12\n",
    "r = 0.0083\n",
    "q = 0.0069\n",
    "log_return = np.log(data['Adj Close'] / data['Adj Close'].shift(1))\n",
    "vol = np.sqrt(252) * log_return.std() \n",
    "vol"
   ]
  },
  {
   "cell_type": "code",
   "execution_count": 32,
   "metadata": {},
   "outputs": [],
   "source": [
    "def mcs_simulation_np(p):\n",
    "    M = p\n",
    "    I = p\n",
    "    dt = T / M \n",
    "    S = np.zeros((M + 1, I))\n",
    "    S[0] = S0 \n",
    "    rn = np.random.standard_normal(S.shape) \n",
    "    for t in range(1, M + 1): \n",
    "        S[t] = S[t-1] * np.exp((r - sigma ** 2 / 2) * dt + sigma * np.sqrt(dt) * rn[t]) \n",
    "    return S\n"
   ]
  },
  {
   "cell_type": "code",
   "execution_count": 33,
   "metadata": {},
   "outputs": [],
   "source": [
    "T = 1/12\n",
    "r = 0.0083\n",
    "sigma = 0.46\n",
    "S0 = 121\n",
    "K = 120"
   ]
  },
  {
   "cell_type": "code",
   "execution_count": 34,
   "metadata": {},
   "outputs": [],
   "source": [
    "S = mcs_simulation_np(1000)"
   ]
  },
  {
   "cell_type": "code",
   "execution_count": 35,
   "metadata": {},
   "outputs": [
    {
     "data": {
      "text/plain": [
       "array([[121.        , 121.97848167, 121.67393438, ..., 123.06171565,\n",
       "        123.18124507, 122.19840213],\n",
       "       [121.        , 122.51412848, 121.99984819, ..., 103.03458036,\n",
       "        103.18722906, 102.95906752],\n",
       "       [121.        , 120.51555517, 120.49764921, ..., 122.79949624,\n",
       "        123.01497788, 123.97375196],\n",
       "       ...,\n",
       "       [121.        , 121.79848158, 121.81431197, ..., 135.99454443,\n",
       "        135.62312545, 136.18765169],\n",
       "       [121.        , 120.40355573, 119.78760196, ..., 125.04434563,\n",
       "        124.95936554, 125.95056236],\n",
       "       [121.        , 120.42247097, 120.6733733 , ..., 108.53690806,\n",
       "        108.73032601, 108.3391547 ]])"
      ]
     },
     "execution_count": 35,
     "metadata": {},
     "output_type": "execute_result"
    }
   ],
   "source": [
    "S = np.transpose(S)\n",
    "S"
   ]
  },
  {
   "cell_type": "code",
   "execution_count": 36,
   "metadata": {},
   "outputs": [
    {
     "name": "stdout",
     "output_type": "stream",
     "text": [
      "Binary put 0.9820179820179821\n"
     ]
    }
   ],
   "source": [
    "pp = (K - S[-1,:])>0\n",
    "bpp = np.mean(np.maximum(pp.astype(int),0))\n",
    "print('Binary put', str(bpp))"
   ]
  },
  {
   "cell_type": "code",
   "execution_count": 37,
   "metadata": {},
   "outputs": [],
   "source": [
    "def delta(S, K, T, r, q, vol, payoff):\n",
    "    \n",
    "    d1 = (np.log(S / K) + (r - q + 0.5 * vol ** 2) * T) / (vol * np.sqrt(T))\n",
    "    if payoff == \"call\":\n",
    "        delta = np.exp(-q * T) * si.norm.cdf(d1, 0.0, 1.0)\n",
    "    elif payoff == \"put\":\n",
    "        delta =  - np.exp(-q * T) * si.norm.cdf(-d1, 0.0, 1.0)\n",
    "    \n",
    "    return delta"
   ]
  },
  {
   "cell_type": "code",
   "execution_count": 38,
   "metadata": {},
   "outputs": [
    {
     "data": {
      "text/plain": [
       "-0.44811674136003143"
      ]
     },
     "execution_count": 38,
     "metadata": {},
     "output_type": "execute_result"
    }
   ],
   "source": [
    "delta(121, 120, 1/12, 0.0083, 0.0069, 0.46, 'put')"
   ]
  },
  {
   "cell_type": "code",
   "execution_count": 39,
   "metadata": {},
   "outputs": [],
   "source": [
    "S = np.linspace(50,150,11)\n",
    "Delta_Call = np.zeros((len(S),1))\n",
    "Delta_Put = np.zeros((len(S),1))\n",
    "for i in range(len(S)):\n",
    "    Delta_Call [i] = delta(S[i], 100, 1, 0.05, 0.03, 0.25, 'call')\n",
    "    Delta_Put [i] = delta(S[i], 100, 1, 0.05, 0.03, 0.25, 'put')"
   ]
  },
  {
   "cell_type": "code",
   "execution_count": 40,
   "metadata": {},
   "outputs": [
    {
     "data": {
      "text/plain": [
       "<matplotlib.legend.Legend at 0x1f83aeb89a0>"
      ]
     },
     "execution_count": 40,
     "metadata": {},
     "output_type": "execute_result"
    },
    {
     "data": {
      "image/png": "[encoded data removed]",
      "text/plain": [
       "<Figure size 432x288 with 1 Axes>"
      ]
     },
     "metadata": {
      "needs_background": "light"
     },
     "output_type": "display_data"
    }
   ],
   "source": [
    "fig = plt.figure()\n",
    "plt.plot(S, Delta_Call, '-')\n",
    "plt.plot(S, Delta_Put, '--')\n",
    "plt.grid()\n",
    "plt.xlabel('Stock Price')\n",
    "plt.ylabel('Delta')\n",
    "plt.title('Delta')\n",
    "plt.legend(['Delta for Call','Delta for Put'])"
   ]
  },
  {
   "cell_type": "code",
   "execution_count": 42,
   "metadata": {},
   "outputs": [],
   "source": [
    "def gamma(S, K, T, r, q, vol, payoff):\n",
    "    \n",
    "    d1 = (np.log(S / K) + (r - q + 0.5 * vol ** 2) * T) / (vol * np.sqrt(T))\n",
    "    gamma = np.exp(-r * T) * si.norm.pdf(d1, 0.0, 1.0) / (vol * S * np.sqrt(T))\n",
    "    \n",
    "    return gamma"
   ]
  },
  {
   "cell_type": "code",
   "execution_count": 43,
   "metadata": {},
   "outputs": [
    {
     "data": {
      "text/plain": [
       "0.02460369449451104"
      ]
     },
     "execution_count": 43,
     "metadata": {},
     "output_type": "execute_result"
    }
   ],
   "source": [
    "gamma(121, 120, 1/12, 0.0083, 0.0069, 0.46, 'put')"
   ]
  },
  {
   "cell_type": "code",
   "execution_count": 44,
   "metadata": {},
   "outputs": [],
   "source": [
    "S = np.linspace(50,150,11)\n",
    "Gamma = np.zeros((len(S),1))\n",
    "for i in range(len(S)):\n",
    "    Gamma [i] = gamma(S[i], 121, 1/12, 0.0083, 0.0069, 0.46, 'put')"
   ]
  },
  {
   "cell_type": "code",
   "execution_count": 45,
   "metadata": {},
   "outputs": [
    {
     "data": {
      "text/plain": [
       "<matplotlib.legend.Legend at 0x1f83aed93a0>"
      ]
     },
     "execution_count": 45,
     "metadata": {},
     "output_type": "execute_result"
    },
    {
     "data": {
      "image/png": "[encoded data removed]",
      "text/plain": [
       "<Figure size 432x288 with 1 Axes>"
      ]
     },
     "metadata": {
      "needs_background": "light"
     },
     "output_type": "display_data"
    }
   ],
   "source": [
    "fig = plt.figure()\n",
    "plt.plot(S, Gamma, '-')\n",
    "plt.grid()\n",
    "plt.xlabel('Stock Price')\n",
    "plt.ylabel('Gamma')\n",
    "plt.title('Gamma')\n",
    "plt.legend(['Gamma for Call and Put'])"
   ]
  },
  {
   "cell_type": "code",
   "execution_count": 46,
   "metadata": {},
   "outputs": [],
   "source": [
    "def speed(S, K, T, r, q, vol, payoff):\n",
    "    \n",
    "    d1 = (np.log(S / K) + (r - q + 0.5 * vol ** 2) * T) / (vol * np.sqrt(T))\n",
    "    speed = np.exp(-q * T) * si.norm.pdf(d1, 0.0, 1.0) / ((vol **2) * (S**2) * np.sqrt(T)) * (d1 + vol * np.sqrt(T))\n",
    "    \n",
    "    return speed"
   ]
  },
  {
   "cell_type": "code",
   "execution_count": 47,
   "metadata": {},
   "outputs": [
    {
     "data": {
      "text/plain": [
       "0.00011607430723121085"
      ]
     },
     "execution_count": 47,
     "metadata": {},
     "output_type": "execute_result"
    }
   ],
   "source": [
    "speed(121, 120, 1/12, 0.0083, 0.0069, 0.46, 'put')"
   ]
  },
  {
   "cell_type": "code",
   "execution_count": 48,
   "metadata": {},
   "outputs": [],
   "source": [
    "S = np.linspace(50,150,11)\n",
    "Speed = np.zeros((len(S),1))\n",
    "for i in range(len(S)):\n",
    "    Speed [i] = speed(S[i], 121, 1/12, 0.0083, 0.0069, 0.46, 'put')"
   ]
  },
  {
   "cell_type": "code",
   "execution_count": 49,
   "metadata": {},
   "outputs": [
    {
     "data": {
      "text/plain": [
       "<matplotlib.legend.Legend at 0x1f83af4d670>"
      ]
     },
     "execution_count": 49,
     "metadata": {},
     "output_type": "execute_result"
    },
    {
     "data": {
      "image/png": "[encoded data removed]",
      "text/plain": [
       "<Figure size 432x288 with 1 Axes>"
      ]
     },
     "metadata": {
      "needs_background": "light"
     },
     "output_type": "display_data"
    }
   ],
   "source": [
    "fig = plt.figure()\n",
    "plt.plot(S, Speed, '-')\n",
    "plt.grid()\n",
    "plt.xlabel('Stock Price')\n",
    "plt.ylabel('Speed')\n",
    "plt.title('Speed')\n",
    "plt.legend(['Speed for Call and Put'])"
   ]
  },
  {
   "cell_type": "code",
   "execution_count": 50,
   "metadata": {},
   "outputs": [],
   "source": [
    "def theta(S, K, T, r, q, vol, payoff):\n",
    "    \n",
    "    d1 = (np.log(S / K) + (r - q + 0.5 * vol ** 2) * T) / (vol * np.sqrt(T))\n",
    "    d2 = (np.log(S / K) + (r - q - 0.5 * vol ** 2) * T) / (vol * np.sqrt(T))\n",
    "    if payoff == \"call\":\n",
    "        theta = vol * S * np.exp(-q * T) * si.norm.pdf(d1, 0.0, 1.0) / (2 * np.sqrt(T)) - q * S * np.exp(-q * T) * si.norm.cdf(d1, 0.0, 1.0) + r * K * np.exp(-r * T) * si.norm.cdf(d2, 0.0, 1.0)\n",
    "    elif payoff == \"put\":\n",
    "        theta = vol * S * np.exp(-q * T) * si.norm.pdf(-d1, 0.0, 1.0) / (2 * np.sqrt(T)) - q * S * np.exp(-q * T) * si.norm.cdf(-d1, 0.0, 1.0) + r * K * np.exp(-r * T) * si.norm.cdf(-d2, 0.0, 1.0)\n",
    "    \n",
    "    return theta"
   ]
  },
  {
   "cell_type": "code",
   "execution_count": 51,
   "metadata": {},
   "outputs": [
    {
     "data": {
      "text/plain": [
       "38.24072998996294"
      ]
     },
     "execution_count": 51,
     "metadata": {},
     "output_type": "execute_result"
    }
   ],
   "source": [
    "theta(121, 120, 1/12, 0.0083, 0.0069, 0.46, 'put')"
   ]
  },
  {
   "cell_type": "code",
   "execution_count": 52,
   "metadata": {},
   "outputs": [],
   "source": [
    "T = np.linspace(0.25,3,12)\n",
    "Theta_Call = np.zeros((len(T),1))\n",
    "Theta_Put = np.zeros((len(T),1))\n",
    "for i in range(len(T)):\n",
    "    Theta_Call [i] = theta(121, 120, T[i], 0.0083, 0.0069, 0.46, 'call')\n",
    "    Theta_Put [i] = theta(121, 120, T[i], 0.0083, 0.0069, 0.46, 'put')"
   ]
  },
  {
   "cell_type": "code",
   "execution_count": 53,
   "metadata": {},
   "outputs": [
    {
     "data": {
      "text/plain": [
       "<matplotlib.legend.Legend at 0x1f83afdacd0>"
      ]
     },
     "execution_count": 53,
     "metadata": {},
     "output_type": "execute_result"
    },
    {
     "data": {
      "image/png": "[encoded data removed]",
      "text/plain": [
       "<Figure size 432x288 with 1 Axes>"
      ]
     },
     "metadata": {
      "needs_background": "light"
     },
     "output_type": "display_data"
    }
   ],
   "source": [
    "fig = plt.figure()\n",
    "plt.plot(T, Theta_Call, '-')\n",
    "plt.plot(T, Theta_Put, '-')\n",
    "plt.grid()\n",
    "plt.xlabel('Time to Expiry')\n",
    "plt.ylabel('Theta')\n",
    "plt.title('Theta')\n",
    "plt.legend(['Theta for Call', 'Theta for Put'])"
   ]
  },
  {
   "cell_type": "code",
   "execution_count": 54,
   "metadata": {},
   "outputs": [],
   "source": [
    "def vega(S, K, T, r, q, vol, payoff):\n",
    "    \n",
    "    d1 = (np.log(S / K) + (r - q + 0.5 * vol ** 2) * T) / (vol * np.sqrt(T))\n",
    "    vega = S * np.sqrt(T) * np.exp(-q * T) * si.norm.pdf(d1, 0.0, 1.0)\n",
    "    \n",
    "    return vega"
   ]
  },
  {
   "cell_type": "code",
   "execution_count": 55,
   "metadata": {},
   "outputs": [
    {
     "data": {
      "text/plain": [
       "13.81014758184436"
      ]
     },
     "execution_count": 55,
     "metadata": {},
     "output_type": "execute_result"
    }
   ],
   "source": [
    "vega(121, 120, 1/12, 0.0083, 0.0069, 0.46, 'put')"
   ]
  },
  {
   "cell_type": "code",
   "execution_count": 56,
   "metadata": {},
   "outputs": [],
   "source": [
    "vol = np.linspace(0.1,0.4,13)\n",
    "Vega = np.zeros((len(vol),1))\n",
    "for i in range(len(vol)):\n",
    "    Vega [i] = vega(121, 120, 1/12, 0.0083, 0.0069, vol[i], 'put')"
   ]
  },
  {
   "cell_type": "code",
   "execution_count": 57,
   "metadata": {},
   "outputs": [
    {
     "data": {
      "text/plain": [
       "<matplotlib.legend.Legend at 0x1f83b03ca60>"
      ]
     },
     "execution_count": 57,
     "metadata": {},
     "output_type": "execute_result"
    },
    {
     "data": {
      "image/png": "[encoded data removed]",
      "text/plain": [
       "<Figure size 432x288 with 1 Axes>"
      ]
     },
     "metadata": {
      "needs_background": "light"
     },
     "output_type": "display_data"
    }
   ],
   "source": [
    "fig = plt.figure()\n",
    "plt.plot(vol, Vega, '-')\n",
    "plt.grid()\n",
    "plt.xlabel('Volatility')\n",
    "plt.ylabel('Vega')\n",
    "plt.title('Vega')\n",
    "plt.legend(['Vega for Call and Put'])"
   ]
  },
  {
   "cell_type": "code",
   "execution_count": null,
   "metadata": {},
   "outputs": [],
   "source": []
  }
 ],
 "metadata": {
  "kernelspec": {
   "display_name": "Python 3",
   "language": "python",
   "name": "python3"
  },
  "language_info": {
   "codemirror_mode": {
    "name": "ipython",
    "version": 3
   },
   "file_extension": ".py",
   "mimetype": "text/x-python",
   "name": "python",
   "nbconvert_exporter": "python",
   "pygments_lexer": "ipython3",
   "version": "3.8.5"
  }
 },
 "nbformat": 4,
 "nbformat_minor": 4
}
