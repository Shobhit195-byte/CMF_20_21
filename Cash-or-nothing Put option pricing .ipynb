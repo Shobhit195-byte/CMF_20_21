{
 "cells": [
  {
   "cell_type": "code",
   "execution_count": 1,
   "metadata": {},
   "outputs": [
    {
     "name": "stdout",
     "output_type": "stream",
     "text": [
      "Requirement already satisfied: yfinance in c:\\users\\shobh\\anaconda3\\lib\\site-packages (0.1.55)\n",
      "Requirement already satisfied: pandas>=0.24 in c:\\users\\shobh\\anaconda3\\lib\\site-packages (from yfinance) (1.1.3)\n",
      "Requirement already satisfied: multitasking>=0.0.7 in c:\\users\\shobh\\anaconda3\\lib\\site-packages (from yfinance) (0.0.9)\n",
      "Requirement already satisfied: numpy>=1.15 in c:\\users\\shobh\\anaconda3\\lib\\site-packages (from yfinance) (1.19.2)\n",
      "Requirement already satisfied: requests>=2.20 in c:\\users\\shobh\\anaconda3\\lib\\site-packages (from yfinance) (2.24.0)\n",
      "Requirement already satisfied: lxml>=4.5.1 in c:\\users\\shobh\\anaconda3\\lib\\site-packages (from yfinance) (4.6.1)\n",
      "Requirement already satisfied: pytz>=2017.2 in c:\\users\\shobh\\anaconda3\\lib\\site-packages (from pandas>=0.24->yfinance) (2020.1)\n",
      "Requirement already satisfied: python-dateutil>=2.7.3 in c:\\users\\shobh\\anaconda3\\lib\\site-packages (from pandas>=0.24->yfinance) (2.8.1)\n",
      "Requirement already satisfied: chardet<4,>=3.0.2 in c:\\users\\shobh\\anaconda3\\lib\\site-packages (from requests>=2.20->yfinance) (3.0.4)\n",
      "Requirement already satisfied: urllib3!=1.25.0,!=1.25.1,<1.26,>=1.21.1 in c:\\users\\shobh\\anaconda3\\lib\\site-packages (from requests>=2.20->yfinance) (1.25.11)\n",
      "Requirement already satisfied: certifi>=2017.4.17 in c:\\users\\shobh\\anaconda3\\lib\\site-packages (from requests>=2.20->yfinance) (2020.6.20)\n",
      "Requirement already satisfied: idna<3,>=2.5 in c:\\users\\shobh\\anaconda3\\lib\\site-packages (from requests>=2.20->yfinance) (2.10)\n",
      "Requirement already satisfied: six>=1.5 in c:\\users\\shobh\\anaconda3\\lib\\site-packages (from python-dateutil>=2.7.3->pandas>=0.24->yfinance) (1.15.0)\n",
      "Note: you may need to restart the kernel to use updated packages.\n"
     ]
    }
   ],
   "source": [
    "pip install yfinance\n"
   ]
  },
  {
   "cell_type": "code",
   "execution_count": 2,
   "metadata": {},
   "outputs": [],
   "source": [
    "import yfinance as yf\n",
    "import numpy as np\n",
    "import pandas as pd\n",
    "import matplotlib as mpl"
   ]
  },
  {
   "cell_type": "code",
   "execution_count": 3,
   "metadata": {},
   "outputs": [
    {
     "name": "stdout",
     "output_type": "stream",
     "text": [
      "[*********************100%***********************]  2 of 2 completed\n"
     ]
    }
   ],
   "source": [
    "initial_data = yf.download(\"AAPL ^VIX\", start =\"2020-03-01\", end=\"2021-03-01\")"
   ]
  },
  {
   "cell_type": "code",
   "execution_count": 4,
   "metadata": {},
   "outputs": [
    {
     "data": {
      "text/html": [
       "<div>\n",
       "<style scoped>\n",
       "    .dataframe tbody tr th:only-of-type {\n",
       "        vertical-align: middle;\n",
       "    }\n",
       "\n",
       "    .dataframe tbody tr th {\n",
       "        vertical-align: top;\n",
       "    }\n",
       "\n",
       "    .dataframe thead tr th {\n",
       "        text-align: left;\n",
       "    }\n",
       "\n",
       "    .dataframe thead tr:last-of-type th {\n",
       "        text-align: right;\n",
       "    }\n",
       "</style>\n",
       "<table border=\"1\" class=\"dataframe\">\n",
       "  <thead>\n",
       "    <tr>\n",
       "      <th></th>\n",
       "      <th colspan=\"2\" halign=\"left\">Adj Close</th>\n",
       "      <th colspan=\"2\" halign=\"left\">Close</th>\n",
       "      <th colspan=\"2\" halign=\"left\">High</th>\n",
       "      <th colspan=\"2\" halign=\"left\">Low</th>\n",
       "      <th colspan=\"2\" halign=\"left\">Open</th>\n",
       "      <th colspan=\"2\" halign=\"left\">Volume</th>\n",
       "    </tr>\n",
       "    <tr>\n",
       "      <th></th>\n",
       "      <th>AAPL</th>\n",
       "      <th>^VIX</th>\n",
       "      <th>AAPL</th>\n",
       "      <th>^VIX</th>\n",
       "      <th>AAPL</th>\n",
       "      <th>^VIX</th>\n",
       "      <th>AAPL</th>\n",
       "      <th>^VIX</th>\n",
       "      <th>AAPL</th>\n",
       "      <th>^VIX</th>\n",
       "      <th>AAPL</th>\n",
       "      <th>^VIX</th>\n",
       "    </tr>\n",
       "    <tr>\n",
       "      <th>Date</th>\n",
       "      <th></th>\n",
       "      <th></th>\n",
       "      <th></th>\n",
       "      <th></th>\n",
       "      <th></th>\n",
       "      <th></th>\n",
       "      <th></th>\n",
       "      <th></th>\n",
       "      <th></th>\n",
       "      <th></th>\n",
       "      <th></th>\n",
       "      <th></th>\n",
       "    </tr>\n",
       "  </thead>\n",
       "  <tbody>\n",
       "    <tr>\n",
       "      <th>2020-03-02</th>\n",
       "      <td>74.127892</td>\n",
       "      <td>33.419998</td>\n",
       "      <td>74.702499</td>\n",
       "      <td>33.419998</td>\n",
       "      <td>75.360001</td>\n",
       "      <td>40.410000</td>\n",
       "      <td>69.430000</td>\n",
       "      <td>31.500000</td>\n",
       "      <td>70.570000</td>\n",
       "      <td>38.540001</td>\n",
       "      <td>341397200</td>\n",
       "      <td>0</td>\n",
       "    </tr>\n",
       "    <tr>\n",
       "      <th>2020-03-03</th>\n",
       "      <td>71.773636</td>\n",
       "      <td>36.820000</td>\n",
       "      <td>72.330002</td>\n",
       "      <td>36.820000</td>\n",
       "      <td>76.000000</td>\n",
       "      <td>41.060001</td>\n",
       "      <td>71.449997</td>\n",
       "      <td>24.930000</td>\n",
       "      <td>75.917503</td>\n",
       "      <td>33.650002</td>\n",
       "      <td>319475600</td>\n",
       "      <td>0</td>\n",
       "    </tr>\n",
       "    <tr>\n",
       "      <th>2020-03-04</th>\n",
       "      <td>75.102829</td>\n",
       "      <td>31.990000</td>\n",
       "      <td>75.684998</td>\n",
       "      <td>31.990000</td>\n",
       "      <td>75.849998</td>\n",
       "      <td>35.580002</td>\n",
       "      <td>73.282501</td>\n",
       "      <td>30.299999</td>\n",
       "      <td>74.110001</td>\n",
       "      <td>34.439999</td>\n",
       "      <td>219178400</td>\n",
       "      <td>0</td>\n",
       "    </tr>\n",
       "    <tr>\n",
       "      <th>2020-03-05</th>\n",
       "      <td>72.666725</td>\n",
       "      <td>39.619999</td>\n",
       "      <td>73.230003</td>\n",
       "      <td>39.619999</td>\n",
       "      <td>74.887497</td>\n",
       "      <td>42.840000</td>\n",
       "      <td>72.852501</td>\n",
       "      <td>33.540001</td>\n",
       "      <td>73.879997</td>\n",
       "      <td>33.610001</td>\n",
       "      <td>187572800</td>\n",
       "      <td>0</td>\n",
       "    </tr>\n",
       "    <tr>\n",
       "      <th>2020-03-06</th>\n",
       "      <td>71.701706</td>\n",
       "      <td>41.939999</td>\n",
       "      <td>72.257500</td>\n",
       "      <td>41.939999</td>\n",
       "      <td>72.705002</td>\n",
       "      <td>54.389999</td>\n",
       "      <td>70.307503</td>\n",
       "      <td>40.840000</td>\n",
       "      <td>70.500000</td>\n",
       "      <td>48.930000</td>\n",
       "      <td>226176800</td>\n",
       "      <td>0</td>\n",
       "    </tr>\n",
       "  </tbody>\n",
       "</table>\n",
       "</div>"
      ],
      "text/plain": [
       "            Adj Close                 Close                  High             \\\n",
       "                 AAPL       ^VIX       AAPL       ^VIX       AAPL       ^VIX   \n",
       "Date                                                                           \n",
       "2020-03-02  74.127892  33.419998  74.702499  33.419998  75.360001  40.410000   \n",
       "2020-03-03  71.773636  36.820000  72.330002  36.820000  76.000000  41.060001   \n",
       "2020-03-04  75.102829  31.990000  75.684998  31.990000  75.849998  35.580002   \n",
       "2020-03-05  72.666725  39.619999  73.230003  39.619999  74.887497  42.840000   \n",
       "2020-03-06  71.701706  41.939999  72.257500  41.939999  72.705002  54.389999   \n",
       "\n",
       "                  Low                  Open                Volume       \n",
       "                 AAPL       ^VIX       AAPL       ^VIX       AAPL ^VIX  \n",
       "Date                                                                    \n",
       "2020-03-02  69.430000  31.500000  70.570000  38.540001  341397200    0  \n",
       "2020-03-03  71.449997  24.930000  75.917503  33.650002  319475600    0  \n",
       "2020-03-04  73.282501  30.299999  74.110001  34.439999  219178400    0  \n",
       "2020-03-05  72.852501  33.540001  73.879997  33.610001  187572800    0  \n",
       "2020-03-06  70.307503  40.840000  70.500000  48.930000  226176800    0  "
      ]
     },
     "execution_count": 4,
     "metadata": {},
     "output_type": "execute_result"
    }
   ],
   "source": [
    "initial_data.head()"
   ]
  },
  {
   "cell_type": "code",
   "execution_count": 5,
   "metadata": {},
   "outputs": [
    {
     "data": {
      "text/html": [
       "<div>\n",
       "<style scoped>\n",
       "    .dataframe tbody tr th:only-of-type {\n",
       "        vertical-align: middle;\n",
       "    }\n",
       "\n",
       "    .dataframe tbody tr th {\n",
       "        vertical-align: top;\n",
       "    }\n",
       "\n",
       "    .dataframe thead th {\n",
       "        text-align: right;\n",
       "    }\n",
       "</style>\n",
       "<table border=\"1\" class=\"dataframe\">\n",
       "  <thead>\n",
       "    <tr style=\"text-align: right;\">\n",
       "      <th></th>\n",
       "      <th>AAPL</th>\n",
       "      <th>^VIX</th>\n",
       "    </tr>\n",
       "    <tr>\n",
       "      <th>Date</th>\n",
       "      <th></th>\n",
       "      <th></th>\n",
       "    </tr>\n",
       "  </thead>\n",
       "  <tbody>\n",
       "    <tr>\n",
       "      <th>2020-03-02</th>\n",
       "      <td>74.127892</td>\n",
       "      <td>33.419998</td>\n",
       "    </tr>\n",
       "    <tr>\n",
       "      <th>2020-03-03</th>\n",
       "      <td>71.773636</td>\n",
       "      <td>36.820000</td>\n",
       "    </tr>\n",
       "    <tr>\n",
       "      <th>2020-03-04</th>\n",
       "      <td>75.102829</td>\n",
       "      <td>31.990000</td>\n",
       "    </tr>\n",
       "    <tr>\n",
       "      <th>2020-03-05</th>\n",
       "      <td>72.666725</td>\n",
       "      <td>39.619999</td>\n",
       "    </tr>\n",
       "    <tr>\n",
       "      <th>2020-03-06</th>\n",
       "      <td>71.701706</td>\n",
       "      <td>41.939999</td>\n",
       "    </tr>\n",
       "  </tbody>\n",
       "</table>\n",
       "</div>"
      ],
      "text/plain": [
       "                 AAPL       ^VIX\n",
       "Date                            \n",
       "2020-03-02  74.127892  33.419998\n",
       "2020-03-03  71.773636  36.820000\n",
       "2020-03-04  75.102829  31.990000\n",
       "2020-03-05  72.666725  39.619999\n",
       "2020-03-06  71.701706  41.939999"
      ]
     },
     "execution_count": 5,
     "metadata": {},
     "output_type": "execute_result"
    }
   ],
   "source": [
    "initial_data['Adj Close'].head()"
   ]
  },
  {
   "cell_type": "code",
   "execution_count": 6,
   "metadata": {},
   "outputs": [
    {
     "name": "stdout",
     "output_type": "stream",
     "text": [
      "<class 'pandas.core.frame.DataFrame'>\n",
      "DatetimeIndex: 251 entries, 2020-03-02 to 2021-02-26\n",
      "Data columns (total 2 columns):\n",
      " #   Column  Non-Null Count  Dtype  \n",
      "---  ------  --------------  -----  \n",
      " 0   AAPL    251 non-null    float64\n",
      " 1   ^VIX    251 non-null    float64\n",
      "dtypes: float64(2)\n",
      "memory usage: 5.9 KB\n"
     ]
    }
   ],
   "source": [
    "data =  initial_data['Adj Close']\n",
    "data.info()"
   ]
  },
  {
   "cell_type": "code",
   "execution_count": 7,
   "metadata": {},
   "outputs": [
    {
     "data": {
      "text/html": [
       "<div>\n",
       "<style scoped>\n",
       "    .dataframe tbody tr th:only-of-type {\n",
       "        vertical-align: middle;\n",
       "    }\n",
       "\n",
       "    .dataframe tbody tr th {\n",
       "        vertical-align: top;\n",
       "    }\n",
       "\n",
       "    .dataframe thead th {\n",
       "        text-align: right;\n",
       "    }\n",
       "</style>\n",
       "<table border=\"1\" class=\"dataframe\">\n",
       "  <thead>\n",
       "    <tr style=\"text-align: right;\">\n",
       "      <th></th>\n",
       "      <th>AAPL</th>\n",
       "      <th>^VIX</th>\n",
       "    </tr>\n",
       "    <tr>\n",
       "      <th>Date</th>\n",
       "      <th></th>\n",
       "      <th></th>\n",
       "    </tr>\n",
       "  </thead>\n",
       "  <tbody>\n",
       "    <tr>\n",
       "      <th>2020-03-02</th>\n",
       "      <td>74.127892</td>\n",
       "      <td>33.419998</td>\n",
       "    </tr>\n",
       "    <tr>\n",
       "      <th>2020-03-03</th>\n",
       "      <td>71.773636</td>\n",
       "      <td>36.820000</td>\n",
       "    </tr>\n",
       "    <tr>\n",
       "      <th>2020-03-04</th>\n",
       "      <td>75.102829</td>\n",
       "      <td>31.990000</td>\n",
       "    </tr>\n",
       "    <tr>\n",
       "      <th>2020-03-05</th>\n",
       "      <td>72.666725</td>\n",
       "      <td>39.619999</td>\n",
       "    </tr>\n",
       "    <tr>\n",
       "      <th>2020-03-06</th>\n",
       "      <td>71.701706</td>\n",
       "      <td>41.939999</td>\n",
       "    </tr>\n",
       "  </tbody>\n",
       "</table>\n",
       "</div>"
      ],
      "text/plain": [
       "                 AAPL       ^VIX\n",
       "Date                            \n",
       "2020-03-02  74.127892  33.419998\n",
       "2020-03-03  71.773636  36.820000\n",
       "2020-03-04  75.102829  31.990000\n",
       "2020-03-05  72.666725  39.619999\n",
       "2020-03-06  71.701706  41.939999"
      ]
     },
     "execution_count": 7,
     "metadata": {},
     "output_type": "execute_result"
    }
   ],
   "source": [
    "data.head()"
   ]
  },
  {
   "cell_type": "code",
   "execution_count": 8,
   "metadata": {},
   "outputs": [
    {
     "data": {
      "text/html": [
       "<div>\n",
       "<style scoped>\n",
       "    .dataframe tbody tr th:only-of-type {\n",
       "        vertical-align: middle;\n",
       "    }\n",
       "\n",
       "    .dataframe tbody tr th {\n",
       "        vertical-align: top;\n",
       "    }\n",
       "\n",
       "    .dataframe thead th {\n",
       "        text-align: right;\n",
       "    }\n",
       "</style>\n",
       "<table border=\"1\" class=\"dataframe\">\n",
       "  <thead>\n",
       "    <tr style=\"text-align: right;\">\n",
       "      <th></th>\n",
       "      <th>AAPL</th>\n",
       "      <th>^VIX</th>\n",
       "    </tr>\n",
       "    <tr>\n",
       "      <th>Date</th>\n",
       "      <th></th>\n",
       "      <th></th>\n",
       "    </tr>\n",
       "  </thead>\n",
       "  <tbody>\n",
       "    <tr>\n",
       "      <th>2021-02-22</th>\n",
       "      <td>126.000000</td>\n",
       "      <td>23.450001</td>\n",
       "    </tr>\n",
       "    <tr>\n",
       "      <th>2021-02-23</th>\n",
       "      <td>125.860001</td>\n",
       "      <td>23.110001</td>\n",
       "    </tr>\n",
       "    <tr>\n",
       "      <th>2021-02-24</th>\n",
       "      <td>125.349998</td>\n",
       "      <td>21.340000</td>\n",
       "    </tr>\n",
       "    <tr>\n",
       "      <th>2021-02-25</th>\n",
       "      <td>120.989998</td>\n",
       "      <td>28.889999</td>\n",
       "    </tr>\n",
       "    <tr>\n",
       "      <th>2021-02-26</th>\n",
       "      <td>121.260002</td>\n",
       "      <td>27.950001</td>\n",
       "    </tr>\n",
       "  </tbody>\n",
       "</table>\n",
       "</div>"
      ],
      "text/plain": [
       "                  AAPL       ^VIX\n",
       "Date                             \n",
       "2021-02-22  126.000000  23.450001\n",
       "2021-02-23  125.860001  23.110001\n",
       "2021-02-24  125.349998  21.340000\n",
       "2021-02-25  120.989998  28.889999\n",
       "2021-02-26  121.260002  27.950001"
      ]
     },
     "execution_count": 8,
     "metadata": {},
     "output_type": "execute_result"
    }
   ],
   "source": [
    "data.tail()"
   ]
  },
  {
   "cell_type": "code",
   "execution_count": 9,
   "metadata": {},
   "outputs": [
    {
     "data": {
      "text/plain": [
       "array([<AxesSubplot:xlabel='Date'>, <AxesSubplot:xlabel='Date'>],\n",
       "      dtype=object)"
      ]
     },
     "execution_count": 9,
     "metadata": {},
     "output_type": "execute_result"
    },
    {
     "data": {
      "image/png": "[encoded data removed]",
      "text/plain": [
       "<Figure size 720x864 with 2 Axes>"
      ]
     },
     "metadata": {
      "needs_background": "light"
     },
     "output_type": "display_data"
    }
   ],
   "source": [
    "data.plot(figsize=(10, 12), subplots=True)"
   ]
  },
  {
   "cell_type": "code",
   "execution_count": 10,
   "metadata": {},
   "outputs": [
    {
     "data": {
      "text/html": [
       "<div>\n",
       "<style scoped>\n",
       "    .dataframe tbody tr th:only-of-type {\n",
       "        vertical-align: middle;\n",
       "    }\n",
       "\n",
       "    .dataframe tbody tr th {\n",
       "        vertical-align: top;\n",
       "    }\n",
       "\n",
       "    .dataframe thead th {\n",
       "        text-align: right;\n",
       "    }\n",
       "</style>\n",
       "<table border=\"1\" class=\"dataframe\">\n",
       "  <thead>\n",
       "    <tr style=\"text-align: right;\">\n",
       "      <th></th>\n",
       "      <th>AAPL</th>\n",
       "      <th>^VIX</th>\n",
       "    </tr>\n",
       "  </thead>\n",
       "  <tbody>\n",
       "    <tr>\n",
       "      <th>count</th>\n",
       "      <td>251.00</td>\n",
       "      <td>251.00</td>\n",
       "    </tr>\n",
       "    <tr>\n",
       "      <th>mean</th>\n",
       "      <td>103.37</td>\n",
       "      <td>30.47</td>\n",
       "    </tr>\n",
       "    <tr>\n",
       "      <th>std</th>\n",
       "      <td>24.00</td>\n",
       "      <td>11.23</td>\n",
       "    </tr>\n",
       "    <tr>\n",
       "      <th>min</th>\n",
       "      <td>55.66</td>\n",
       "      <td>19.97</td>\n",
       "    </tr>\n",
       "    <tr>\n",
       "      <th>25%</th>\n",
       "      <td>79.73</td>\n",
       "      <td>23.22</td>\n",
       "    </tr>\n",
       "    <tr>\n",
       "      <th>50%</th>\n",
       "      <td>112.37</td>\n",
       "      <td>26.97</td>\n",
       "    </tr>\n",
       "    <tr>\n",
       "      <th>75%</th>\n",
       "      <td>122.65</td>\n",
       "      <td>33.07</td>\n",
       "    </tr>\n",
       "    <tr>\n",
       "      <th>max</th>\n",
       "      <td>142.95</td>\n",
       "      <td>82.69</td>\n",
       "    </tr>\n",
       "  </tbody>\n",
       "</table>\n",
       "</div>"
      ],
      "text/plain": [
       "         AAPL    ^VIX\n",
       "count  251.00  251.00\n",
       "mean   103.37   30.47\n",
       "std     24.00   11.23\n",
       "min     55.66   19.97\n",
       "25%     79.73   23.22\n",
       "50%    112.37   26.97\n",
       "75%    122.65   33.07\n",
       "max    142.95   82.69"
      ]
     },
     "execution_count": 10,
     "metadata": {},
     "output_type": "execute_result"
    }
   ],
   "source": [
    "data.describe().round(2)"
   ]
  },
  {
   "cell_type": "code",
   "execution_count": 11,
   "metadata": {},
   "outputs": [
    {
     "data": {
      "text/html": [
       "<div>\n",
       "<style scoped>\n",
       "    .dataframe tbody tr th:only-of-type {\n",
       "        vertical-align: middle;\n",
       "    }\n",
       "\n",
       "    .dataframe tbody tr th {\n",
       "        vertical-align: top;\n",
       "    }\n",
       "\n",
       "    .dataframe thead th {\n",
       "        text-align: right;\n",
       "    }\n",
       "</style>\n",
       "<table border=\"1\" class=\"dataframe\">\n",
       "  <thead>\n",
       "    <tr style=\"text-align: right;\">\n",
       "      <th></th>\n",
       "      <th>AAPL</th>\n",
       "      <th>^VIX</th>\n",
       "    </tr>\n",
       "    <tr>\n",
       "      <th>Date</th>\n",
       "      <th></th>\n",
       "      <th></th>\n",
       "    </tr>\n",
       "  </thead>\n",
       "  <tbody>\n",
       "    <tr>\n",
       "      <th>2020-03-02</th>\n",
       "      <td>NaN</td>\n",
       "      <td>NaN</td>\n",
       "    </tr>\n",
       "    <tr>\n",
       "      <th>2020-03-03</th>\n",
       "      <td>-2.354256</td>\n",
       "      <td>3.400002</td>\n",
       "    </tr>\n",
       "    <tr>\n",
       "      <th>2020-03-04</th>\n",
       "      <td>3.329193</td>\n",
       "      <td>-4.830000</td>\n",
       "    </tr>\n",
       "    <tr>\n",
       "      <th>2020-03-05</th>\n",
       "      <td>-2.436104</td>\n",
       "      <td>7.629999</td>\n",
       "    </tr>\n",
       "    <tr>\n",
       "      <th>2020-03-06</th>\n",
       "      <td>-0.965019</td>\n",
       "      <td>2.320000</td>\n",
       "    </tr>\n",
       "  </tbody>\n",
       "</table>\n",
       "</div>"
      ],
      "text/plain": [
       "                AAPL      ^VIX\n",
       "Date                          \n",
       "2020-03-02       NaN       NaN\n",
       "2020-03-03 -2.354256  3.400002\n",
       "2020-03-04  3.329193 -4.830000\n",
       "2020-03-05 -2.436104  7.629999\n",
       "2020-03-06 -0.965019  2.320000"
      ]
     },
     "execution_count": 11,
     "metadata": {},
     "output_type": "execute_result"
    }
   ],
   "source": [
    "data.diff().head()"
   ]
  },
  {
   "cell_type": "code",
   "execution_count": 12,
   "metadata": {},
   "outputs": [
    {
     "data": {
      "text/html": [
       "<div>\n",
       "<style scoped>\n",
       "    .dataframe tbody tr th:only-of-type {\n",
       "        vertical-align: middle;\n",
       "    }\n",
       "\n",
       "    .dataframe tbody tr th {\n",
       "        vertical-align: top;\n",
       "    }\n",
       "\n",
       "    .dataframe thead th {\n",
       "        text-align: right;\n",
       "    }\n",
       "</style>\n",
       "<table border=\"1\" class=\"dataframe\">\n",
       "  <thead>\n",
       "    <tr style=\"text-align: right;\">\n",
       "      <th></th>\n",
       "      <th>AAPL</th>\n",
       "      <th>^VIX</th>\n",
       "    </tr>\n",
       "  </thead>\n",
       "  <tbody>\n",
       "    <tr>\n",
       "      <th>count</th>\n",
       "      <td>250.00</td>\n",
       "      <td>250.00</td>\n",
       "    </tr>\n",
       "    <tr>\n",
       "      <th>mean</th>\n",
       "      <td>0.19</td>\n",
       "      <td>-0.02</td>\n",
       "    </tr>\n",
       "    <tr>\n",
       "      <th>std</th>\n",
       "      <td>2.69</td>\n",
       "      <td>3.66</td>\n",
       "    </tr>\n",
       "    <tr>\n",
       "      <th>min</th>\n",
       "      <td>-10.49</td>\n",
       "      <td>-17.64</td>\n",
       "    </tr>\n",
       "    <tr>\n",
       "      <th>25%</th>\n",
       "      <td>-1.09</td>\n",
       "      <td>-1.37</td>\n",
       "    </tr>\n",
       "    <tr>\n",
       "      <th>50%</th>\n",
       "      <td>0.15</td>\n",
       "      <td>-0.30</td>\n",
       "    </tr>\n",
       "    <tr>\n",
       "      <th>75%</th>\n",
       "      <td>1.71</td>\n",
       "      <td>0.90</td>\n",
       "    </tr>\n",
       "    <tr>\n",
       "      <th>max</th>\n",
       "      <td>10.02</td>\n",
       "      <td>24.86</td>\n",
       "    </tr>\n",
       "  </tbody>\n",
       "</table>\n",
       "</div>"
      ],
      "text/plain": [
       "         AAPL    ^VIX\n",
       "count  250.00  250.00\n",
       "mean     0.19   -0.02\n",
       "std      2.69    3.66\n",
       "min    -10.49  -17.64\n",
       "25%     -1.09   -1.37\n",
       "50%      0.15   -0.30\n",
       "75%      1.71    0.90\n",
       "max     10.02   24.86"
      ]
     },
     "execution_count": 12,
     "metadata": {},
     "output_type": "execute_result"
    }
   ],
   "source": [
    "data.diff().describe().round(2)"
   ]
  },
  {
   "cell_type": "code",
   "execution_count": 13,
   "metadata": {},
   "outputs": [
    {
     "data": {
      "text/html": [
       "<div>\n",
       "<style scoped>\n",
       "    .dataframe tbody tr th:only-of-type {\n",
       "        vertical-align: middle;\n",
       "    }\n",
       "\n",
       "    .dataframe tbody tr th {\n",
       "        vertical-align: top;\n",
       "    }\n",
       "\n",
       "    .dataframe thead th {\n",
       "        text-align: right;\n",
       "    }\n",
       "</style>\n",
       "<table border=\"1\" class=\"dataframe\">\n",
       "  <thead>\n",
       "    <tr style=\"text-align: right;\">\n",
       "      <th></th>\n",
       "      <th>AAPL</th>\n",
       "      <th>^VIX</th>\n",
       "    </tr>\n",
       "    <tr>\n",
       "      <th>Date</th>\n",
       "      <th></th>\n",
       "      <th></th>\n",
       "    </tr>\n",
       "  </thead>\n",
       "  <tbody>\n",
       "    <tr>\n",
       "      <th>2020-03-02</th>\n",
       "      <td>NaN</td>\n",
       "      <td>NaN</td>\n",
       "    </tr>\n",
       "    <tr>\n",
       "      <th>2020-03-03</th>\n",
       "      <td>-0.0318</td>\n",
       "      <td>0.1017</td>\n",
       "    </tr>\n",
       "    <tr>\n",
       "      <th>2020-03-04</th>\n",
       "      <td>0.0464</td>\n",
       "      <td>-0.1312</td>\n",
       "    </tr>\n",
       "    <tr>\n",
       "      <th>2020-03-05</th>\n",
       "      <td>-0.0324</td>\n",
       "      <td>0.2385</td>\n",
       "    </tr>\n",
       "    <tr>\n",
       "      <th>2020-03-06</th>\n",
       "      <td>-0.0133</td>\n",
       "      <td>0.0586</td>\n",
       "    </tr>\n",
       "  </tbody>\n",
       "</table>\n",
       "</div>"
      ],
      "text/plain": [
       "              AAPL    ^VIX\n",
       "Date                      \n",
       "2020-03-02     NaN     NaN\n",
       "2020-03-03 -0.0318  0.1017\n",
       "2020-03-04  0.0464 -0.1312\n",
       "2020-03-05 -0.0324  0.2385\n",
       "2020-03-06 -0.0133  0.0586"
      ]
     },
     "execution_count": 13,
     "metadata": {},
     "output_type": "execute_result"
    }
   ],
   "source": [
    "data.pct_change().round(4).head()"
   ]
  },
  {
   "cell_type": "code",
   "execution_count": 14,
   "metadata": {},
   "outputs": [
    {
     "data": {
      "image/png": "[encoded data removed]",
      "text/plain": [
       "<Figure size 720x432 with 1 Axes>"
      ]
     },
     "metadata": {
      "needs_background": "light"
     },
     "output_type": "display_data"
    }
   ],
   "source": [
    "data.pct_change().mean().plot(kind='bar', figsize=(10, 6));"
   ]
  },
  {
   "cell_type": "code",
   "execution_count": 15,
   "metadata": {},
   "outputs": [
    {
     "data": {
      "text/html": [
       "<div>\n",
       "<style scoped>\n",
       "    .dataframe tbody tr th:only-of-type {\n",
       "        vertical-align: middle;\n",
       "    }\n",
       "\n",
       "    .dataframe tbody tr th {\n",
       "        vertical-align: top;\n",
       "    }\n",
       "\n",
       "    .dataframe thead th {\n",
       "        text-align: right;\n",
       "    }\n",
       "</style>\n",
       "<table border=\"1\" class=\"dataframe\">\n",
       "  <thead>\n",
       "    <tr style=\"text-align: right;\">\n",
       "      <th></th>\n",
       "      <th>AAPL</th>\n",
       "      <th>^VIX</th>\n",
       "    </tr>\n",
       "    <tr>\n",
       "      <th>Date</th>\n",
       "      <th></th>\n",
       "      <th></th>\n",
       "    </tr>\n",
       "  </thead>\n",
       "  <tbody>\n",
       "    <tr>\n",
       "      <th>2020-03-02</th>\n",
       "      <td>NaN</td>\n",
       "      <td>NaN</td>\n",
       "    </tr>\n",
       "    <tr>\n",
       "      <th>2020-03-03</th>\n",
       "      <td>-0.0323</td>\n",
       "      <td>0.0969</td>\n",
       "    </tr>\n",
       "    <tr>\n",
       "      <th>2020-03-04</th>\n",
       "      <td>0.0453</td>\n",
       "      <td>-0.1406</td>\n",
       "    </tr>\n",
       "    <tr>\n",
       "      <th>2020-03-05</th>\n",
       "      <td>-0.0330</td>\n",
       "      <td>0.2139</td>\n",
       "    </tr>\n",
       "    <tr>\n",
       "      <th>2020-03-06</th>\n",
       "      <td>-0.0134</td>\n",
       "      <td>0.0569</td>\n",
       "    </tr>\n",
       "  </tbody>\n",
       "</table>\n",
       "</div>"
      ],
      "text/plain": [
       "              AAPL    ^VIX\n",
       "Date                      \n",
       "2020-03-02     NaN     NaN\n",
       "2020-03-03 -0.0323  0.0969\n",
       "2020-03-04  0.0453 -0.1406\n",
       "2020-03-05 -0.0330  0.2139\n",
       "2020-03-06 -0.0134  0.0569"
      ]
     },
     "execution_count": 15,
     "metadata": {},
     "output_type": "execute_result"
    }
   ],
   "source": [
    "rets = np.log(data / data.shift(1))\n",
    "rets.head().round(4)"
   ]
  },
  {
   "cell_type": "code",
   "execution_count": 16,
   "metadata": {
    "scrolled": false
   },
   "outputs": [
    {
     "data": {
      "image/png": "[encoded data removed]",
      "text/plain": [
       "<Figure size 720x432 with 1 Axes>"
      ]
     },
     "metadata": {
      "needs_background": "light"
     },
     "output_type": "display_data"
    }
   ],
   "source": [
    "rets.cumsum().apply(np.exp).plot(figsize=(10, 6));"
   ]
  },
  {
   "cell_type": "code",
   "execution_count": 19,
   "metadata": {
    "scrolled": true
   },
   "outputs": [
    {
     "data": {
      "text/html": [
       "<div>\n",
       "<style scoped>\n",
       "    .dataframe tbody tr th:only-of-type {\n",
       "        vertical-align: middle;\n",
       "    }\n",
       "\n",
       "    .dataframe tbody tr th {\n",
       "        vertical-align: top;\n",
       "    }\n",
       "\n",
       "    .dataframe thead th {\n",
       "        text-align: right;\n",
       "    }\n",
       "</style>\n",
       "<table border=\"1\" class=\"dataframe\">\n",
       "  <thead>\n",
       "    <tr style=\"text-align: right;\">\n",
       "      <th></th>\n",
       "      <th>AAPL</th>\n",
       "      <th>^VIX</th>\n",
       "    </tr>\n",
       "    <tr>\n",
       "      <th>Date</th>\n",
       "      <th></th>\n",
       "      <th></th>\n",
       "    </tr>\n",
       "  </thead>\n",
       "  <tbody>\n",
       "    <tr>\n",
       "      <th>2020-03-08</th>\n",
       "      <td>71.701706</td>\n",
       "      <td>41.939999</td>\n",
       "    </tr>\n",
       "    <tr>\n",
       "      <th>2020-03-15</th>\n",
       "      <td>68.957970</td>\n",
       "      <td>57.830002</td>\n",
       "    </tr>\n",
       "    <tr>\n",
       "      <th>2020-03-22</th>\n",
       "      <td>56.869179</td>\n",
       "      <td>66.040001</td>\n",
       "    </tr>\n",
       "    <tr>\n",
       "      <th>2020-03-29</th>\n",
       "      <td>61.458603</td>\n",
       "      <td>65.540001</td>\n",
       "    </tr>\n",
       "    <tr>\n",
       "      <th>2020-04-05</th>\n",
       "      <td>59.888275</td>\n",
       "      <td>46.799999</td>\n",
       "    </tr>\n",
       "  </tbody>\n",
       "</table>\n",
       "</div>"
      ],
      "text/plain": [
       "                 AAPL       ^VIX\n",
       "Date                            \n",
       "2020-03-08  71.701706  41.939999\n",
       "2020-03-15  68.957970  57.830002\n",
       "2020-03-22  56.869179  66.040001\n",
       "2020-03-29  61.458603  65.540001\n",
       "2020-04-05  59.888275  46.799999"
      ]
     },
     "execution_count": 19,
     "metadata": {},
     "output_type": "execute_result"
    }
   ],
   "source": [
    "data.resample('1w', label='right').last().head()"
   ]
  },
  {
   "cell_type": "code",
   "execution_count": 20,
   "metadata": {},
   "outputs": [
    {
     "data": {
      "text/html": [
       "<div>\n",
       "<style scoped>\n",
       "    .dataframe tbody tr th:only-of-type {\n",
       "        vertical-align: middle;\n",
       "    }\n",
       "\n",
       "    .dataframe tbody tr th {\n",
       "        vertical-align: top;\n",
       "    }\n",
       "\n",
       "    .dataframe thead th {\n",
       "        text-align: right;\n",
       "    }\n",
       "</style>\n",
       "<table border=\"1\" class=\"dataframe\">\n",
       "  <thead>\n",
       "    <tr style=\"text-align: right;\">\n",
       "      <th></th>\n",
       "      <th>AAPL</th>\n",
       "      <th>^VIX</th>\n",
       "    </tr>\n",
       "    <tr>\n",
       "      <th>Date</th>\n",
       "      <th></th>\n",
       "      <th></th>\n",
       "    </tr>\n",
       "  </thead>\n",
       "  <tbody>\n",
       "    <tr>\n",
       "      <th>2020-03-31</th>\n",
       "      <td>63.083504</td>\n",
       "      <td>53.540001</td>\n",
       "    </tr>\n",
       "    <tr>\n",
       "      <th>2020-04-30</th>\n",
       "      <td>72.885025</td>\n",
       "      <td>34.150002</td>\n",
       "    </tr>\n",
       "    <tr>\n",
       "      <th>2020-05-31</th>\n",
       "      <td>79.087120</td>\n",
       "      <td>27.510000</td>\n",
       "    </tr>\n",
       "    <tr>\n",
       "      <th>2020-06-30</th>\n",
       "      <td>90.743469</td>\n",
       "      <td>30.430000</td>\n",
       "    </tr>\n",
       "    <tr>\n",
       "      <th>2020-07-31</th>\n",
       "      <td>105.728088</td>\n",
       "      <td>24.459999</td>\n",
       "    </tr>\n",
       "  </tbody>\n",
       "</table>\n",
       "</div>"
      ],
      "text/plain": [
       "                  AAPL       ^VIX\n",
       "Date                             \n",
       "2020-03-31   63.083504  53.540001\n",
       "2020-04-30   72.885025  34.150002\n",
       "2020-05-31   79.087120  27.510000\n",
       "2020-06-30   90.743469  30.430000\n",
       "2020-07-31  105.728088  24.459999"
      ]
     },
     "execution_count": 20,
     "metadata": {},
     "output_type": "execute_result"
    }
   ],
   "source": [
    "data.resample('1m', label='right').last().head()"
   ]
  },
  {
   "cell_type": "code",
   "execution_count": 21,
   "metadata": {},
   "outputs": [
    {
     "data": {
      "text/plain": [
       "<AxesSubplot:xlabel='Date'>"
      ]
     },
     "execution_count": 21,
     "metadata": {},
     "output_type": "execute_result"
    },
    {
     "data": {
      "image/png": "[encoded data removed]",
      "text/plain": [
       "<Figure size 720x432 with 1 Axes>"
      ]
     },
     "metadata": {
      "needs_background": "light"
     },
     "output_type": "display_data"
    }
   ],
   "source": [
    "rets.cumsum().apply(np.exp). resample('1w', label='right').last().plot(figsize=(10, 6))"
   ]
  },
  {
   "cell_type": "code",
   "execution_count": 32,
   "metadata": {},
   "outputs": [
    {
     "data": {
      "text/plain": [
       "<AxesSubplot:xlabel='Date'>"
      ]
     },
     "execution_count": 32,
     "metadata": {},
     "output_type": "execute_result"
    },
    {
     "data": {
      "image/png": "[encoded data removed]",
      "text/plain": [
       "<Figure size 720x432 with 1 Axes>"
      ]
     },
     "metadata": {
      "needs_background": "light"
     },
     "output_type": "display_data"
    }
   ],
   "source": [
    "rets.cumsum().apply(np.exp). resample('1m', label='right').last().plot(figsize=(10, 6))"
   ]
  },
  {
   "cell_type": "code",
   "execution_count": 23,
   "metadata": {},
   "outputs": [
    {
     "data": {
      "text/html": [
       "<div>\n",
       "<style scoped>\n",
       "    .dataframe tbody tr th:only-of-type {\n",
       "        vertical-align: middle;\n",
       "    }\n",
       "\n",
       "    .dataframe tbody tr th {\n",
       "        vertical-align: top;\n",
       "    }\n",
       "\n",
       "    .dataframe thead th {\n",
       "        text-align: right;\n",
       "    }\n",
       "</style>\n",
       "<table border=\"1\" class=\"dataframe\">\n",
       "  <thead>\n",
       "    <tr style=\"text-align: right;\">\n",
       "      <th></th>\n",
       "      <th>AAPL</th>\n",
       "    </tr>\n",
       "    <tr>\n",
       "      <th>Date</th>\n",
       "      <th></th>\n",
       "    </tr>\n",
       "  </thead>\n",
       "  <tbody>\n",
       "    <tr>\n",
       "      <th>2021-02-22</th>\n",
       "      <td>126.000000</td>\n",
       "    </tr>\n",
       "    <tr>\n",
       "      <th>2021-02-23</th>\n",
       "      <td>125.860001</td>\n",
       "    </tr>\n",
       "    <tr>\n",
       "      <th>2021-02-24</th>\n",
       "      <td>125.349998</td>\n",
       "    </tr>\n",
       "    <tr>\n",
       "      <th>2021-02-25</th>\n",
       "      <td>120.989998</td>\n",
       "    </tr>\n",
       "    <tr>\n",
       "      <th>2021-02-26</th>\n",
       "      <td>121.260002</td>\n",
       "    </tr>\n",
       "  </tbody>\n",
       "</table>\n",
       "</div>"
      ],
      "text/plain": [
       "                  AAPL\n",
       "Date                  \n",
       "2021-02-22  126.000000\n",
       "2021-02-23  125.860001\n",
       "2021-02-24  125.349998\n",
       "2021-02-25  120.989998\n",
       "2021-02-26  121.260002"
      ]
     },
     "execution_count": 23,
     "metadata": {},
     "output_type": "execute_result"
    }
   ],
   "source": [
    "sym = 'AAPL'\n",
    "AAPL_data = pd.DataFrame(data[sym]).dropna()\n",
    "AAPL_data.tail()"
   ]
  },
  {
   "cell_type": "code",
   "execution_count": 24,
   "metadata": {
    "scrolled": true
   },
   "outputs": [
    {
     "data": {
      "text/html": [
       "<div>\n",
       "<style scoped>\n",
       "    .dataframe tbody tr th:only-of-type {\n",
       "        vertical-align: middle;\n",
       "    }\n",
       "\n",
       "    .dataframe tbody tr th {\n",
       "        vertical-align: top;\n",
       "    }\n",
       "\n",
       "    .dataframe thead th {\n",
       "        text-align: right;\n",
       "    }\n",
       "</style>\n",
       "<table border=\"1\" class=\"dataframe\">\n",
       "  <thead>\n",
       "    <tr style=\"text-align: right;\">\n",
       "      <th></th>\n",
       "      <th>AAPL</th>\n",
       "      <th>min</th>\n",
       "      <th>mean</th>\n",
       "      <th>std</th>\n",
       "      <th>median</th>\n",
       "      <th>max</th>\n",
       "      <th>ewma</th>\n",
       "    </tr>\n",
       "    <tr>\n",
       "      <th>Date</th>\n",
       "      <th></th>\n",
       "      <th></th>\n",
       "      <th></th>\n",
       "      <th></th>\n",
       "      <th></th>\n",
       "      <th></th>\n",
       "      <th></th>\n",
       "    </tr>\n",
       "  </thead>\n",
       "  <tbody>\n",
       "    <tr>\n",
       "      <th>2020-03-13</th>\n",
       "      <td>68.957970</td>\n",
       "      <td>61.580158</td>\n",
       "      <td>70.105573</td>\n",
       "      <td>4.045155</td>\n",
       "      <td>71.244003</td>\n",
       "      <td>75.102829</td>\n",
       "      <td>67.560959</td>\n",
       "    </tr>\n",
       "    <tr>\n",
       "      <th>2020-03-16</th>\n",
       "      <td>60.086731</td>\n",
       "      <td>60.086731</td>\n",
       "      <td>68.701457</td>\n",
       "      <td>4.850570</td>\n",
       "      <td>69.872135</td>\n",
       "      <td>75.102829</td>\n",
       "      <td>61.955287</td>\n",
       "    </tr>\n",
       "    <tr>\n",
       "      <th>2020-03-17</th>\n",
       "      <td>62.728752</td>\n",
       "      <td>60.086731</td>\n",
       "      <td>67.796968</td>\n",
       "      <td>5.053119</td>\n",
       "      <td>68.642914</td>\n",
       "      <td>75.102829</td>\n",
       "      <td>62.535386</td>\n",
       "    </tr>\n",
       "    <tr>\n",
       "      <th>2020-03-18</th>\n",
       "      <td>61.193157</td>\n",
       "      <td>60.086731</td>\n",
       "      <td>66.406001</td>\n",
       "      <td>4.722205</td>\n",
       "      <td>67.179256</td>\n",
       "      <td>72.666725</td>\n",
       "      <td>61.528714</td>\n",
       "    </tr>\n",
       "    <tr>\n",
       "      <th>2020-03-19</th>\n",
       "      <td>60.724293</td>\n",
       "      <td>60.086731</td>\n",
       "      <td>65.211758</td>\n",
       "      <td>4.466119</td>\n",
       "      <td>64.379704</td>\n",
       "      <td>71.701706</td>\n",
       "      <td>60.925398</td>\n",
       "    </tr>\n",
       "  </tbody>\n",
       "</table>\n",
       "</div>"
      ],
      "text/plain": [
       "                 AAPL        min       mean       std     median        max  \\\n",
       "Date                                                                          \n",
       "2020-03-13  68.957970  61.580158  70.105573  4.045155  71.244003  75.102829   \n",
       "2020-03-16  60.086731  60.086731  68.701457  4.850570  69.872135  75.102829   \n",
       "2020-03-17  62.728752  60.086731  67.796968  5.053119  68.642914  75.102829   \n",
       "2020-03-18  61.193157  60.086731  66.406001  4.722205  67.179256  72.666725   \n",
       "2020-03-19  60.724293  60.086731  65.211758  4.466119  64.379704  71.701706   \n",
       "\n",
       "                 ewma  \n",
       "Date                   \n",
       "2020-03-13  67.560959  \n",
       "2020-03-16  61.955287  \n",
       "2020-03-17  62.535386  \n",
       "2020-03-18  61.528714  \n",
       "2020-03-19  60.925398  "
      ]
     },
     "execution_count": 24,
     "metadata": {},
     "output_type": "execute_result"
    }
   ],
   "source": [
    "window = 10\n",
    "AAPL_data['min'] = data[sym].rolling(window=window).min()\n",
    "AAPL_data['mean'] = data[sym].rolling(window=window).mean()\n",
    "AAPL_data['std'] = data[sym].rolling(window=window).std()\n",
    "AAPL_data['median'] = data[sym].rolling(window=window).median()\n",
    "AAPL_data['max'] = data[sym].rolling(window=window).max()\n",
    "AAPL_data['ewma'] = data[sym].ewm(halflife=0.5, min_periods=window).mean()\n",
    "AAPL_data.dropna().head()"
   ]
  },
  {
   "cell_type": "code",
   "execution_count": 25,
   "metadata": {},
   "outputs": [
    {
     "data": {
      "image/png": "[encoded data removed]",
      "text/plain": [
       "<Figure size 720x432 with 1 Axes>"
      ]
     },
     "metadata": {
      "needs_background": "light"
     },
     "output_type": "display_data"
    }
   ],
   "source": [
    "ax = AAPL_data[['min', 'mean', 'max']].iloc[-200:].plot(figsize=(10, 6), style=['g--', 'r--', 'g--'], lw=0.8)\n",
    "data[sym].iloc[-200:].plot(ax=ax, lw=2.0);"
   ]
  },
  {
   "cell_type": "code",
   "execution_count": 26,
   "metadata": {
    "scrolled": true
   },
   "outputs": [
    {
     "data": {
      "text/html": [
       "<div>\n",
       "<style scoped>\n",
       "    .dataframe tbody tr th:only-of-type {\n",
       "        vertical-align: middle;\n",
       "    }\n",
       "\n",
       "    .dataframe tbody tr th {\n",
       "        vertical-align: top;\n",
       "    }\n",
       "\n",
       "    .dataframe thead th {\n",
       "        text-align: right;\n",
       "    }\n",
       "</style>\n",
       "<table border=\"1\" class=\"dataframe\">\n",
       "  <thead>\n",
       "    <tr style=\"text-align: right;\">\n",
       "      <th></th>\n",
       "      <th>AAPL</th>\n",
       "      <th>SMA1</th>\n",
       "      <th>SMA2</th>\n",
       "    </tr>\n",
       "    <tr>\n",
       "      <th>Date</th>\n",
       "      <th></th>\n",
       "      <th></th>\n",
       "      <th></th>\n",
       "    </tr>\n",
       "  </thead>\n",
       "  <tbody>\n",
       "    <tr>\n",
       "      <th>2021-02-22</th>\n",
       "      <td>126.000000</td>\n",
       "      <td>135.049167</td>\n",
       "      <td>129.851951</td>\n",
       "    </tr>\n",
       "    <tr>\n",
       "      <th>2021-02-23</th>\n",
       "      <td>125.860001</td>\n",
       "      <td>134.206829</td>\n",
       "      <td>130.032982</td>\n",
       "    </tr>\n",
       "    <tr>\n",
       "      <th>2021-02-24</th>\n",
       "      <td>125.349998</td>\n",
       "      <td>133.327009</td>\n",
       "      <td>130.191201</td>\n",
       "    </tr>\n",
       "    <tr>\n",
       "      <th>2021-02-25</th>\n",
       "      <td>120.989998</td>\n",
       "      <td>132.284107</td>\n",
       "      <td>130.267434</td>\n",
       "    </tr>\n",
       "    <tr>\n",
       "      <th>2021-02-26</th>\n",
       "      <td>121.260002</td>\n",
       "      <td>131.502835</td>\n",
       "      <td>130.307227</td>\n",
       "    </tr>\n",
       "  </tbody>\n",
       "</table>\n",
       "</div>"
      ],
      "text/plain": [
       "                  AAPL        SMA1        SMA2\n",
       "Date                                          \n",
       "2021-02-22  126.000000  135.049167  129.851951\n",
       "2021-02-23  125.860001  134.206829  130.032982\n",
       "2021-02-24  125.349998  133.327009  130.191201\n",
       "2021-02-25  120.989998  132.284107  130.267434\n",
       "2021-02-26  121.260002  131.502835  130.307227"
      ]
     },
     "execution_count": 26,
     "metadata": {},
     "output_type": "execute_result"
    }
   ],
   "source": [
    "AAPL_data['SMA1'] = data[sym].rolling(window=20).mean()\n",
    "AAPL_data['SMA2'] = data[sym].rolling(window=60).mean()\n",
    "AAPL_data[[sym, 'SMA1', 'SMA2']].tail()"
   ]
  },
  {
   "cell_type": "code",
   "execution_count": 27,
   "metadata": {},
   "outputs": [
    {
     "data": {
      "text/plain": [
       "<AxesSubplot:xlabel='Date'>"
      ]
     },
     "execution_count": 27,
     "metadata": {},
     "output_type": "execute_result"
    },
    {
     "data": {
      "image/png": "[encoded data removed]",
      "text/plain": [
       "<Figure size 720x432 with 1 Axes>"
      ]
     },
     "metadata": {
      "needs_background": "light"
     },
     "output_type": "display_data"
    }
   ],
   "source": [
    "AAPL_data[[sym, 'SMA1', 'SMA2']].plot(figsize=(10, 6))"
   ]
  },
  {
   "cell_type": "code",
   "execution_count": 28,
   "metadata": {
    "scrolled": true
   },
   "outputs": [
    {
     "data": {
      "image/png": "[encoded data removed]",
      "text/plain": [
       "<Figure size 720x432 with 2 Axes>"
      ]
     },
     "metadata": {
      "needs_background": "light"
     },
     "output_type": "display_data"
    }
   ],
   "source": [
    "AAPL_data.dropna(inplace=True)\n",
    "AAPL_data['positions'] = np.where(AAPL_data['SMA1'] > AAPL_data['SMA2'],1,-1)\n",
    "ax = AAPL_data[[sym, 'SMA1', 'SMA2', 'positions']].plot(figsize=(10, 6),secondary_y='positions')\n",
    "ax.get_legend().set_bbox_to_anchor((0.25, 0.85))"
   ]
  },
  {
   "cell_type": "code",
   "execution_count": 63,
   "metadata": {},
   "outputs": [],
   "source": [
    "import numpy as np\n",
    "import pandas as pd\n",
    "import matplotlib.pyplot as plt\n",
    "import scipy.stats as si\n",
    "import yfinance as yf\n",
    "import os"
   ]
  },
  {
   "cell_type": "code",
   "execution_count": 64,
   "metadata": {},
   "outputs": [
    {
     "data": {
      "text/html": [
       "<div>\n",
       "<style scoped>\n",
       "    .dataframe tbody tr th:only-of-type {\n",
       "        vertical-align: middle;\n",
       "    }\n",
       "\n",
       "    .dataframe tbody tr th {\n",
       "        vertical-align: top;\n",
       "    }\n",
       "\n",
       "    .dataframe thead th {\n",
       "        text-align: right;\n",
       "    }\n",
       "</style>\n",
       "<table border=\"1\" class=\"dataframe\">\n",
       "  <thead>\n",
       "    <tr style=\"text-align: right;\">\n",
       "      <th></th>\n",
       "      <th>contractSymbol</th>\n",
       "      <th>lastTradeDate</th>\n",
       "      <th>strike</th>\n",
       "      <th>lastPrice</th>\n",
       "      <th>bid</th>\n",
       "      <th>ask</th>\n",
       "      <th>change</th>\n",
       "      <th>percentChange</th>\n",
       "      <th>volume</th>\n",
       "      <th>openInterest</th>\n",
       "      <th>impliedVolatility</th>\n",
       "      <th>inTheMoney</th>\n",
       "      <th>contractSize</th>\n",
       "      <th>currency</th>\n",
       "    </tr>\n",
       "  </thead>\n",
       "  <tbody>\n",
       "    <tr>\n",
       "      <th>0</th>\n",
       "      <td>AAPL210507P00085000</td>\n",
       "      <td>2021-03-29 17:18:23</td>\n",
       "      <td>85.0</td>\n",
       "      <td>0.20</td>\n",
       "      <td>0.17</td>\n",
       "      <td>0.21</td>\n",
       "      <td>0.000000</td>\n",
       "      <td>0.000000</td>\n",
       "      <td>18</td>\n",
       "      <td>3</td>\n",
       "      <td>0.557622</td>\n",
       "      <td>False</td>\n",
       "      <td>REGULAR</td>\n",
       "      <td>USD</td>\n",
       "    </tr>\n",
       "    <tr>\n",
       "      <th>1</th>\n",
       "      <td>AAPL210507P00095000</td>\n",
       "      <td>2021-03-29 17:26:59</td>\n",
       "      <td>95.0</td>\n",
       "      <td>0.37</td>\n",
       "      <td>0.34</td>\n",
       "      <td>0.38</td>\n",
       "      <td>0.000000</td>\n",
       "      <td>0.000000</td>\n",
       "      <td>92</td>\n",
       "      <td>7</td>\n",
       "      <td>0.463384</td>\n",
       "      <td>False</td>\n",
       "      <td>REGULAR</td>\n",
       "      <td>USD</td>\n",
       "    </tr>\n",
       "    <tr>\n",
       "      <th>2</th>\n",
       "      <td>AAPL210507P00100000</td>\n",
       "      <td>2021-03-29 17:41:56</td>\n",
       "      <td>100.0</td>\n",
       "      <td>0.54</td>\n",
       "      <td>0.52</td>\n",
       "      <td>0.54</td>\n",
       "      <td>-0.160000</td>\n",
       "      <td>-22.857138</td>\n",
       "      <td>647</td>\n",
       "      <td>73</td>\n",
       "      <td>0.416021</td>\n",
       "      <td>False</td>\n",
       "      <td>REGULAR</td>\n",
       "      <td>USD</td>\n",
       "    </tr>\n",
       "    <tr>\n",
       "      <th>3</th>\n",
       "      <td>AAPL210507P00105000</td>\n",
       "      <td>2021-03-29 17:13:44</td>\n",
       "      <td>105.0</td>\n",
       "      <td>0.86</td>\n",
       "      <td>0.83</td>\n",
       "      <td>0.86</td>\n",
       "      <td>-0.060000</td>\n",
       "      <td>-6.521739</td>\n",
       "      <td>40</td>\n",
       "      <td>46</td>\n",
       "      <td>0.379157</td>\n",
       "      <td>False</td>\n",
       "      <td>REGULAR</td>\n",
       "      <td>USD</td>\n",
       "    </tr>\n",
       "    <tr>\n",
       "      <th>4</th>\n",
       "      <td>AAPL210507P00107000</td>\n",
       "      <td>2021-03-29 17:49:51</td>\n",
       "      <td>107.0</td>\n",
       "      <td>1.03</td>\n",
       "      <td>1.02</td>\n",
       "      <td>1.06</td>\n",
       "      <td>-0.320000</td>\n",
       "      <td>-23.703709</td>\n",
       "      <td>75</td>\n",
       "      <td>196</td>\n",
       "      <td>0.367194</td>\n",
       "      <td>False</td>\n",
       "      <td>REGULAR</td>\n",
       "      <td>USD</td>\n",
       "    </tr>\n",
       "    <tr>\n",
       "      <th>5</th>\n",
       "      <td>AAPL210507P00108000</td>\n",
       "      <td>2021-03-29 17:38:45</td>\n",
       "      <td>108.0</td>\n",
       "      <td>1.19</td>\n",
       "      <td>1.14</td>\n",
       "      <td>1.18</td>\n",
       "      <td>-0.350000</td>\n",
       "      <td>-22.727268</td>\n",
       "      <td>30</td>\n",
       "      <td>37</td>\n",
       "      <td>0.361579</td>\n",
       "      <td>False</td>\n",
       "      <td>REGULAR</td>\n",
       "      <td>USD</td>\n",
       "    </tr>\n",
       "    <tr>\n",
       "      <th>6</th>\n",
       "      <td>AAPL210507P00109000</td>\n",
       "      <td>2021-03-29 17:38:45</td>\n",
       "      <td>109.0</td>\n",
       "      <td>1.31</td>\n",
       "      <td>1.28</td>\n",
       "      <td>1.32</td>\n",
       "      <td>-0.240000</td>\n",
       "      <td>-15.483871</td>\n",
       "      <td>14</td>\n",
       "      <td>24</td>\n",
       "      <td>0.356696</td>\n",
       "      <td>False</td>\n",
       "      <td>REGULAR</td>\n",
       "      <td>USD</td>\n",
       "    </tr>\n",
       "    <tr>\n",
       "      <th>7</th>\n",
       "      <td>AAPL210507P00110000</td>\n",
       "      <td>2021-03-29 17:31:17</td>\n",
       "      <td>110.0</td>\n",
       "      <td>1.54</td>\n",
       "      <td>1.43</td>\n",
       "      <td>1.48</td>\n",
       "      <td>0.210000</td>\n",
       "      <td>15.789468</td>\n",
       "      <td>99</td>\n",
       "      <td>181</td>\n",
       "      <td>0.352301</td>\n",
       "      <td>False</td>\n",
       "      <td>REGULAR</td>\n",
       "      <td>USD</td>\n",
       "    </tr>\n",
       "    <tr>\n",
       "      <th>8</th>\n",
       "      <td>AAPL210507P00111000</td>\n",
       "      <td>2021-03-29 17:41:16</td>\n",
       "      <td>111.0</td>\n",
       "      <td>1.65</td>\n",
       "      <td>1.60</td>\n",
       "      <td>1.65</td>\n",
       "      <td>-0.420000</td>\n",
       "      <td>-20.289854</td>\n",
       "      <td>27</td>\n",
       "      <td>47</td>\n",
       "      <td>0.347419</td>\n",
       "      <td>False</td>\n",
       "      <td>REGULAR</td>\n",
       "      <td>USD</td>\n",
       "    </tr>\n",
       "    <tr>\n",
       "      <th>9</th>\n",
       "      <td>AAPL210507P00112000</td>\n",
       "      <td>2021-03-29 17:31:17</td>\n",
       "      <td>112.0</td>\n",
       "      <td>1.87</td>\n",
       "      <td>1.80</td>\n",
       "      <td>1.86</td>\n",
       "      <td>-0.620000</td>\n",
       "      <td>-24.899600</td>\n",
       "      <td>42</td>\n",
       "      <td>9</td>\n",
       "      <td>0.344489</td>\n",
       "      <td>False</td>\n",
       "      <td>REGULAR</td>\n",
       "      <td>USD</td>\n",
       "    </tr>\n",
       "    <tr>\n",
       "      <th>10</th>\n",
       "      <td>AAPL210507P00113000</td>\n",
       "      <td>2021-03-29 17:27:11</td>\n",
       "      <td>113.0</td>\n",
       "      <td>2.16</td>\n",
       "      <td>2.01</td>\n",
       "      <td>2.07</td>\n",
       "      <td>-0.240000</td>\n",
       "      <td>-10.000000</td>\n",
       "      <td>131</td>\n",
       "      <td>25</td>\n",
       "      <td>0.339728</td>\n",
       "      <td>False</td>\n",
       "      <td>REGULAR</td>\n",
       "      <td>USD</td>\n",
       "    </tr>\n",
       "    <tr>\n",
       "      <th>11</th>\n",
       "      <td>AAPL210507P00114000</td>\n",
       "      <td>2021-03-29 17:23:04</td>\n",
       "      <td>114.0</td>\n",
       "      <td>2.39</td>\n",
       "      <td>2.27</td>\n",
       "      <td>2.33</td>\n",
       "      <td>-0.360000</td>\n",
       "      <td>-13.090905</td>\n",
       "      <td>50</td>\n",
       "      <td>9</td>\n",
       "      <td>0.337287</td>\n",
       "      <td>False</td>\n",
       "      <td>REGULAR</td>\n",
       "      <td>USD</td>\n",
       "    </tr>\n",
       "    <tr>\n",
       "      <th>12</th>\n",
       "      <td>AAPL210507P00115000</td>\n",
       "      <td>2021-03-29 17:19:47</td>\n",
       "      <td>115.0</td>\n",
       "      <td>2.67</td>\n",
       "      <td>2.53</td>\n",
       "      <td>2.59</td>\n",
       "      <td>-0.400000</td>\n",
       "      <td>-13.029311</td>\n",
       "      <td>102</td>\n",
       "      <td>83</td>\n",
       "      <td>0.333137</td>\n",
       "      <td>False</td>\n",
       "      <td>REGULAR</td>\n",
       "      <td>USD</td>\n",
       "    </tr>\n",
       "    <tr>\n",
       "      <th>13</th>\n",
       "      <td>AAPL210507P00116000</td>\n",
       "      <td>2021-03-29 17:33:17</td>\n",
       "      <td>116.0</td>\n",
       "      <td>2.96</td>\n",
       "      <td>2.84</td>\n",
       "      <td>2.90</td>\n",
       "      <td>-1.050000</td>\n",
       "      <td>-26.184542</td>\n",
       "      <td>50</td>\n",
       "      <td>23</td>\n",
       "      <td>0.330695</td>\n",
       "      <td>False</td>\n",
       "      <td>REGULAR</td>\n",
       "      <td>USD</td>\n",
       "    </tr>\n",
       "    <tr>\n",
       "      <th>14</th>\n",
       "      <td>AAPL210507P00117000</td>\n",
       "      <td>2021-03-29 17:33:17</td>\n",
       "      <td>117.0</td>\n",
       "      <td>3.30</td>\n",
       "      <td>3.15</td>\n",
       "      <td>3.25</td>\n",
       "      <td>-0.960000</td>\n",
       "      <td>-22.535217</td>\n",
       "      <td>46</td>\n",
       "      <td>30</td>\n",
       "      <td>0.329230</td>\n",
       "      <td>False</td>\n",
       "      <td>REGULAR</td>\n",
       "      <td>USD</td>\n",
       "    </tr>\n",
       "    <tr>\n",
       "      <th>15</th>\n",
       "      <td>AAPL210507P00118000</td>\n",
       "      <td>2021-03-29 17:01:14</td>\n",
       "      <td>118.0</td>\n",
       "      <td>3.80</td>\n",
       "      <td>3.55</td>\n",
       "      <td>3.60</td>\n",
       "      <td>-0.750000</td>\n",
       "      <td>-16.483520</td>\n",
       "      <td>52</td>\n",
       "      <td>39</td>\n",
       "      <td>0.325934</td>\n",
       "      <td>False</td>\n",
       "      <td>REGULAR</td>\n",
       "      <td>USD</td>\n",
       "    </tr>\n",
       "    <tr>\n",
       "      <th>16</th>\n",
       "      <td>AAPL210507P00119000</td>\n",
       "      <td>2021-03-29 17:41:16</td>\n",
       "      <td>119.0</td>\n",
       "      <td>4.00</td>\n",
       "      <td>3.90</td>\n",
       "      <td>4.00</td>\n",
       "      <td>-0.450000</td>\n",
       "      <td>-10.112355</td>\n",
       "      <td>2</td>\n",
       "      <td>321</td>\n",
       "      <td>0.323981</td>\n",
       "      <td>False</td>\n",
       "      <td>REGULAR</td>\n",
       "      <td>USD</td>\n",
       "    </tr>\n",
       "    <tr>\n",
       "      <th>17</th>\n",
       "      <td>AAPL210507P00120000</td>\n",
       "      <td>2021-03-29 17:36:57</td>\n",
       "      <td>120.0</td>\n",
       "      <td>4.40</td>\n",
       "      <td>4.35</td>\n",
       "      <td>4.45</td>\n",
       "      <td>-0.530000</td>\n",
       "      <td>-10.750502</td>\n",
       "      <td>125</td>\n",
       "      <td>441</td>\n",
       "      <td>0.323249</td>\n",
       "      <td>False</td>\n",
       "      <td>REGULAR</td>\n",
       "      <td>USD</td>\n",
       "    </tr>\n",
       "    <tr>\n",
       "      <th>18</th>\n",
       "      <td>AAPL210507P00121000</td>\n",
       "      <td>2021-03-29 15:36:46</td>\n",
       "      <td>121.0</td>\n",
       "      <td>5.40</td>\n",
       "      <td>4.75</td>\n",
       "      <td>4.90</td>\n",
       "      <td>-0.400000</td>\n",
       "      <td>-6.896553</td>\n",
       "      <td>38</td>\n",
       "      <td>9</td>\n",
       "      <td>0.320686</td>\n",
       "      <td>False</td>\n",
       "      <td>REGULAR</td>\n",
       "      <td>USD</td>\n",
       "    </tr>\n",
       "    <tr>\n",
       "      <th>19</th>\n",
       "      <td>AAPL210507P00122000</td>\n",
       "      <td>2021-03-29 17:45:14</td>\n",
       "      <td>122.0</td>\n",
       "      <td>5.45</td>\n",
       "      <td>5.25</td>\n",
       "      <td>5.35</td>\n",
       "      <td>-1.300000</td>\n",
       "      <td>-19.259262</td>\n",
       "      <td>77</td>\n",
       "      <td>15</td>\n",
       "      <td>0.316169</td>\n",
       "      <td>True</td>\n",
       "      <td>REGULAR</td>\n",
       "      <td>USD</td>\n",
       "    </tr>\n",
       "    <tr>\n",
       "      <th>20</th>\n",
       "      <td>AAPL210507P00123000</td>\n",
       "      <td>2021-03-29 17:22:11</td>\n",
       "      <td>123.0</td>\n",
       "      <td>5.98</td>\n",
       "      <td>5.75</td>\n",
       "      <td>5.95</td>\n",
       "      <td>-0.620000</td>\n",
       "      <td>-9.393938</td>\n",
       "      <td>29</td>\n",
       "      <td>8</td>\n",
       "      <td>0.319099</td>\n",
       "      <td>True</td>\n",
       "      <td>REGULAR</td>\n",
       "      <td>USD</td>\n",
       "    </tr>\n",
       "    <tr>\n",
       "      <th>21</th>\n",
       "      <td>AAPL210507P00124000</td>\n",
       "      <td>2021-03-29 14:41:59</td>\n",
       "      <td>124.0</td>\n",
       "      <td>6.92</td>\n",
       "      <td>6.40</td>\n",
       "      <td>6.50</td>\n",
       "      <td>-0.330000</td>\n",
       "      <td>-4.551723</td>\n",
       "      <td>7</td>\n",
       "      <td>104</td>\n",
       "      <td>0.317023</td>\n",
       "      <td>True</td>\n",
       "      <td>REGULAR</td>\n",
       "      <td>USD</td>\n",
       "    </tr>\n",
       "    <tr>\n",
       "      <th>22</th>\n",
       "      <td>AAPL210507P00125000</td>\n",
       "      <td>2021-03-29 17:19:47</td>\n",
       "      <td>125.0</td>\n",
       "      <td>7.15</td>\n",
       "      <td>6.95</td>\n",
       "      <td>7.10</td>\n",
       "      <td>-0.750000</td>\n",
       "      <td>-9.493670</td>\n",
       "      <td>9</td>\n",
       "      <td>64</td>\n",
       "      <td>0.316291</td>\n",
       "      <td>True</td>\n",
       "      <td>REGULAR</td>\n",
       "      <td>USD</td>\n",
       "    </tr>\n",
       "    <tr>\n",
       "      <th>23</th>\n",
       "      <td>AAPL210507P00126000</td>\n",
       "      <td>2021-03-26 18:38:10</td>\n",
       "      <td>126.0</td>\n",
       "      <td>8.18</td>\n",
       "      <td>7.55</td>\n",
       "      <td>7.70</td>\n",
       "      <td>-1.380000</td>\n",
       "      <td>-14.435146</td>\n",
       "      <td>11</td>\n",
       "      <td>4</td>\n",
       "      <td>0.313483</td>\n",
       "      <td>True</td>\n",
       "      <td>REGULAR</td>\n",
       "      <td>USD</td>\n",
       "    </tr>\n",
       "    <tr>\n",
       "      <th>24</th>\n",
       "      <td>AAPL210507P00127000</td>\n",
       "      <td>2021-03-29 14:25:54</td>\n",
       "      <td>127.0</td>\n",
       "      <td>8.83</td>\n",
       "      <td>8.15</td>\n",
       "      <td>8.35</td>\n",
       "      <td>-1.370000</td>\n",
       "      <td>-13.431372</td>\n",
       "      <td>2</td>\n",
       "      <td>16</td>\n",
       "      <td>0.312141</td>\n",
       "      <td>True</td>\n",
       "      <td>REGULAR</td>\n",
       "      <td>USD</td>\n",
       "    </tr>\n",
       "    <tr>\n",
       "      <th>25</th>\n",
       "      <td>AAPL210507P00128000</td>\n",
       "      <td>2021-03-26 18:17:35</td>\n",
       "      <td>128.0</td>\n",
       "      <td>10.67</td>\n",
       "      <td>8.85</td>\n",
       "      <td>9.05</td>\n",
       "      <td>0.000000</td>\n",
       "      <td>0.000000</td>\n",
       "      <td>11</td>\n",
       "      <td>11</td>\n",
       "      <td>0.312263</td>\n",
       "      <td>True</td>\n",
       "      <td>REGULAR</td>\n",
       "      <td>USD</td>\n",
       "    </tr>\n",
       "    <tr>\n",
       "      <th>26</th>\n",
       "      <td>AAPL210507P00129000</td>\n",
       "      <td>2021-03-29 17:13:43</td>\n",
       "      <td>129.0</td>\n",
       "      <td>9.75</td>\n",
       "      <td>9.60</td>\n",
       "      <td>9.75</td>\n",
       "      <td>-1.340000</td>\n",
       "      <td>-12.082959</td>\n",
       "      <td>4</td>\n",
       "      <td>10</td>\n",
       "      <td>0.310432</td>\n",
       "      <td>True</td>\n",
       "      <td>REGULAR</td>\n",
       "      <td>USD</td>\n",
       "    </tr>\n",
       "    <tr>\n",
       "      <th>27</th>\n",
       "      <td>AAPL210507P00130000</td>\n",
       "      <td>2021-03-29 14:45:35</td>\n",
       "      <td>130.0</td>\n",
       "      <td>10.85</td>\n",
       "      <td>10.30</td>\n",
       "      <td>10.50</td>\n",
       "      <td>-1.049999</td>\n",
       "      <td>-8.823523</td>\n",
       "      <td>25</td>\n",
       "      <td>14</td>\n",
       "      <td>0.310432</td>\n",
       "      <td>True</td>\n",
       "      <td>REGULAR</td>\n",
       "      <td>USD</td>\n",
       "    </tr>\n",
       "    <tr>\n",
       "      <th>28</th>\n",
       "      <td>AAPL210507P00131000</td>\n",
       "      <td>2021-03-26 19:59:57</td>\n",
       "      <td>131.0</td>\n",
       "      <td>11.60</td>\n",
       "      <td>11.10</td>\n",
       "      <td>11.25</td>\n",
       "      <td>0.000000</td>\n",
       "      <td>0.000000</td>\n",
       "      <td>1</td>\n",
       "      <td>241</td>\n",
       "      <td>0.308601</td>\n",
       "      <td>True</td>\n",
       "      <td>REGULAR</td>\n",
       "      <td>USD</td>\n",
       "    </tr>\n",
       "    <tr>\n",
       "      <th>29</th>\n",
       "      <td>AAPL210507P00134000</td>\n",
       "      <td>2021-03-29 13:30:01</td>\n",
       "      <td>134.0</td>\n",
       "      <td>13.80</td>\n",
       "      <td>13.55</td>\n",
       "      <td>13.70</td>\n",
       "      <td>-2.099999</td>\n",
       "      <td>-13.207543</td>\n",
       "      <td>1</td>\n",
       "      <td>21</td>\n",
       "      <td>0.308845</td>\n",
       "      <td>True</td>\n",
       "      <td>REGULAR</td>\n",
       "      <td>USD</td>\n",
       "    </tr>\n",
       "    <tr>\n",
       "      <th>30</th>\n",
       "      <td>AAPL210507P00135000</td>\n",
       "      <td>2021-03-29 15:57:14</td>\n",
       "      <td>135.0</td>\n",
       "      <td>14.64</td>\n",
       "      <td>14.35</td>\n",
       "      <td>14.50</td>\n",
       "      <td>-1.110000</td>\n",
       "      <td>-7.047617</td>\n",
       "      <td>25</td>\n",
       "      <td>93</td>\n",
       "      <td>0.303474</td>\n",
       "      <td>True</td>\n",
       "      <td>REGULAR</td>\n",
       "      <td>USD</td>\n",
       "    </tr>\n",
       "    <tr>\n",
       "      <th>31</th>\n",
       "      <td>AAPL210507P00150000</td>\n",
       "      <td>2021-03-26 16:46:31</td>\n",
       "      <td>150.0</td>\n",
       "      <td>28.72</td>\n",
       "      <td>28.35</td>\n",
       "      <td>28.60</td>\n",
       "      <td>-1.330000</td>\n",
       "      <td>-4.425957</td>\n",
       "      <td>2</td>\n",
       "      <td>10</td>\n",
       "      <td>0.294929</td>\n",
       "      <td>True</td>\n",
       "      <td>REGULAR</td>\n",
       "      <td>USD</td>\n",
       "    </tr>\n",
       "  </tbody>\n",
       "</table>\n",
       "</div>"
      ],
      "text/plain": [
       "         contractSymbol       lastTradeDate  strike  lastPrice    bid    ask  \\\n",
       "0   AAPL210507P00085000 2021-03-29 17:18:23    85.0       0.20   0.17   0.21   \n",
       "1   AAPL210507P00095000 2021-03-29 17:26:59    95.0       0.37   0.34   0.38   \n",
       "2   AAPL210507P00100000 2021-03-29 17:41:56   100.0       0.54   0.52   0.54   \n",
       "3   AAPL210507P00105000 2021-03-29 17:13:44   105.0       0.86   0.83   0.86   \n",
       "4   AAPL210507P00107000 2021-03-29 17:49:51   107.0       1.03   1.02   1.06   \n",
       "5   AAPL210507P00108000 2021-03-29 17:38:45   108.0       1.19   1.14   1.18   \n",
       "6   AAPL210507P00109000 2021-03-29 17:38:45   109.0       1.31   1.28   1.32   \n",
       "7   AAPL210507P00110000 2021-03-29 17:31:17   110.0       1.54   1.43   1.48   \n",
       "8   AAPL210507P00111000 2021-03-29 17:41:16   111.0       1.65   1.60   1.65   \n",
       "9   AAPL210507P00112000 2021-03-29 17:31:17   112.0       1.87   1.80   1.86   \n",
       "10  AAPL210507P00113000 2021-03-29 17:27:11   113.0       2.16   2.01   2.07   \n",
       "11  AAPL210507P00114000 2021-03-29 17:23:04   114.0       2.39   2.27   2.33   \n",
       "12  AAPL210507P00115000 2021-03-29 17:19:47   115.0       2.67   2.53   2.59   \n",
       "13  AAPL210507P00116000 2021-03-29 17:33:17   116.0       2.96   2.84   2.90   \n",
       "14  AAPL210507P00117000 2021-03-29 17:33:17   117.0       3.30   3.15   3.25   \n",
       "15  AAPL210507P00118000 2021-03-29 17:01:14   118.0       3.80   3.55   3.60   \n",
       "16  AAPL210507P00119000 2021-03-29 17:41:16   119.0       4.00   3.90   4.00   \n",
       "17  AAPL210507P00120000 2021-03-29 17:36:57   120.0       4.40   4.35   4.45   \n",
       "18  AAPL210507P00121000 2021-03-29 15:36:46   121.0       5.40   4.75   4.90   \n",
       "19  AAPL210507P00122000 2021-03-29 17:45:14   122.0       5.45   5.25   5.35   \n",
       "20  AAPL210507P00123000 2021-03-29 17:22:11   123.0       5.98   5.75   5.95   \n",
       "21  AAPL210507P00124000 2021-03-29 14:41:59   124.0       6.92   6.40   6.50   \n",
       "22  AAPL210507P00125000 2021-03-29 17:19:47   125.0       7.15   6.95   7.10   \n",
       "23  AAPL210507P00126000 2021-03-26 18:38:10   126.0       8.18   7.55   7.70   \n",
       "24  AAPL210507P00127000 2021-03-29 14:25:54   127.0       8.83   8.15   8.35   \n",
       "25  AAPL210507P00128000 2021-03-26 18:17:35   128.0      10.67   8.85   9.05   \n",
       "26  AAPL210507P00129000 2021-03-29 17:13:43   129.0       9.75   9.60   9.75   \n",
       "27  AAPL210507P00130000 2021-03-29 14:45:35   130.0      10.85  10.30  10.50   \n",
       "28  AAPL210507P00131000 2021-03-26 19:59:57   131.0      11.60  11.10  11.25   \n",
       "29  AAPL210507P00134000 2021-03-29 13:30:01   134.0      13.80  13.55  13.70   \n",
       "30  AAPL210507P00135000 2021-03-29 15:57:14   135.0      14.64  14.35  14.50   \n",
       "31  AAPL210507P00150000 2021-03-26 16:46:31   150.0      28.72  28.35  28.60   \n",
       "\n",
       "      change  percentChange  volume  openInterest  impliedVolatility  \\\n",
       "0   0.000000       0.000000      18             3           0.557622   \n",
       "1   0.000000       0.000000      92             7           0.463384   \n",
       "2  -0.160000     -22.857138     647            73           0.416021   \n",
       "3  -0.060000      -6.521739      40            46           0.379157   \n",
       "4  -0.320000     -23.703709      75           196           0.367194   \n",
       "5  -0.350000     -22.727268      30            37           0.361579   \n",
       "6  -0.240000     -15.483871      14            24           0.356696   \n",
       "7   0.210000      15.789468      99           181           0.352301   \n",
       "8  -0.420000     -20.289854      27            47           0.347419   \n",
       "9  -0.620000     -24.899600      42             9           0.344489   \n",
       "10 -0.240000     -10.000000     131            25           0.339728   \n",
       "11 -0.360000     -13.090905      50             9           0.337287   \n",
       "12 -0.400000     -13.029311     102            83           0.333137   \n",
       "13 -1.050000     -26.184542      50            23           0.330695   \n",
       "14 -0.960000     -22.535217      46            30           0.329230   \n",
       "15 -0.750000     -16.483520      52            39           0.325934   \n",
       "16 -0.450000     -10.112355       2           321           0.323981   \n",
       "17 -0.530000     -10.750502     125           441           0.323249   \n",
       "18 -0.400000      -6.896553      38             9           0.320686   \n",
       "19 -1.300000     -19.259262      77            15           0.316169   \n",
       "20 -0.620000      -9.393938      29             8           0.319099   \n",
       "21 -0.330000      -4.551723       7           104           0.317023   \n",
       "22 -0.750000      -9.493670       9            64           0.316291   \n",
       "23 -1.380000     -14.435146      11             4           0.313483   \n",
       "24 -1.370000     -13.431372       2            16           0.312141   \n",
       "25  0.000000       0.000000      11            11           0.312263   \n",
       "26 -1.340000     -12.082959       4            10           0.310432   \n",
       "27 -1.049999      -8.823523      25            14           0.310432   \n",
       "28  0.000000       0.000000       1           241           0.308601   \n",
       "29 -2.099999     -13.207543       1            21           0.308845   \n",
       "30 -1.110000      -7.047617      25            93           0.303474   \n",
       "31 -1.330000      -4.425957       2            10           0.294929   \n",
       "\n",
       "    inTheMoney contractSize currency  \n",
       "0        False      REGULAR      USD  \n",
       "1        False      REGULAR      USD  \n",
       "2        False      REGULAR      USD  \n",
       "3        False      REGULAR      USD  \n",
       "4        False      REGULAR      USD  \n",
       "5        False      REGULAR      USD  \n",
       "6        False      REGULAR      USD  \n",
       "7        False      REGULAR      USD  \n",
       "8        False      REGULAR      USD  \n",
       "9        False      REGULAR      USD  \n",
       "10       False      REGULAR      USD  \n",
       "11       False      REGULAR      USD  \n",
       "12       False      REGULAR      USD  \n",
       "13       False      REGULAR      USD  \n",
       "14       False      REGULAR      USD  \n",
       "15       False      REGULAR      USD  \n",
       "16       False      REGULAR      USD  \n",
       "17       False      REGULAR      USD  \n",
       "18       False      REGULAR      USD  \n",
       "19        True      REGULAR      USD  \n",
       "20        True      REGULAR      USD  \n",
       "21        True      REGULAR      USD  \n",
       "22        True      REGULAR      USD  \n",
       "23        True      REGULAR      USD  \n",
       "24        True      REGULAR      USD  \n",
       "25        True      REGULAR      USD  \n",
       "26        True      REGULAR      USD  \n",
       "27        True      REGULAR      USD  \n",
       "28        True      REGULAR      USD  \n",
       "29        True      REGULAR      USD  \n",
       "30        True      REGULAR      USD  \n",
       "31        True      REGULAR      USD  "
      ]
     },
     "execution_count": 64,
     "metadata": {},
     "output_type": "execute_result"
    }
   ],
   "source": [
    "AAPL = yf.Ticker(\"AAPL\")\n",
    "opt = AAPL.option_chain('2021-05-07')\n",
    "opt.puts"
   ]
  },
  {
   "cell_type": "code",
   "execution_count": 65,
   "metadata": {},
   "outputs": [
    {
     "name": "stdout",
     "output_type": "stream",
     "text": [
      "[*********************100%***********************]  1 of 1 completed\n"
     ]
    }
   ],
   "source": [
    "data = yf.download(\"AAPL\", start=\"2020-03-01\", end=\"2021-03-01\")"
   ]
  },
  {
   "cell_type": "code",
   "execution_count": 66,
   "metadata": {},
   "outputs": [
    {
     "data": {
      "text/plain": [
       "Date\n",
       "2020-03-02     74.127892\n",
       "2020-03-03     71.773636\n",
       "2020-03-04     75.102829\n",
       "2020-03-05     72.666725\n",
       "2020-03-06     71.701706\n",
       "                 ...    \n",
       "2021-02-22    126.000000\n",
       "2021-02-23    125.860001\n",
       "2021-02-24    125.349998\n",
       "2021-02-25    120.989998\n",
       "2021-02-26    121.260002\n",
       "Name: Adj Close, Length: 251, dtype: float64"
      ]
     },
     "execution_count": 66,
     "metadata": {},
     "output_type": "execute_result"
    }
   ],
   "source": [
    "data['Adj Close']"
   ]
  },
  {
   "cell_type": "code",
   "execution_count": 67,
   "metadata": {},
   "outputs": [
    {
     "data": {
      "text/plain": [
       "0.45732933573445084"
      ]
     },
     "execution_count": 67,
     "metadata": {},
     "output_type": "execute_result"
    }
   ],
   "source": [
    "S = data['Adj Close'][-1]\n",
    "K = opt.puts['strike']\n",
    "T = 1/12\n",
    "r = 0.0083\n",
    "q = 0.0069\n",
    "log_return = np.log(data['Adj Close'] / data['Adj Close'].shift(1))\n",
    "vol = np.sqrt(252) * log_return.std() \n",
    "vol"
   ]
  },
  {
   "cell_type": "code",
   "execution_count": 68,
   "metadata": {},
   "outputs": [
    {
     "name": "stdout",
     "output_type": "stream",
     "text": [
      "[*********************100%***********************]  1 of 1 completed\n"
     ]
    }
   ],
   "source": [
    "data = yf.download(\"AAPL\", start=\"2020-09-01\", end=\"2021-03-01\")"
   ]
  },
  {
   "cell_type": "code",
   "execution_count": 69,
   "metadata": {},
   "outputs": [
    {
     "data": {
      "text/plain": [
       "0.37784909941441586"
      ]
     },
     "execution_count": 69,
     "metadata": {},
     "output_type": "execute_result"
    }
   ],
   "source": [
    "S = data['Adj Close'][-1]\n",
    "K = opt.puts['strike']\n",
    "T = 1/12\n",
    "r = 0.0083\n",
    "q = 0.0069\n",
    "log_return = np.log(data['Adj Close'] / data['Adj Close'].shift(1))\n",
    "vol = np.sqrt(252) * log_return.std() \n",
    "vol"
   ]
  },
  {
   "cell_type": "code",
   "execution_count": 136,
   "metadata": {},
   "outputs": [],
   "source": [
    "S0 = 121             # spot stock price\n",
    "K = 120               # strike\n",
    "T = 1/12                 # maturity \n",
    "r = 0.0083                 # risk free rate \n",
    "sig = 0.46               # diffusion coefficient or volatility\n",
    "N = 3                   # number of periods or number of time steps  \n",
    "payoff = \"put\"          # payoff"
   ]
  },
  {
   "cell_type": "code",
   "execution_count": 137,
   "metadata": {},
   "outputs": [],
   "source": [
    "dT = float(T) / N                             # Delta t\n",
    "u = np.exp(sig * np.sqrt(dT))                 # up factor\n",
    "d = 1.0 / u                                   # down factor"
   ]
  },
  {
   "cell_type": "code",
   "execution_count": 138,
   "metadata": {},
   "outputs": [],
   "source": [
    "S = np.zeros((N + 1, N + 1))\n",
    "S[0, 0] = S0\n",
    "z = 1\n",
    "for t in range(1, N + 1):\n",
    "    for i in range(z):\n",
    "        S[i, t] = S[i, t-1] * u\n",
    "        S[i+1, t] = S[i, t-1] * d\n",
    "    z += 1"
   ]
  },
  {
   "cell_type": "code",
   "execution_count": 139,
   "metadata": {},
   "outputs": [
    {
     "data": {
      "text/plain": [
       "array([[121.        , 130.64153681, 141.05133173, 152.2906012 ],\n",
       "       [  0.        , 112.07002274, 121.        , 130.64153681],\n",
       "       [  0.        ,   0.        , 103.79909087, 112.07002274],\n",
       "       [  0.        ,   0.        ,   0.        ,  96.1385659 ]])"
      ]
     },
     "execution_count": 139,
     "metadata": {},
     "output_type": "execute_result"
    }
   ],
   "source": [
    "S"
   ]
  },
  {
   "cell_type": "code",
   "execution_count": 140,
   "metadata": {},
   "outputs": [
    {
     "data": {
      "text/plain": [
       "0.4823450403177774"
      ]
     },
     "execution_count": 140,
     "metadata": {},
     "output_type": "execute_result"
    }
   ],
   "source": [
    "a = np.exp(r * dT)    # risk free compound return\n",
    "p = (a - d)/ (u - d)  # risk neutral up probability\n",
    "q = 1.0 - p           # risk neutral down probability\n",
    "p"
   ]
  },
  {
   "cell_type": "code",
   "execution_count": 198,
   "metadata": {},
   "outputs": [],
   "source": [
    "def mcs_simulation_np(m,n):       #m is the number of steps and n is the number of simulation\n",
    "    M = m\n",
    "    I = n\n",
    "    dt = T / M \n",
    "    S = np.zeros((M + 1, I))\n",
    "    S[0] = S0 \n",
    "    rn = np.random.standard_normal(S.shape) \n",
    "    for t in range(1, M + 1): \n",
    "        S[t] = S[t-1] * np.exp((r - sigma ** 2 / 2) * dt + sigma * np.sqrt(dt) * rn[t]) \n",
    "    return S"
   ]
  },
  {
   "cell_type": "code",
   "execution_count": 200,
   "metadata": {},
   "outputs": [],
   "source": [
    "S = mcs_simulation_np(90,10000)"
   ]
  },
  {
   "cell_type": "code",
   "execution_count": 201,
   "metadata": {},
   "outputs": [
    {
     "data": {
      "text/plain": [
       "Text(0.5, 1.0, 'Frequency distribution of the simulated end-of-preiod values')"
      ]
     },
     "execution_count": 201,
     "metadata": {},
     "output_type": "execute_result"
    },
    {
     "data": {
      "image/png": "[encoded data removed]",
      "text/plain": [
       "<Figure size 432x288 with 1 Axes>"
      ]
     },
     "metadata": {
      "needs_background": "light"
     },
     "output_type": "display_data"
    }
   ],
   "source": [
    "import matplotlib.pyplot as plt\n",
    "n, bins, patches = plt.hist(x=S[-1,:], bins='auto', color='#0504aa',alpha=0.7, rwidth=0.85)\n",
    "\n",
    "plt.grid(axis='y', alpha=0.75)\n",
    "plt.xlabel('S_T')\n",
    "plt.ylabel('Frequency')\n",
    "plt.title('Frequency distribution of the simulated end-of-preiod values')"
   ]
  },
  {
   "cell_type": "code",
   "execution_count": 204,
   "metadata": {},
   "outputs": [
    {
     "name": "stdout",
     "output_type": "stream",
     "text": [
      "Binary put 0.5001\n"
     ]
    }
   ],
   "source": [
    "pp = (K - S[-1,:])>0\n",
    "bpp = np.mean(np.maximum(pp.astype(int),0))\n",
    "print('Binary put', str(bpp))"
   ]
  },
  {
   "cell_type": "code",
   "execution_count": 205,
   "metadata": {},
   "outputs": [
    {
     "name": "stdout",
     "output_type": "stream",
     "text": [
      "[*********************100%***********************]  1 of 1 completed\n"
     ]
    }
   ],
   "source": [
    "data = yf.download(\"AAPL\", start=\"2020-03-01\", end=\"2021-03-01\")"
   ]
  },
  {
   "cell_type": "code",
   "execution_count": 206,
   "metadata": {},
   "outputs": [
    {
     "data": {
      "text/plain": [
       "Date\n",
       "2020-03-02     74.127892\n",
       "2020-03-03     71.773636\n",
       "2020-03-04     75.102829\n",
       "2020-03-05     72.666725\n",
       "2020-03-06     71.701706\n",
       "                 ...    \n",
       "2021-02-22    126.000000\n",
       "2021-02-23    125.860001\n",
       "2021-02-24    125.349998\n",
       "2021-02-25    120.989998\n",
       "2021-02-26    121.260002\n",
       "Name: Adj Close, Length: 251, dtype: float64"
      ]
     },
     "execution_count": 206,
     "metadata": {},
     "output_type": "execute_result"
    }
   ],
   "source": [
    "data['Adj Close']"
   ]
  },
  {
   "cell_type": "code",
   "execution_count": 207,
   "metadata": {},
   "outputs": [
    {
     "data": {
      "text/plain": [
       "0.45732933573445084"
      ]
     },
     "execution_count": 207,
     "metadata": {},
     "output_type": "execute_result"
    }
   ],
   "source": [
    "S = data['Adj Close'][-1]\n",
    "K = opt.puts['strike']\n",
    "T = 1/12\n",
    "r = 0.0083\n",
    "q = 0.0069\n",
    "log_return = np.log(data['Adj Close'] / data['Adj Close'].shift(1))\n",
    "vol = np.sqrt(252) * log_return.std() \n",
    "vol"
   ]
  },
  {
   "cell_type": "code",
   "execution_count": 208,
   "metadata": {},
   "outputs": [],
   "source": [
    "def mcs_simulation_np(p):\n",
    "    M = p\n",
    "    I = p\n",
    "    dt = T / M \n",
    "    S = np.zeros((M + 1, I))\n",
    "    S[0] = S0 \n",
    "    rn = np.random.standard_normal(S.shape) \n",
    "    for t in range(1, M + 1): \n",
    "        S[t] = S[t-1] * np.exp((r - sigma ** 2 / 2) * dt + sigma * np.sqrt(dt) * rn[t]) \n",
    "    return S"
   ]
  },
  {
   "cell_type": "code",
   "execution_count": 209,
   "metadata": {},
   "outputs": [],
   "source": [
    "T = 1/12\n",
    "r = 0.0083\n",
    "sigma = 0.46\n",
    "S0 = 121\n",
    "K = 120"
   ]
  },
  {
   "cell_type": "code",
   "execution_count": 210,
   "metadata": {},
   "outputs": [],
   "source": [
    "S = mcs_simulation_np(1000)"
   ]
  },
  {
   "cell_type": "code",
   "execution_count": 211,
   "metadata": {},
   "outputs": [
    {
     "data": {
      "text/plain": [
       "array([[121.        , 120.93854201, 120.69820695, ..., 143.43719857,\n",
       "        143.41171561, 143.17630286],\n",
       "       [121.        , 121.84797882, 121.35870104, ..., 152.56453708,\n",
       "        152.89314379, 152.89589079],\n",
       "       [121.        , 121.5082816 , 121.43503135, ..., 114.77148313,\n",
       "        114.37687414, 114.03019853],\n",
       "       ...,\n",
       "       [121.        , 119.9491754 , 119.48273839, ..., 134.34943377,\n",
       "        134.06775712, 135.22312673],\n",
       "       [121.        , 121.11983431, 121.85989728, ..., 146.30442851,\n",
       "        147.22966423, 147.21286958],\n",
       "       [121.        , 120.480142  , 121.33779122, ..., 111.16789531,\n",
       "        111.17145374, 111.49667326]])"
      ]
     },
     "execution_count": 211,
     "metadata": {},
     "output_type": "execute_result"
    }
   ],
   "source": [
    "S = np.transpose(S)\n",
    "S"
   ]
  },
  {
   "cell_type": "code",
   "execution_count": 212,
   "metadata": {},
   "outputs": [
    {
     "data": {
      "text/plain": [
       "Text(0.5, 1.0, 'Frequency distribution of the simulated end-of-preiod values')"
      ]
     },
     "execution_count": 212,
     "metadata": {},
     "output_type": "execute_result"
    },
    {
     "data": {
      "image/png": "[encoded data removed]",
      "text/plain": [
       "<Figure size 432x288 with 1 Axes>"
      ]
     },
     "metadata": {
      "needs_background": "light"
     },
     "output_type": "display_data"
    }
   ],
   "source": [
    "import matplotlib.pyplot as plt\n",
    "n, bins, patches = plt.hist(x=S[:,-1], bins='auto', color='#0504aa',alpha=0.7, rwidth=0.85)\n",
    "\n",
    "plt.grid(axis='y', alpha=0.75)\n",
    "plt.xlabel('S_T')\n",
    "plt.ylabel('Frequency')\n",
    "plt.title('Frequency distribution of the simulated end-of-preiod values')"
   ]
  },
  {
   "cell_type": "code",
   "execution_count": 213,
   "metadata": {},
   "outputs": [
    {
     "name": "stdout",
     "output_type": "stream",
     "text": [
      "Binary put 0.7932067932067932\n"
     ]
    }
   ],
   "source": [
    "pp = (K - S[-1,:])>0\n",
    "bpp = np.mean(np.maximum(pp.astype(int),0))\n",
    "print('Binary put', str(bpp))"
   ]
  },
  {
   "cell_type": "code",
   "execution_count": 214,
   "metadata": {},
   "outputs": [],
   "source": [
    "def delta(S, K, T, r, q, vol, payoff):\n",
    "    \n",
    "    d1 = (np.log(S / K) + (r - q + 0.5 * vol ** 2) * T) / (vol * np.sqrt(T))\n",
    "    if payoff == \"call\":\n",
    "        delta = np.exp(-q * T) * si.norm.cdf(d1, 0.0, 1.0)\n",
    "    elif payoff == \"put\":\n",
    "        delta =  - np.exp(-q * T) * si.norm.cdf(-d1, 0.0, 1.0)\n",
    "    \n",
    "    return delta"
   ]
  },
  {
   "cell_type": "code",
   "execution_count": 215,
   "metadata": {},
   "outputs": [
    {
     "data": {
      "text/plain": [
       "-0.44811674136003143"
      ]
     },
     "execution_count": 215,
     "metadata": {},
     "output_type": "execute_result"
    }
   ],
   "source": [
    "delta(121, 120, 1/12, 0.0083, 0.0069, 0.46, 'put')"
   ]
  },
  {
   "cell_type": "code",
   "execution_count": 216,
   "metadata": {},
   "outputs": [],
   "source": [
    "S = np.linspace(50,150,11)\n",
    "Delta_Call = np.zeros((len(S),1))\n",
    "Delta_Put = np.zeros((len(S),1))\n",
    "for i in range(len(S)):\n",
    "    Delta_Call [i] = delta(S[i], 100, 1, 0.05, 0.03, 0.25, 'call')\n",
    "    Delta_Put [i] = delta(S[i], 100, 1, 0.05, 0.03, 0.25, 'put')"
   ]
  },
  {
   "cell_type": "code",
   "execution_count": 217,
   "metadata": {},
   "outputs": [
    {
     "data": {
      "text/plain": [
       "<matplotlib.legend.Legend at 0x21c4ed03b50>"
      ]
     },
     "execution_count": 217,
     "metadata": {},
     "output_type": "execute_result"
    },
    {
     "data": {
      "image/png": "[encoded data removed]",
      "text/plain": [
       "<Figure size 432x288 with 1 Axes>"
      ]
     },
     "metadata": {
      "needs_background": "light"
     },
     "output_type": "display_data"
    }
   ],
   "source": [
    "fig = plt.figure()\n",
    "plt.plot(S, Delta_Call, '-')\n",
    "plt.plot(S, Delta_Put, '--')\n",
    "plt.grid()\n",
    "plt.xlabel('Stock Price')\n",
    "plt.ylabel('Delta')\n",
    "plt.title('Delta')\n",
    "plt.legend(['Delta for Call','Delta for Put'])"
   ]
  },
  {
   "cell_type": "code",
   "execution_count": 218,
   "metadata": {},
   "outputs": [],
   "source": [
    "def gamma(S, K, T, r, q, vol, payoff):\n",
    "    \n",
    "    d1 = (np.log(S / K) + (r - q + 0.5 * vol ** 2) * T) / (vol * np.sqrt(T))\n",
    "    gamma = np.exp(-r * T) * si.norm.pdf(d1, 0.0, 1.0) / (vol * S * np.sqrt(T))\n",
    "    \n",
    "    return gamma"
   ]
  },
  {
   "cell_type": "code",
   "execution_count": 219,
   "metadata": {},
   "outputs": [
    {
     "data": {
      "text/plain": [
       "0.02460369449451104"
      ]
     },
     "execution_count": 219,
     "metadata": {},
     "output_type": "execute_result"
    }
   ],
   "source": [
    "gamma(121, 120, 1/12, 0.0083, 0.0069, 0.46, 'put')"
   ]
  },
  {
   "cell_type": "code",
   "execution_count": 220,
   "metadata": {},
   "outputs": [],
   "source": [
    "S = np.linspace(50,150,11)\n",
    "Gamma = np.zeros((len(S),1))\n",
    "for i in range(len(S)):\n",
    "    Gamma [i] = gamma(S[i], 121, 1/12, 0.0083, 0.0069, 0.46, 'put')"
   ]
  },
  {
   "cell_type": "code",
   "execution_count": 221,
   "metadata": {},
   "outputs": [
    {
     "data": {
      "text/plain": [
       "<matplotlib.legend.Legend at 0x21c4ed507c0>"
      ]
     },
     "execution_count": 221,
     "metadata": {},
     "output_type": "execute_result"
    },
    {
     "data": {
      "image/png": "[encoded data removed]",
      "text/plain": [
       "<Figure size 432x288 with 1 Axes>"
      ]
     },
     "metadata": {
      "needs_background": "light"
     },
     "output_type": "display_data"
    }
   ],
   "source": [
    "fig = plt.figure()\n",
    "plt.plot(S, Gamma, '-')\n",
    "plt.grid()\n",
    "plt.xlabel('Stock Price')\n",
    "plt.ylabel('Gamma')\n",
    "plt.title('Gamma')\n",
    "plt.legend(['Gamma for Call and Put'])"
   ]
  },
  {
   "cell_type": "code",
   "execution_count": 222,
   "metadata": {},
   "outputs": [],
   "source": [
    "def speed(S, K, T, r, q, vol, payoff):\n",
    "    \n",
    "    d1 = (np.log(S / K) + (r - q + 0.5 * vol ** 2) * T) / (vol * np.sqrt(T))\n",
    "    speed = np.exp(-q * T) * si.norm.pdf(d1, 0.0, 1.0) / ((vol **2) * (S**2) * np.sqrt(T)) * (d1 + vol * np.sqrt(T))\n",
    "    \n",
    "    return speed"
   ]
  },
  {
   "cell_type": "code",
   "execution_count": 223,
   "metadata": {},
   "outputs": [
    {
     "data": {
      "text/plain": [
       "0.00011607430723121085"
      ]
     },
     "execution_count": 223,
     "metadata": {},
     "output_type": "execute_result"
    }
   ],
   "source": [
    "speed(121, 120, 1/12, 0.0083, 0.0069, 0.46, 'put')"
   ]
  },
  {
   "cell_type": "code",
   "execution_count": 224,
   "metadata": {},
   "outputs": [],
   "source": [
    "S = np.linspace(50,150,11)\n",
    "Speed = np.zeros((len(S),1))\n",
    "for i in range(len(S)):\n",
    "    Speed [i] = speed(S[i], 121, 1/12, 0.0083, 0.0069, 0.46, 'put')"
   ]
  },
  {
   "cell_type": "code",
   "execution_count": 225,
   "metadata": {},
   "outputs": [
    {
     "data": {
      "text/plain": [
       "<matplotlib.legend.Legend at 0x21c4edb1e50>"
      ]
     },
     "execution_count": 225,
     "metadata": {},
     "output_type": "execute_result"
    },
    {
     "data": {
      "image/png": "[encoded data removed]",
      "text/plain": [
       "<Figure size 432x288 with 1 Axes>"
      ]
     },
     "metadata": {
      "needs_background": "light"
     },
     "output_type": "display_data"
    }
   ],
   "source": [
    "fig = plt.figure()\n",
    "plt.plot(S, Speed, '-')\n",
    "plt.grid()\n",
    "plt.xlabel('Stock Price')\n",
    "plt.ylabel('Speed')\n",
    "plt.title('Speed')\n",
    "plt.legend(['Speed for Call and Put'])"
   ]
  },
  {
   "cell_type": "code",
   "execution_count": 226,
   "metadata": {},
   "outputs": [],
   "source": [
    "def theta(S, K, T, r, q, vol, payoff):\n",
    "    \n",
    "    d1 = (np.log(S / K) + (r - q + 0.5 * vol ** 2) * T) / (vol * np.sqrt(T))\n",
    "    d2 = (np.log(S / K) + (r - q - 0.5 * vol ** 2) * T) / (vol * np.sqrt(T))\n",
    "    if payoff == \"call\":\n",
    "        theta = vol * S * np.exp(-q * T) * si.norm.pdf(d1, 0.0, 1.0) / (2 * np.sqrt(T)) - q * S * np.exp(-q * T) * si.norm.cdf(d1, 0.0, 1.0) + r * K * np.exp(-r * T) * si.norm.cdf(d2, 0.0, 1.0)\n",
    "    elif payoff == \"put\":\n",
    "        theta = vol * S * np.exp(-q * T) * si.norm.pdf(-d1, 0.0, 1.0) / (2 * np.sqrt(T)) - q * S * np.exp(-q * T) * si.norm.cdf(-d1, 0.0, 1.0) + r * K * np.exp(-r * T) * si.norm.cdf(-d2, 0.0, 1.0)\n",
    "    \n",
    "    return theta"
   ]
  },
  {
   "cell_type": "code",
   "execution_count": 227,
   "metadata": {},
   "outputs": [
    {
     "data": {
      "text/plain": [
       "38.24072998996294"
      ]
     },
     "execution_count": 227,
     "metadata": {},
     "output_type": "execute_result"
    }
   ],
   "source": [
    "theta(121, 120, 1/12, 0.0083, 0.0069, 0.46, 'put')"
   ]
  },
  {
   "cell_type": "code",
   "execution_count": 230,
   "metadata": {},
   "outputs": [],
   "source": [
    "T = np.linspace(0.25,3,12)\n",
    "Theta_Call = np.zeros((len(T),1))\n",
    "Theta_Put = np.zeros((len(T),1))\n",
    "for i in range(len(T)):\n",
    "    Theta_Call [i] = theta(121, 120, T[i], 0.0083, 0.0069, 0.46, 'call')\n",
    "    Theta_Put [i] = theta(121, 120, T[i], 0.0083, 0.0069, 0.46, 'put')"
   ]
  },
  {
   "cell_type": "code",
   "execution_count": 231,
   "metadata": {},
   "outputs": [
    {
     "data": {
      "text/plain": [
       "<matplotlib.legend.Legend at 0x21c4ee9be20>"
      ]
     },
     "execution_count": 231,
     "metadata": {},
     "output_type": "execute_result"
    },
    {
     "data": {
      "image/png": "[encoded data removed]",
      "text/plain": [
       "<Figure size 432x288 with 1 Axes>"
      ]
     },
     "metadata": {
      "needs_background": "light"
     },
     "output_type": "display_data"
    }
   ],
   "source": [
    "fig = plt.figure()\n",
    "plt.plot(T, Theta_Call, '-')\n",
    "plt.plot(T, Theta_Put, '-')\n",
    "plt.grid()\n",
    "plt.xlabel('Time to Expiry')\n",
    "plt.ylabel('Theta')\n",
    "plt.title('Theta')\n",
    "plt.legend(['Theta for Call', 'Theta for Put'])"
   ]
  },
  {
   "cell_type": "code",
   "execution_count": 232,
   "metadata": {},
   "outputs": [],
   "source": [
    "def rho(S, K, T, r, q, vol, payoff):\n",
    "    \n",
    "    d1 = (np.log(S / K) + (r - q + 0.5 * vol ** 2) * T) / (vol * np.sqrt(T))\n",
    "    d2 = (np.log(S / K) + (r - q - 0.5 * vol ** 2) * T) / (vol * np.sqrt(T))\n",
    "    if payoff == \"call\":\n",
    "        rho =  K * T * np.exp(-r * T) * si.norm.cdf(d2, 0.0, 1.0)\n",
    "    elif payoff == \"put\":\n",
    "        rho = - K * T * np.exp(-r * T) * si.norm.cdf(-d2, 0.0, 1.0)\n",
    "    \n",
    "    return rho"
   ]
  },
  {
   "cell_type": "code",
   "execution_count": 233,
   "metadata": {},
   "outputs": [
    {
     "data": {
      "text/plain": [
       "-5.008587664999891"
      ]
     },
     "execution_count": 233,
     "metadata": {},
     "output_type": "execute_result"
    }
   ],
   "source": [
    "rho(121, 120, 1/12, 0.0083, 0.0069, 0.46, 'put')"
   ]
  },
  {
   "cell_type": "code",
   "execution_count": 234,
   "metadata": {},
   "outputs": [],
   "source": [
    "r = np.linspace(0,0.1,11)\n",
    "Rho_Call = np.zeros((len(r),1))\n",
    "Rho_Put = np.zeros((len(r),1))\n",
    "for i in range(len(r)):\n",
    "    Rho_Call [i] = rho(121, 120, 1/12, r[i], 0.0069, 0.46, 'call')\n",
    "    Rho_Put [i] = rho(121, 120, 1/12, r[i], 0.0069, 0.46, 'put')"
   ]
  },
  {
   "cell_type": "code",
   "execution_count": 235,
   "metadata": {},
   "outputs": [
    {
     "data": {
      "text/plain": [
       "<matplotlib.legend.Legend at 0x21c4ef0ed30>"
      ]
     },
     "execution_count": 235,
     "metadata": {},
     "output_type": "execute_result"
    },
    {
     "data": {
      "image/png": "[encoded data removed]",
      "text/plain": [
       "<Figure size 432x288 with 1 Axes>"
      ]
     },
     "metadata": {
      "needs_background": "light"
     },
     "output_type": "display_data"
    }
   ],
   "source": [
    "fig = plt.figure()\n",
    "plt.plot(r, Rho_Call, '-')\n",
    "plt.plot(r, Rho_Put, '-')\n",
    "plt.grid()\n",
    "plt.xlabel('Interest Rate')\n",
    "plt.ylabel('Rho')\n",
    "plt.title('Rho')\n",
    "plt.legend(['Rho for Call', 'Rho for Put'])"
   ]
  },
  {
   "cell_type": "code",
   "execution_count": 236,
   "metadata": {},
   "outputs": [],
   "source": [
    "def vega(S, K, T, r, q, vol, payoff):\n",
    "    \n",
    "    d1 = (np.log(S / K) + (r - q + 0.5 * vol ** 2) * T) / (vol * np.sqrt(T))\n",
    "    vega = S * np.sqrt(T) * np.exp(-q * T) * si.norm.pdf(d1, 0.0, 1.0)\n",
    "    \n",
    "    return vega"
   ]
  },
  {
   "cell_type": "code",
   "execution_count": 237,
   "metadata": {},
   "outputs": [
    {
     "data": {
      "text/plain": [
       "13.81014758184436"
      ]
     },
     "execution_count": 237,
     "metadata": {},
     "output_type": "execute_result"
    }
   ],
   "source": [
    "vega(121, 120, 1/12, 0.0083, 0.0069, 0.46, 'put')"
   ]
  },
  {
   "cell_type": "code",
   "execution_count": 238,
   "metadata": {},
   "outputs": [],
   "source": [
    "vol = np.linspace(0.1,0.4,13)\n",
    "Vega = np.zeros((len(vol),1))\n",
    "for i in range(len(vol)):\n",
    "    Vega [i] = vega(121, 120, 1/12, 0.0083, 0.0069, vol[i], 'put')"
   ]
  },
  {
   "cell_type": "code",
   "execution_count": 239,
   "metadata": {},
   "outputs": [
    {
     "data": {
      "text/plain": [
       "<matplotlib.legend.Legend at 0x21c4ef569d0>"
      ]
     },
     "execution_count": 239,
     "metadata": {},
     "output_type": "execute_result"
    },
    {
     "data": {
      "image/png": "[encoded data removed]",
      "text/plain": [
       "<Figure size 432x288 with 1 Axes>"
      ]
     },
     "metadata": {
      "needs_background": "light"
     },
     "output_type": "display_data"
    }
   ],
   "source": [
    "fig = plt.figure()\n",
    "plt.plot(vol, Vega, '-')\n",
    "plt.grid()\n",
    "plt.xlabel('Volatility')\n",
    "plt.ylabel('Vega')\n",
    "plt.title('Vega')\n",
    "plt.legend(['Vega for Call and Put'])"
   ]
  },
  {
   "cell_type": "code",
   "execution_count": null,
   "metadata": {},
   "outputs": [],
   "source": []
  }
 ],
 "metadata": {
  "kernelspec": {
   "display_name": "Python 3",
   "language": "python",
   "name": "python3"
  },
  "language_info": {
   "codemirror_mode": {
    "name": "ipython",
    "version": 3
   },
   "file_extension": ".py",
   "mimetype": "text/x-python",
   "name": "python",
   "nbconvert_exporter": "python",
   "pygments_lexer": "ipython3",
   "version": "3.8.5"
  }
 },
 "nbformat": 4,
 "nbformat_minor": 4
}
