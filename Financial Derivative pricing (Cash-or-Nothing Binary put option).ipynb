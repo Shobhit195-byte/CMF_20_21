{
 "cells": [
  {
   "cell_type": "code",
   "execution_count": 1,
   "metadata": {},
   "outputs": [
    {
     "name": "stdout",
     "output_type": "stream",
     "text": [
      "Requirement already satisfied: yfinance in c:\\users\\shobh\\anaconda3\\lib\\site-packages (0.1.55)\n",
      "Requirement already satisfied: requests>=2.20 in c:\\users\\shobh\\anaconda3\\lib\\site-packages (from yfinance) (2.24.0)\n",
      "Requirement already satisfied: lxml>=4.5.1 in c:\\users\\shobh\\anaconda3\\lib\\site-packages (from yfinance) (4.6.1)\n",
      "Requirement already satisfied: multitasking>=0.0.7 in c:\\users\\shobh\\anaconda3\\lib\\site-packages (from yfinance) (0.0.9)\n",
      "Requirement already satisfied: pandas>=0.24 in c:\\users\\shobh\\anaconda3\\lib\\site-packages (from yfinance) (1.1.3)\n",
      "Requirement already satisfied: numpy>=1.15 in c:\\users\\shobh\\anaconda3\\lib\\site-packages (from yfinance) (1.19.2)\n",
      "Requirement already satisfied: idna<3,>=2.5 in c:\\users\\shobh\\anaconda3\\lib\\site-packages (from requests>=2.20->yfinance) (2.10)\n",
      "Requirement already satisfied: chardet<4,>=3.0.2 in c:\\users\\shobh\\anaconda3\\lib\\site-packages (from requests>=2.20->yfinance) (3.0.4)\n",
      "Requirement already satisfied: certifi>=2017.4.17 in c:\\users\\shobh\\anaconda3\\lib\\site-packages (from requests>=2.20->yfinance) (2020.6.20)\n",
      "Requirement already satisfied: urllib3!=1.25.0,!=1.25.1,<1.26,>=1.21.1 in c:\\users\\shobh\\anaconda3\\lib\\site-packages (from requests>=2.20->yfinance) (1.25.11)\n",
      "Requirement already satisfied: pytz>=2017.2 in c:\\users\\shobh\\anaconda3\\lib\\site-packages (from pandas>=0.24->yfinance) (2020.1)\n",
      "Requirement already satisfied: python-dateutil>=2.7.3 in c:\\users\\shobh\\anaconda3\\lib\\site-packages (from pandas>=0.24->yfinance) (2.8.1)\n",
      "Requirement already satisfied: six>=1.5 in c:\\users\\shobh\\anaconda3\\lib\\site-packages (from python-dateutil>=2.7.3->pandas>=0.24->yfinance) (1.15.0)\n",
      "Note: you may need to restart the kernel to use updated packages.\n"
     ]
    }
   ],
   "source": [
    "pip install yfinance"
   ]
  },
  {
   "cell_type": "code",
   "execution_count": 2,
   "metadata": {},
   "outputs": [],
   "source": [
    "import yfinance as yf\n",
    "import numpy as np\n",
    "import pandas as pd\n",
    "import matplotlib as mpl"
   ]
  },
  {
   "cell_type": "code",
   "execution_count": 3,
   "metadata": {},
   "outputs": [
    {
     "name": "stdout",
     "output_type": "stream",
     "text": [
      "[*********************100%***********************]  2 of 2 completed\n"
     ]
    }
   ],
   "source": [
    "initial_data = yf.download(\"AAPL ^VIX\", start =\"2020-03-01\", end=\"2021-03-01\")"
   ]
  },
  {
   "cell_type": "code",
   "execution_count": 4,
   "metadata": {},
   "outputs": [
    {
     "data": {
      "text/html": [
       "<div>\n",
       "<style scoped>\n",
       "    .dataframe tbody tr th:only-of-type {\n",
       "        vertical-align: middle;\n",
       "    }\n",
       "\n",
       "    .dataframe tbody tr th {\n",
       "        vertical-align: top;\n",
       "    }\n",
       "\n",
       "    .dataframe thead tr th {\n",
       "        text-align: left;\n",
       "    }\n",
       "\n",
       "    .dataframe thead tr:last-of-type th {\n",
       "        text-align: right;\n",
       "    }\n",
       "</style>\n",
       "<table border=\"1\" class=\"dataframe\">\n",
       "  <thead>\n",
       "    <tr>\n",
       "      <th></th>\n",
       "      <th colspan=\"2\" halign=\"left\">Adj Close</th>\n",
       "      <th colspan=\"2\" halign=\"left\">Close</th>\n",
       "      <th colspan=\"2\" halign=\"left\">High</th>\n",
       "      <th colspan=\"2\" halign=\"left\">Low</th>\n",
       "      <th colspan=\"2\" halign=\"left\">Open</th>\n",
       "      <th colspan=\"2\" halign=\"left\">Volume</th>\n",
       "    </tr>\n",
       "    <tr>\n",
       "      <th></th>\n",
       "      <th>AAPL</th>\n",
       "      <th>^VIX</th>\n",
       "      <th>AAPL</th>\n",
       "      <th>^VIX</th>\n",
       "      <th>AAPL</th>\n",
       "      <th>^VIX</th>\n",
       "      <th>AAPL</th>\n",
       "      <th>^VIX</th>\n",
       "      <th>AAPL</th>\n",
       "      <th>^VIX</th>\n",
       "      <th>AAPL</th>\n",
       "      <th>^VIX</th>\n",
       "    </tr>\n",
       "    <tr>\n",
       "      <th>Date</th>\n",
       "      <th></th>\n",
       "      <th></th>\n",
       "      <th></th>\n",
       "      <th></th>\n",
       "      <th></th>\n",
       "      <th></th>\n",
       "      <th></th>\n",
       "      <th></th>\n",
       "      <th></th>\n",
       "      <th></th>\n",
       "      <th></th>\n",
       "      <th></th>\n",
       "    </tr>\n",
       "  </thead>\n",
       "  <tbody>\n",
       "    <tr>\n",
       "      <th>2020-03-02</th>\n",
       "      <td>74.127892</td>\n",
       "      <td>33.419998</td>\n",
       "      <td>74.702499</td>\n",
       "      <td>33.419998</td>\n",
       "      <td>75.360001</td>\n",
       "      <td>40.410000</td>\n",
       "      <td>69.430000</td>\n",
       "      <td>31.500000</td>\n",
       "      <td>70.570000</td>\n",
       "      <td>38.540001</td>\n",
       "      <td>341397200</td>\n",
       "      <td>0</td>\n",
       "    </tr>\n",
       "    <tr>\n",
       "      <th>2020-03-03</th>\n",
       "      <td>71.773636</td>\n",
       "      <td>36.820000</td>\n",
       "      <td>72.330002</td>\n",
       "      <td>36.820000</td>\n",
       "      <td>76.000000</td>\n",
       "      <td>41.060001</td>\n",
       "      <td>71.449997</td>\n",
       "      <td>24.930000</td>\n",
       "      <td>75.917503</td>\n",
       "      <td>33.650002</td>\n",
       "      <td>319475600</td>\n",
       "      <td>0</td>\n",
       "    </tr>\n",
       "    <tr>\n",
       "      <th>2020-03-04</th>\n",
       "      <td>75.102829</td>\n",
       "      <td>31.990000</td>\n",
       "      <td>75.684998</td>\n",
       "      <td>31.990000</td>\n",
       "      <td>75.849998</td>\n",
       "      <td>35.580002</td>\n",
       "      <td>73.282501</td>\n",
       "      <td>30.299999</td>\n",
       "      <td>74.110001</td>\n",
       "      <td>34.439999</td>\n",
       "      <td>219178400</td>\n",
       "      <td>0</td>\n",
       "    </tr>\n",
       "    <tr>\n",
       "      <th>2020-03-05</th>\n",
       "      <td>72.666725</td>\n",
       "      <td>39.619999</td>\n",
       "      <td>73.230003</td>\n",
       "      <td>39.619999</td>\n",
       "      <td>74.887497</td>\n",
       "      <td>42.840000</td>\n",
       "      <td>72.852501</td>\n",
       "      <td>33.540001</td>\n",
       "      <td>73.879997</td>\n",
       "      <td>33.610001</td>\n",
       "      <td>187572800</td>\n",
       "      <td>0</td>\n",
       "    </tr>\n",
       "    <tr>\n",
       "      <th>2020-03-06</th>\n",
       "      <td>71.701706</td>\n",
       "      <td>41.939999</td>\n",
       "      <td>72.257500</td>\n",
       "      <td>41.939999</td>\n",
       "      <td>72.705002</td>\n",
       "      <td>54.389999</td>\n",
       "      <td>70.307503</td>\n",
       "      <td>40.840000</td>\n",
       "      <td>70.500000</td>\n",
       "      <td>48.930000</td>\n",
       "      <td>226176800</td>\n",
       "      <td>0</td>\n",
       "    </tr>\n",
       "  </tbody>\n",
       "</table>\n",
       "</div>"
      ],
      "text/plain": [
       "            Adj Close                 Close                  High             \\\n",
       "                 AAPL       ^VIX       AAPL       ^VIX       AAPL       ^VIX   \n",
       "Date                                                                           \n",
       "2020-03-02  74.127892  33.419998  74.702499  33.419998  75.360001  40.410000   \n",
       "2020-03-03  71.773636  36.820000  72.330002  36.820000  76.000000  41.060001   \n",
       "2020-03-04  75.102829  31.990000  75.684998  31.990000  75.849998  35.580002   \n",
       "2020-03-05  72.666725  39.619999  73.230003  39.619999  74.887497  42.840000   \n",
       "2020-03-06  71.701706  41.939999  72.257500  41.939999  72.705002  54.389999   \n",
       "\n",
       "                  Low                  Open                Volume       \n",
       "                 AAPL       ^VIX       AAPL       ^VIX       AAPL ^VIX  \n",
       "Date                                                                    \n",
       "2020-03-02  69.430000  31.500000  70.570000  38.540001  341397200    0  \n",
       "2020-03-03  71.449997  24.930000  75.917503  33.650002  319475600    0  \n",
       "2020-03-04  73.282501  30.299999  74.110001  34.439999  219178400    0  \n",
       "2020-03-05  72.852501  33.540001  73.879997  33.610001  187572800    0  \n",
       "2020-03-06  70.307503  40.840000  70.500000  48.930000  226176800    0  "
      ]
     },
     "execution_count": 4,
     "metadata": {},
     "output_type": "execute_result"
    }
   ],
   "source": [
    "initial_data.head()"
   ]
  },
  {
   "cell_type": "code",
   "execution_count": 5,
   "metadata": {},
   "outputs": [
    {
     "data": {
      "text/html": [
       "<div>\n",
       "<style scoped>\n",
       "    .dataframe tbody tr th:only-of-type {\n",
       "        vertical-align: middle;\n",
       "    }\n",
       "\n",
       "    .dataframe tbody tr th {\n",
       "        vertical-align: top;\n",
       "    }\n",
       "\n",
       "    .dataframe thead th {\n",
       "        text-align: right;\n",
       "    }\n",
       "</style>\n",
       "<table border=\"1\" class=\"dataframe\">\n",
       "  <thead>\n",
       "    <tr style=\"text-align: right;\">\n",
       "      <th></th>\n",
       "      <th>AAPL</th>\n",
       "      <th>^VIX</th>\n",
       "    </tr>\n",
       "    <tr>\n",
       "      <th>Date</th>\n",
       "      <th></th>\n",
       "      <th></th>\n",
       "    </tr>\n",
       "  </thead>\n",
       "  <tbody>\n",
       "    <tr>\n",
       "      <th>2020-03-02</th>\n",
       "      <td>74.127892</td>\n",
       "      <td>33.419998</td>\n",
       "    </tr>\n",
       "    <tr>\n",
       "      <th>2020-03-03</th>\n",
       "      <td>71.773636</td>\n",
       "      <td>36.820000</td>\n",
       "    </tr>\n",
       "    <tr>\n",
       "      <th>2020-03-04</th>\n",
       "      <td>75.102829</td>\n",
       "      <td>31.990000</td>\n",
       "    </tr>\n",
       "    <tr>\n",
       "      <th>2020-03-05</th>\n",
       "      <td>72.666725</td>\n",
       "      <td>39.619999</td>\n",
       "    </tr>\n",
       "    <tr>\n",
       "      <th>2020-03-06</th>\n",
       "      <td>71.701706</td>\n",
       "      <td>41.939999</td>\n",
       "    </tr>\n",
       "  </tbody>\n",
       "</table>\n",
       "</div>"
      ],
      "text/plain": [
       "                 AAPL       ^VIX\n",
       "Date                            \n",
       "2020-03-02  74.127892  33.419998\n",
       "2020-03-03  71.773636  36.820000\n",
       "2020-03-04  75.102829  31.990000\n",
       "2020-03-05  72.666725  39.619999\n",
       "2020-03-06  71.701706  41.939999"
      ]
     },
     "execution_count": 5,
     "metadata": {},
     "output_type": "execute_result"
    }
   ],
   "source": [
    "initial_data['Adj Close'].head()"
   ]
  },
  {
   "cell_type": "code",
   "execution_count": 6,
   "metadata": {},
   "outputs": [
    {
     "name": "stdout",
     "output_type": "stream",
     "text": [
      "<class 'pandas.core.frame.DataFrame'>\n",
      "DatetimeIndex: 251 entries, 2020-03-02 to 2021-02-26\n",
      "Data columns (total 2 columns):\n",
      " #   Column  Non-Null Count  Dtype  \n",
      "---  ------  --------------  -----  \n",
      " 0   AAPL    251 non-null    float64\n",
      " 1   ^VIX    251 non-null    float64\n",
      "dtypes: float64(2)\n",
      "memory usage: 5.9 KB\n"
     ]
    }
   ],
   "source": [
    "data =  initial_data['Adj Close']\n",
    "data.info()"
   ]
  },
  {
   "cell_type": "code",
   "execution_count": 7,
   "metadata": {},
   "outputs": [
    {
     "data": {
      "text/plain": [
       "array([<AxesSubplot:xlabel='Date'>, <AxesSubplot:xlabel='Date'>],\n",
       "      dtype=object)"
      ]
     },
     "execution_count": 7,
     "metadata": {},
     "output_type": "execute_result"
    },
    {
     "data": {
      "image/png": "[encoded data removed]",
      "text/plain": [
       "<Figure size 720x864 with 2 Axes>"
      ]
     },
     "metadata": {
      "needs_background": "light"
     },
     "output_type": "display_data"
    }
   ],
   "source": [
    "data.plot(figsize=(10, 12), subplots=True)"
   ]
  },
  {
   "cell_type": "code",
   "execution_count": 8,
   "metadata": {},
   "outputs": [
    {
     "data": {
      "text/html": [
       "<div>\n",
       "<style scoped>\n",
       "    .dataframe tbody tr th:only-of-type {\n",
       "        vertical-align: middle;\n",
       "    }\n",
       "\n",
       "    .dataframe tbody tr th {\n",
       "        vertical-align: top;\n",
       "    }\n",
       "\n",
       "    .dataframe thead th {\n",
       "        text-align: right;\n",
       "    }\n",
       "</style>\n",
       "<table border=\"1\" class=\"dataframe\">\n",
       "  <thead>\n",
       "    <tr style=\"text-align: right;\">\n",
       "      <th></th>\n",
       "      <th>AAPL</th>\n",
       "      <th>^VIX</th>\n",
       "    </tr>\n",
       "  </thead>\n",
       "  <tbody>\n",
       "    <tr>\n",
       "      <th>count</th>\n",
       "      <td>251.00</td>\n",
       "      <td>251.00</td>\n",
       "    </tr>\n",
       "    <tr>\n",
       "      <th>mean</th>\n",
       "      <td>103.37</td>\n",
       "      <td>30.47</td>\n",
       "    </tr>\n",
       "    <tr>\n",
       "      <th>std</th>\n",
       "      <td>24.00</td>\n",
       "      <td>11.23</td>\n",
       "    </tr>\n",
       "    <tr>\n",
       "      <th>min</th>\n",
       "      <td>55.66</td>\n",
       "      <td>19.97</td>\n",
       "    </tr>\n",
       "    <tr>\n",
       "      <th>25%</th>\n",
       "      <td>79.73</td>\n",
       "      <td>23.22</td>\n",
       "    </tr>\n",
       "    <tr>\n",
       "      <th>50%</th>\n",
       "      <td>112.37</td>\n",
       "      <td>26.97</td>\n",
       "    </tr>\n",
       "    <tr>\n",
       "      <th>75%</th>\n",
       "      <td>122.65</td>\n",
       "      <td>33.07</td>\n",
       "    </tr>\n",
       "    <tr>\n",
       "      <th>max</th>\n",
       "      <td>142.95</td>\n",
       "      <td>82.69</td>\n",
       "    </tr>\n",
       "  </tbody>\n",
       "</table>\n",
       "</div>"
      ],
      "text/plain": [
       "         AAPL    ^VIX\n",
       "count  251.00  251.00\n",
       "mean   103.37   30.47\n",
       "std     24.00   11.23\n",
       "min     55.66   19.97\n",
       "25%     79.73   23.22\n",
       "50%    112.37   26.97\n",
       "75%    122.65   33.07\n",
       "max    142.95   82.69"
      ]
     },
     "execution_count": 8,
     "metadata": {},
     "output_type": "execute_result"
    }
   ],
   "source": [
    "data.describe().round(2)"
   ]
  },
  {
   "cell_type": "code",
   "execution_count": 9,
   "metadata": {},
   "outputs": [
    {
     "data": {
      "text/html": [
       "<div>\n",
       "<style scoped>\n",
       "    .dataframe tbody tr th:only-of-type {\n",
       "        vertical-align: middle;\n",
       "    }\n",
       "\n",
       "    .dataframe tbody tr th {\n",
       "        vertical-align: top;\n",
       "    }\n",
       "\n",
       "    .dataframe thead th {\n",
       "        text-align: right;\n",
       "    }\n",
       "</style>\n",
       "<table border=\"1\" class=\"dataframe\">\n",
       "  <thead>\n",
       "    <tr style=\"text-align: right;\">\n",
       "      <th></th>\n",
       "      <th>AAPL</th>\n",
       "      <th>^VIX</th>\n",
       "    </tr>\n",
       "    <tr>\n",
       "      <th>Date</th>\n",
       "      <th></th>\n",
       "      <th></th>\n",
       "    </tr>\n",
       "  </thead>\n",
       "  <tbody>\n",
       "    <tr>\n",
       "      <th>2020-03-02</th>\n",
       "      <td>NaN</td>\n",
       "      <td>NaN</td>\n",
       "    </tr>\n",
       "    <tr>\n",
       "      <th>2020-03-03</th>\n",
       "      <td>-2.354256</td>\n",
       "      <td>3.400002</td>\n",
       "    </tr>\n",
       "    <tr>\n",
       "      <th>2020-03-04</th>\n",
       "      <td>3.329193</td>\n",
       "      <td>-4.830000</td>\n",
       "    </tr>\n",
       "    <tr>\n",
       "      <th>2020-03-05</th>\n",
       "      <td>-2.436104</td>\n",
       "      <td>7.629999</td>\n",
       "    </tr>\n",
       "    <tr>\n",
       "      <th>2020-03-06</th>\n",
       "      <td>-0.965019</td>\n",
       "      <td>2.320000</td>\n",
       "    </tr>\n",
       "  </tbody>\n",
       "</table>\n",
       "</div>"
      ],
      "text/plain": [
       "                AAPL      ^VIX\n",
       "Date                          \n",
       "2020-03-02       NaN       NaN\n",
       "2020-03-03 -2.354256  3.400002\n",
       "2020-03-04  3.329193 -4.830000\n",
       "2020-03-05 -2.436104  7.629999\n",
       "2020-03-06 -0.965019  2.320000"
      ]
     },
     "execution_count": 9,
     "metadata": {},
     "output_type": "execute_result"
    }
   ],
   "source": [
    "data.diff().head()"
   ]
  },
  {
   "cell_type": "code",
   "execution_count": 10,
   "metadata": {},
   "outputs": [
    {
     "data": {
      "text/html": [
       "<div>\n",
       "<style scoped>\n",
       "    .dataframe tbody tr th:only-of-type {\n",
       "        vertical-align: middle;\n",
       "    }\n",
       "\n",
       "    .dataframe tbody tr th {\n",
       "        vertical-align: top;\n",
       "    }\n",
       "\n",
       "    .dataframe thead th {\n",
       "        text-align: right;\n",
       "    }\n",
       "</style>\n",
       "<table border=\"1\" class=\"dataframe\">\n",
       "  <thead>\n",
       "    <tr style=\"text-align: right;\">\n",
       "      <th></th>\n",
       "      <th>AAPL</th>\n",
       "      <th>^VIX</th>\n",
       "    </tr>\n",
       "  </thead>\n",
       "  <tbody>\n",
       "    <tr>\n",
       "      <th>count</th>\n",
       "      <td>250.00</td>\n",
       "      <td>250.00</td>\n",
       "    </tr>\n",
       "    <tr>\n",
       "      <th>mean</th>\n",
       "      <td>0.19</td>\n",
       "      <td>-0.02</td>\n",
       "    </tr>\n",
       "    <tr>\n",
       "      <th>std</th>\n",
       "      <td>2.69</td>\n",
       "      <td>3.66</td>\n",
       "    </tr>\n",
       "    <tr>\n",
       "      <th>min</th>\n",
       "      <td>-10.49</td>\n",
       "      <td>-17.64</td>\n",
       "    </tr>\n",
       "    <tr>\n",
       "      <th>25%</th>\n",
       "      <td>-1.09</td>\n",
       "      <td>-1.37</td>\n",
       "    </tr>\n",
       "    <tr>\n",
       "      <th>50%</th>\n",
       "      <td>0.15</td>\n",
       "      <td>-0.30</td>\n",
       "    </tr>\n",
       "    <tr>\n",
       "      <th>75%</th>\n",
       "      <td>1.71</td>\n",
       "      <td>0.90</td>\n",
       "    </tr>\n",
       "    <tr>\n",
       "      <th>max</th>\n",
       "      <td>10.02</td>\n",
       "      <td>24.86</td>\n",
       "    </tr>\n",
       "  </tbody>\n",
       "</table>\n",
       "</div>"
      ],
      "text/plain": [
       "         AAPL    ^VIX\n",
       "count  250.00  250.00\n",
       "mean     0.19   -0.02\n",
       "std      2.69    3.66\n",
       "min    -10.49  -17.64\n",
       "25%     -1.09   -1.37\n",
       "50%      0.15   -0.30\n",
       "75%      1.71    0.90\n",
       "max     10.02   24.86"
      ]
     },
     "execution_count": 10,
     "metadata": {},
     "output_type": "execute_result"
    }
   ],
   "source": [
    "data.diff().describe().round(2)"
   ]
  },
  {
   "cell_type": "code",
   "execution_count": 11,
   "metadata": {},
   "outputs": [
    {
     "data": {
      "text/html": [
       "<div>\n",
       "<style scoped>\n",
       "    .dataframe tbody tr th:only-of-type {\n",
       "        vertical-align: middle;\n",
       "    }\n",
       "\n",
       "    .dataframe tbody tr th {\n",
       "        vertical-align: top;\n",
       "    }\n",
       "\n",
       "    .dataframe thead th {\n",
       "        text-align: right;\n",
       "    }\n",
       "</style>\n",
       "<table border=\"1\" class=\"dataframe\">\n",
       "  <thead>\n",
       "    <tr style=\"text-align: right;\">\n",
       "      <th></th>\n",
       "      <th>AAPL</th>\n",
       "      <th>^VIX</th>\n",
       "    </tr>\n",
       "    <tr>\n",
       "      <th>Date</th>\n",
       "      <th></th>\n",
       "      <th></th>\n",
       "    </tr>\n",
       "  </thead>\n",
       "  <tbody>\n",
       "    <tr>\n",
       "      <th>2020-03-02</th>\n",
       "      <td>NaN</td>\n",
       "      <td>NaN</td>\n",
       "    </tr>\n",
       "    <tr>\n",
       "      <th>2020-03-03</th>\n",
       "      <td>-0.0318</td>\n",
       "      <td>0.1017</td>\n",
       "    </tr>\n",
       "    <tr>\n",
       "      <th>2020-03-04</th>\n",
       "      <td>0.0464</td>\n",
       "      <td>-0.1312</td>\n",
       "    </tr>\n",
       "    <tr>\n",
       "      <th>2020-03-05</th>\n",
       "      <td>-0.0324</td>\n",
       "      <td>0.2385</td>\n",
       "    </tr>\n",
       "    <tr>\n",
       "      <th>2020-03-06</th>\n",
       "      <td>-0.0133</td>\n",
       "      <td>0.0586</td>\n",
       "    </tr>\n",
       "  </tbody>\n",
       "</table>\n",
       "</div>"
      ],
      "text/plain": [
       "              AAPL    ^VIX\n",
       "Date                      \n",
       "2020-03-02     NaN     NaN\n",
       "2020-03-03 -0.0318  0.1017\n",
       "2020-03-04  0.0464 -0.1312\n",
       "2020-03-05 -0.0324  0.2385\n",
       "2020-03-06 -0.0133  0.0586"
      ]
     },
     "execution_count": 11,
     "metadata": {},
     "output_type": "execute_result"
    }
   ],
   "source": [
    "data.pct_change().round(4).head()"
   ]
  },
  {
   "cell_type": "code",
   "execution_count": 12,
   "metadata": {},
   "outputs": [
    {
     "data": {
      "image/png": "[encoded data removed]",
      "text/plain": [
       "<Figure size 720x432 with 1 Axes>"
      ]
     },
     "metadata": {
      "needs_background": "light"
     },
     "output_type": "display_data"
    }
   ],
   "source": [
    "data.pct_change().mean().plot(kind='bar', figsize=(10, 6));"
   ]
  },
  {
   "cell_type": "code",
   "execution_count": 13,
   "metadata": {},
   "outputs": [
    {
     "data": {
      "text/html": [
       "<div>\n",
       "<style scoped>\n",
       "    .dataframe tbody tr th:only-of-type {\n",
       "        vertical-align: middle;\n",
       "    }\n",
       "\n",
       "    .dataframe tbody tr th {\n",
       "        vertical-align: top;\n",
       "    }\n",
       "\n",
       "    .dataframe thead th {\n",
       "        text-align: right;\n",
       "    }\n",
       "</style>\n",
       "<table border=\"1\" class=\"dataframe\">\n",
       "  <thead>\n",
       "    <tr style=\"text-align: right;\">\n",
       "      <th></th>\n",
       "      <th>AAPL</th>\n",
       "      <th>^VIX</th>\n",
       "    </tr>\n",
       "    <tr>\n",
       "      <th>Date</th>\n",
       "      <th></th>\n",
       "      <th></th>\n",
       "    </tr>\n",
       "  </thead>\n",
       "  <tbody>\n",
       "    <tr>\n",
       "      <th>2020-03-02</th>\n",
       "      <td>NaN</td>\n",
       "      <td>NaN</td>\n",
       "    </tr>\n",
       "    <tr>\n",
       "      <th>2020-03-03</th>\n",
       "      <td>-0.0323</td>\n",
       "      <td>0.0969</td>\n",
       "    </tr>\n",
       "    <tr>\n",
       "      <th>2020-03-04</th>\n",
       "      <td>0.0453</td>\n",
       "      <td>-0.1406</td>\n",
       "    </tr>\n",
       "    <tr>\n",
       "      <th>2020-03-05</th>\n",
       "      <td>-0.0330</td>\n",
       "      <td>0.2139</td>\n",
       "    </tr>\n",
       "    <tr>\n",
       "      <th>2020-03-06</th>\n",
       "      <td>-0.0134</td>\n",
       "      <td>0.0569</td>\n",
       "    </tr>\n",
       "  </tbody>\n",
       "</table>\n",
       "</div>"
      ],
      "text/plain": [
       "              AAPL    ^VIX\n",
       "Date                      \n",
       "2020-03-02     NaN     NaN\n",
       "2020-03-03 -0.0323  0.0969\n",
       "2020-03-04  0.0453 -0.1406\n",
       "2020-03-05 -0.0330  0.2139\n",
       "2020-03-06 -0.0134  0.0569"
      ]
     },
     "execution_count": 13,
     "metadata": {},
     "output_type": "execute_result"
    }
   ],
   "source": [
    "rets = np.log(data / data.shift(1))\n",
    "rets.head().round(4)"
   ]
  },
  {
   "cell_type": "code",
   "execution_count": 14,
   "metadata": {},
   "outputs": [
    {
     "data": {
      "image/png": "[encoded data removed]",
      "text/plain": [
       "<Figure size 720x432 with 1 Axes>"
      ]
     },
     "metadata": {
      "needs_background": "light"
     },
     "output_type": "display_data"
    }
   ],
   "source": [
    "rets.cumsum().apply(np.exp).plot(figsize=(10, 6));"
   ]
  },
  {
   "cell_type": "code",
   "execution_count": 16,
   "metadata": {},
   "outputs": [],
   "source": [
    "import numpy as np\n",
    "import pandas as pd\n",
    "import matplotlib.pyplot as plt\n",
    "import scipy.stats as si\n",
    "import yfinance as yf\n",
    "import os"
   ]
  },
  {
   "cell_type": "code",
   "execution_count": 17,
   "metadata": {},
   "outputs": [
    {
     "data": {
      "text/html": [
       "<div>\n",
       "<style scoped>\n",
       "    .dataframe tbody tr th:only-of-type {\n",
       "        vertical-align: middle;\n",
       "    }\n",
       "\n",
       "    .dataframe tbody tr th {\n",
       "        vertical-align: top;\n",
       "    }\n",
       "\n",
       "    .dataframe thead th {\n",
       "        text-align: right;\n",
       "    }\n",
       "</style>\n",
       "<table border=\"1\" class=\"dataframe\">\n",
       "  <thead>\n",
       "    <tr style=\"text-align: right;\">\n",
       "      <th></th>\n",
       "      <th>contractSymbol</th>\n",
       "      <th>lastTradeDate</th>\n",
       "      <th>strike</th>\n",
       "      <th>lastPrice</th>\n",
       "      <th>bid</th>\n",
       "      <th>ask</th>\n",
       "      <th>change</th>\n",
       "      <th>percentChange</th>\n",
       "      <th>volume</th>\n",
       "      <th>openInterest</th>\n",
       "      <th>impliedVolatility</th>\n",
       "      <th>inTheMoney</th>\n",
       "      <th>contractSize</th>\n",
       "      <th>currency</th>\n",
       "    </tr>\n",
       "  </thead>\n",
       "  <tbody>\n",
       "    <tr>\n",
       "      <th>0</th>\n",
       "      <td>AAPL210507P00075000</td>\n",
       "      <td>2021-04-05 16:52:05</td>\n",
       "      <td>75.0</td>\n",
       "      <td>0.06</td>\n",
       "      <td>0.02</td>\n",
       "      <td>0.05</td>\n",
       "      <td>0.000000</td>\n",
       "      <td>0.000000</td>\n",
       "      <td>5</td>\n",
       "      <td>12</td>\n",
       "      <td>0.691409</td>\n",
       "      <td>False</td>\n",
       "      <td>REGULAR</td>\n",
       "      <td>USD</td>\n",
       "    </tr>\n",
       "    <tr>\n",
       "      <th>1</th>\n",
       "      <td>AAPL210507P00080000</td>\n",
       "      <td>2021-04-06 19:27:01</td>\n",
       "      <td>80.0</td>\n",
       "      <td>0.04</td>\n",
       "      <td>0.05</td>\n",
       "      <td>0.07</td>\n",
       "      <td>-0.020000</td>\n",
       "      <td>-33.333336</td>\n",
       "      <td>11</td>\n",
       "      <td>60</td>\n",
       "      <td>0.652347</td>\n",
       "      <td>False</td>\n",
       "      <td>REGULAR</td>\n",
       "      <td>USD</td>\n",
       "    </tr>\n",
       "    <tr>\n",
       "      <th>2</th>\n",
       "      <td>AAPL210507P00085000</td>\n",
       "      <td>2021-04-06 13:32:59</td>\n",
       "      <td>85.0</td>\n",
       "      <td>0.08</td>\n",
       "      <td>0.08</td>\n",
       "      <td>0.10</td>\n",
       "      <td>-0.070000</td>\n",
       "      <td>-46.666670</td>\n",
       "      <td>4</td>\n",
       "      <td>45</td>\n",
       "      <td>0.605473</td>\n",
       "      <td>False</td>\n",
       "      <td>REGULAR</td>\n",
       "      <td>USD</td>\n",
       "    </tr>\n",
       "    <tr>\n",
       "      <th>3</th>\n",
       "      <td>AAPL210507P00090000</td>\n",
       "      <td>2021-04-06 17:11:20</td>\n",
       "      <td>90.0</td>\n",
       "      <td>0.12</td>\n",
       "      <td>0.11</td>\n",
       "      <td>0.14</td>\n",
       "      <td>0.000000</td>\n",
       "      <td>0.000000</td>\n",
       "      <td>36</td>\n",
       "      <td>48</td>\n",
       "      <td>0.553715</td>\n",
       "      <td>False</td>\n",
       "      <td>REGULAR</td>\n",
       "      <td>USD</td>\n",
       "    </tr>\n",
       "    <tr>\n",
       "      <th>4</th>\n",
       "      <td>AAPL210507P00095000</td>\n",
       "      <td>2021-04-06 14:55:48</td>\n",
       "      <td>95.0</td>\n",
       "      <td>0.17</td>\n",
       "      <td>0.17</td>\n",
       "      <td>0.18</td>\n",
       "      <td>0.000000</td>\n",
       "      <td>0.000000</td>\n",
       "      <td>24</td>\n",
       "      <td>211</td>\n",
       "      <td>0.501958</td>\n",
       "      <td>False</td>\n",
       "      <td>REGULAR</td>\n",
       "      <td>USD</td>\n",
       "    </tr>\n",
       "    <tr>\n",
       "      <th>5</th>\n",
       "      <td>AAPL210507P00100000</td>\n",
       "      <td>2021-04-06 19:24:49</td>\n",
       "      <td>100.0</td>\n",
       "      <td>0.23</td>\n",
       "      <td>0.21</td>\n",
       "      <td>0.24</td>\n",
       "      <td>-0.010000</td>\n",
       "      <td>-4.166663</td>\n",
       "      <td>141</td>\n",
       "      <td>854</td>\n",
       "      <td>0.448736</td>\n",
       "      <td>False</td>\n",
       "      <td>REGULAR</td>\n",
       "      <td>USD</td>\n",
       "    </tr>\n",
       "    <tr>\n",
       "      <th>6</th>\n",
       "      <td>AAPL210507P00105000</td>\n",
       "      <td>2021-04-06 19:36:55</td>\n",
       "      <td>105.0</td>\n",
       "      <td>0.33</td>\n",
       "      <td>0.31</td>\n",
       "      <td>0.35</td>\n",
       "      <td>-0.040000</td>\n",
       "      <td>-10.810808</td>\n",
       "      <td>93</td>\n",
       "      <td>325</td>\n",
       "      <td>0.399420</td>\n",
       "      <td>False</td>\n",
       "      <td>REGULAR</td>\n",
       "      <td>USD</td>\n",
       "    </tr>\n",
       "    <tr>\n",
       "      <th>7</th>\n",
       "      <td>AAPL210507P00107000</td>\n",
       "      <td>2021-04-06 17:50:30</td>\n",
       "      <td>107.0</td>\n",
       "      <td>0.41</td>\n",
       "      <td>0.37</td>\n",
       "      <td>0.42</td>\n",
       "      <td>-0.030000</td>\n",
       "      <td>-6.818182</td>\n",
       "      <td>66</td>\n",
       "      <td>362</td>\n",
       "      <td>0.381842</td>\n",
       "      <td>False</td>\n",
       "      <td>REGULAR</td>\n",
       "      <td>USD</td>\n",
       "    </tr>\n",
       "    <tr>\n",
       "      <th>8</th>\n",
       "      <td>AAPL210507P00108000</td>\n",
       "      <td>2021-04-06 17:18:40</td>\n",
       "      <td>108.0</td>\n",
       "      <td>0.45</td>\n",
       "      <td>0.41</td>\n",
       "      <td>0.46</td>\n",
       "      <td>-0.070000</td>\n",
       "      <td>-13.461537</td>\n",
       "      <td>49</td>\n",
       "      <td>252</td>\n",
       "      <td>0.372809</td>\n",
       "      <td>False</td>\n",
       "      <td>REGULAR</td>\n",
       "      <td>USD</td>\n",
       "    </tr>\n",
       "    <tr>\n",
       "      <th>9</th>\n",
       "      <td>AAPL210507P00109000</td>\n",
       "      <td>2021-04-06 19:17:01</td>\n",
       "      <td>109.0</td>\n",
       "      <td>0.48</td>\n",
       "      <td>0.46</td>\n",
       "      <td>0.51</td>\n",
       "      <td>-0.070000</td>\n",
       "      <td>-12.727277</td>\n",
       "      <td>27</td>\n",
       "      <td>113</td>\n",
       "      <td>0.364752</td>\n",
       "      <td>False</td>\n",
       "      <td>REGULAR</td>\n",
       "      <td>USD</td>\n",
       "    </tr>\n",
       "    <tr>\n",
       "      <th>10</th>\n",
       "      <td>AAPL210507P00110000</td>\n",
       "      <td>2021-04-06 19:30:40</td>\n",
       "      <td>110.0</td>\n",
       "      <td>0.55</td>\n",
       "      <td>0.51</td>\n",
       "      <td>0.56</td>\n",
       "      <td>-0.050000</td>\n",
       "      <td>-8.333335</td>\n",
       "      <td>93</td>\n",
       "      <td>583</td>\n",
       "      <td>0.355963</td>\n",
       "      <td>False</td>\n",
       "      <td>REGULAR</td>\n",
       "      <td>USD</td>\n",
       "    </tr>\n",
       "    <tr>\n",
       "      <th>11</th>\n",
       "      <td>AAPL210507P00111000</td>\n",
       "      <td>2021-04-06 18:22:48</td>\n",
       "      <td>111.0</td>\n",
       "      <td>0.62</td>\n",
       "      <td>0.58</td>\n",
       "      <td>0.63</td>\n",
       "      <td>-0.070000</td>\n",
       "      <td>-10.144927</td>\n",
       "      <td>30</td>\n",
       "      <td>211</td>\n",
       "      <td>0.349372</td>\n",
       "      <td>False</td>\n",
       "      <td>REGULAR</td>\n",
       "      <td>USD</td>\n",
       "    </tr>\n",
       "    <tr>\n",
       "      <th>12</th>\n",
       "      <td>AAPL210507P00112000</td>\n",
       "      <td>2021-04-06 18:19:35</td>\n",
       "      <td>112.0</td>\n",
       "      <td>0.67</td>\n",
       "      <td>0.66</td>\n",
       "      <td>0.71</td>\n",
       "      <td>-0.110000</td>\n",
       "      <td>-14.102559</td>\n",
       "      <td>35</td>\n",
       "      <td>191</td>\n",
       "      <td>0.343024</td>\n",
       "      <td>False</td>\n",
       "      <td>REGULAR</td>\n",
       "      <td>USD</td>\n",
       "    </tr>\n",
       "    <tr>\n",
       "      <th>13</th>\n",
       "      <td>AAPL210507P00113000</td>\n",
       "      <td>2021-04-06 19:14:57</td>\n",
       "      <td>113.0</td>\n",
       "      <td>0.78</td>\n",
       "      <td>0.75</td>\n",
       "      <td>0.81</td>\n",
       "      <td>-0.080000</td>\n",
       "      <td>-9.302331</td>\n",
       "      <td>90</td>\n",
       "      <td>318</td>\n",
       "      <td>0.337897</td>\n",
       "      <td>False</td>\n",
       "      <td>REGULAR</td>\n",
       "      <td>USD</td>\n",
       "    </tr>\n",
       "    <tr>\n",
       "      <th>14</th>\n",
       "      <td>AAPL210507P00114000</td>\n",
       "      <td>2021-04-06 19:56:43</td>\n",
       "      <td>114.0</td>\n",
       "      <td>0.91</td>\n",
       "      <td>0.86</td>\n",
       "      <td>0.92</td>\n",
       "      <td>-0.090000</td>\n",
       "      <td>-8.999997</td>\n",
       "      <td>108</td>\n",
       "      <td>275</td>\n",
       "      <td>0.332282</td>\n",
       "      <td>False</td>\n",
       "      <td>REGULAR</td>\n",
       "      <td>USD</td>\n",
       "    </tr>\n",
       "    <tr>\n",
       "      <th>15</th>\n",
       "      <td>AAPL210507P00115000</td>\n",
       "      <td>2021-04-06 19:58:15</td>\n",
       "      <td>115.0</td>\n",
       "      <td>1.06</td>\n",
       "      <td>0.99</td>\n",
       "      <td>1.06</td>\n",
       "      <td>-0.070000</td>\n",
       "      <td>-6.194695</td>\n",
       "      <td>283</td>\n",
       "      <td>630</td>\n",
       "      <td>0.328620</td>\n",
       "      <td>False</td>\n",
       "      <td>REGULAR</td>\n",
       "      <td>USD</td>\n",
       "    </tr>\n",
       "    <tr>\n",
       "      <th>16</th>\n",
       "      <td>AAPL210507P00116000</td>\n",
       "      <td>2021-04-06 19:58:15</td>\n",
       "      <td>116.0</td>\n",
       "      <td>1.20</td>\n",
       "      <td>1.14</td>\n",
       "      <td>1.22</td>\n",
       "      <td>-0.160000</td>\n",
       "      <td>-11.764703</td>\n",
       "      <td>69</td>\n",
       "      <td>303</td>\n",
       "      <td>0.325080</td>\n",
       "      <td>False</td>\n",
       "      <td>REGULAR</td>\n",
       "      <td>USD</td>\n",
       "    </tr>\n",
       "    <tr>\n",
       "      <th>17</th>\n",
       "      <td>AAPL210507P00117000</td>\n",
       "      <td>2021-04-06 19:30:41</td>\n",
       "      <td>117.0</td>\n",
       "      <td>1.32</td>\n",
       "      <td>1.32</td>\n",
       "      <td>1.40</td>\n",
       "      <td>-0.240000</td>\n",
       "      <td>-15.384608</td>\n",
       "      <td>83</td>\n",
       "      <td>358</td>\n",
       "      <td>0.321540</td>\n",
       "      <td>False</td>\n",
       "      <td>REGULAR</td>\n",
       "      <td>USD</td>\n",
       "    </tr>\n",
       "    <tr>\n",
       "      <th>18</th>\n",
       "      <td>AAPL210507P00118000</td>\n",
       "      <td>2021-04-06 19:50:21</td>\n",
       "      <td>118.0</td>\n",
       "      <td>1.56</td>\n",
       "      <td>1.52</td>\n",
       "      <td>1.61</td>\n",
       "      <td>-0.220000</td>\n",
       "      <td>-12.359552</td>\n",
       "      <td>372</td>\n",
       "      <td>331</td>\n",
       "      <td>0.318854</td>\n",
       "      <td>False</td>\n",
       "      <td>REGULAR</td>\n",
       "      <td>USD</td>\n",
       "    </tr>\n",
       "    <tr>\n",
       "      <th>19</th>\n",
       "      <td>AAPL210507P00119000</td>\n",
       "      <td>2021-04-06 19:58:28</td>\n",
       "      <td>119.0</td>\n",
       "      <td>1.82</td>\n",
       "      <td>1.75</td>\n",
       "      <td>1.84</td>\n",
       "      <td>-0.190000</td>\n",
       "      <td>-9.452733</td>\n",
       "      <td>310</td>\n",
       "      <td>598</td>\n",
       "      <td>0.315681</td>\n",
       "      <td>False</td>\n",
       "      <td>REGULAR</td>\n",
       "      <td>USD</td>\n",
       "    </tr>\n",
       "    <tr>\n",
       "      <th>20</th>\n",
       "      <td>AAPL210507P00120000</td>\n",
       "      <td>2021-04-06 19:55:40</td>\n",
       "      <td>120.0</td>\n",
       "      <td>2.10</td>\n",
       "      <td>2.02</td>\n",
       "      <td>2.11</td>\n",
       "      <td>-0.160000</td>\n",
       "      <td>-7.079650</td>\n",
       "      <td>374</td>\n",
       "      <td>1316</td>\n",
       "      <td>0.313605</td>\n",
       "      <td>False</td>\n",
       "      <td>REGULAR</td>\n",
       "      <td>USD</td>\n",
       "    </tr>\n",
       "    <tr>\n",
       "      <th>21</th>\n",
       "      <td>AAPL210507P00121000</td>\n",
       "      <td>2021-04-06 19:56:26</td>\n",
       "      <td>121.0</td>\n",
       "      <td>2.38</td>\n",
       "      <td>2.32</td>\n",
       "      <td>2.41</td>\n",
       "      <td>-0.350000</td>\n",
       "      <td>-12.820509</td>\n",
       "      <td>145</td>\n",
       "      <td>272</td>\n",
       "      <td>0.311652</td>\n",
       "      <td>False</td>\n",
       "      <td>REGULAR</td>\n",
       "      <td>USD</td>\n",
       "    </tr>\n",
       "    <tr>\n",
       "      <th>22</th>\n",
       "      <td>AAPL210507P00122000</td>\n",
       "      <td>2021-04-06 19:54:47</td>\n",
       "      <td>122.0</td>\n",
       "      <td>2.71</td>\n",
       "      <td>2.65</td>\n",
       "      <td>2.76</td>\n",
       "      <td>-0.200000</td>\n",
       "      <td>-6.872854</td>\n",
       "      <td>172</td>\n",
       "      <td>164</td>\n",
       "      <td>0.311164</td>\n",
       "      <td>False</td>\n",
       "      <td>REGULAR</td>\n",
       "      <td>USD</td>\n",
       "    </tr>\n",
       "    <tr>\n",
       "      <th>23</th>\n",
       "      <td>AAPL210507P00123000</td>\n",
       "      <td>2021-04-06 19:49:19</td>\n",
       "      <td>123.0</td>\n",
       "      <td>3.05</td>\n",
       "      <td>3.00</td>\n",
       "      <td>3.15</td>\n",
       "      <td>-0.400000</td>\n",
       "      <td>-11.594205</td>\n",
       "      <td>200</td>\n",
       "      <td>259</td>\n",
       "      <td>0.311164</td>\n",
       "      <td>False</td>\n",
       "      <td>REGULAR</td>\n",
       "      <td>USD</td>\n",
       "    </tr>\n",
       "    <tr>\n",
       "      <th>24</th>\n",
       "      <td>AAPL210507P00124000</td>\n",
       "      <td>2021-04-06 18:48:47</td>\n",
       "      <td>124.0</td>\n",
       "      <td>3.50</td>\n",
       "      <td>3.40</td>\n",
       "      <td>3.55</td>\n",
       "      <td>-0.250000</td>\n",
       "      <td>-6.666667</td>\n",
       "      <td>72</td>\n",
       "      <td>245</td>\n",
       "      <td>0.309455</td>\n",
       "      <td>False</td>\n",
       "      <td>REGULAR</td>\n",
       "      <td>USD</td>\n",
       "    </tr>\n",
       "    <tr>\n",
       "      <th>25</th>\n",
       "      <td>AAPL210507P00125000</td>\n",
       "      <td>2021-04-06 19:54:15</td>\n",
       "      <td>125.0</td>\n",
       "      <td>3.95</td>\n",
       "      <td>3.85</td>\n",
       "      <td>4.00</td>\n",
       "      <td>-0.420000</td>\n",
       "      <td>-9.610981</td>\n",
       "      <td>826</td>\n",
       "      <td>608</td>\n",
       "      <td>0.308845</td>\n",
       "      <td>False</td>\n",
       "      <td>REGULAR</td>\n",
       "      <td>USD</td>\n",
       "    </tr>\n",
       "    <tr>\n",
       "      <th>26</th>\n",
       "      <td>AAPL210507P00126000</td>\n",
       "      <td>2021-04-06 19:35:40</td>\n",
       "      <td>126.0</td>\n",
       "      <td>4.50</td>\n",
       "      <td>4.35</td>\n",
       "      <td>4.50</td>\n",
       "      <td>-0.190000</td>\n",
       "      <td>-4.051174</td>\n",
       "      <td>260</td>\n",
       "      <td>258</td>\n",
       "      <td>0.309211</td>\n",
       "      <td>False</td>\n",
       "      <td>REGULAR</td>\n",
       "      <td>USD</td>\n",
       "    </tr>\n",
       "    <tr>\n",
       "      <th>27</th>\n",
       "      <td>AAPL210507P00127000</td>\n",
       "      <td>2021-04-06 18:40:34</td>\n",
       "      <td>127.0</td>\n",
       "      <td>4.90</td>\n",
       "      <td>4.85</td>\n",
       "      <td>5.00</td>\n",
       "      <td>-0.520000</td>\n",
       "      <td>-9.594095</td>\n",
       "      <td>50</td>\n",
       "      <td>68</td>\n",
       "      <td>0.307380</td>\n",
       "      <td>True</td>\n",
       "      <td>REGULAR</td>\n",
       "      <td>USD</td>\n",
       "    </tr>\n",
       "    <tr>\n",
       "      <th>28</th>\n",
       "      <td>AAPL210507P00128000</td>\n",
       "      <td>2021-04-06 19:41:35</td>\n",
       "      <td>128.0</td>\n",
       "      <td>5.43</td>\n",
       "      <td>5.45</td>\n",
       "      <td>5.55</td>\n",
       "      <td>-0.530000</td>\n",
       "      <td>-8.892621</td>\n",
       "      <td>10</td>\n",
       "      <td>91</td>\n",
       "      <td>0.306525</td>\n",
       "      <td>True</td>\n",
       "      <td>REGULAR</td>\n",
       "      <td>USD</td>\n",
       "    </tr>\n",
       "    <tr>\n",
       "      <th>29</th>\n",
       "      <td>AAPL210507P00129000</td>\n",
       "      <td>2021-04-06 19:34:58</td>\n",
       "      <td>129.0</td>\n",
       "      <td>6.02</td>\n",
       "      <td>6.00</td>\n",
       "      <td>6.15</td>\n",
       "      <td>-0.480000</td>\n",
       "      <td>-7.384615</td>\n",
       "      <td>3</td>\n",
       "      <td>64</td>\n",
       "      <td>0.306770</td>\n",
       "      <td>True</td>\n",
       "      <td>REGULAR</td>\n",
       "      <td>USD</td>\n",
       "    </tr>\n",
       "    <tr>\n",
       "      <th>30</th>\n",
       "      <td>AAPL210507P00130000</td>\n",
       "      <td>2021-04-06 17:13:36</td>\n",
       "      <td>130.0</td>\n",
       "      <td>6.55</td>\n",
       "      <td>6.65</td>\n",
       "      <td>6.80</td>\n",
       "      <td>-0.660000</td>\n",
       "      <td>-9.153951</td>\n",
       "      <td>82</td>\n",
       "      <td>138</td>\n",
       "      <td>0.308234</td>\n",
       "      <td>True</td>\n",
       "      <td>REGULAR</td>\n",
       "      <td>USD</td>\n",
       "    </tr>\n",
       "    <tr>\n",
       "      <th>31</th>\n",
       "      <td>AAPL210507P00131000</td>\n",
       "      <td>2021-04-06 19:12:20</td>\n",
       "      <td>131.0</td>\n",
       "      <td>7.25</td>\n",
       "      <td>7.30</td>\n",
       "      <td>7.50</td>\n",
       "      <td>-0.720000</td>\n",
       "      <td>-9.033874</td>\n",
       "      <td>11</td>\n",
       "      <td>246</td>\n",
       "      <td>0.311164</td>\n",
       "      <td>True</td>\n",
       "      <td>REGULAR</td>\n",
       "      <td>USD</td>\n",
       "    </tr>\n",
       "    <tr>\n",
       "      <th>32</th>\n",
       "      <td>AAPL210507P00132000</td>\n",
       "      <td>2021-04-05 18:45:59</td>\n",
       "      <td>132.0</td>\n",
       "      <td>7.65</td>\n",
       "      <td>8.00</td>\n",
       "      <td>8.20</td>\n",
       "      <td>-0.850000</td>\n",
       "      <td>-9.999999</td>\n",
       "      <td>3</td>\n",
       "      <td>20</td>\n",
       "      <td>0.312019</td>\n",
       "      <td>True</td>\n",
       "      <td>REGULAR</td>\n",
       "      <td>USD</td>\n",
       "    </tr>\n",
       "    <tr>\n",
       "      <th>33</th>\n",
       "      <td>AAPL210507P00133000</td>\n",
       "      <td>2021-04-06 19:17:45</td>\n",
       "      <td>133.0</td>\n",
       "      <td>8.64</td>\n",
       "      <td>8.75</td>\n",
       "      <td>8.90</td>\n",
       "      <td>-0.389999</td>\n",
       "      <td>-4.318930</td>\n",
       "      <td>6</td>\n",
       "      <td>41</td>\n",
       "      <td>0.310798</td>\n",
       "      <td>True</td>\n",
       "      <td>REGULAR</td>\n",
       "      <td>USD</td>\n",
       "    </tr>\n",
       "    <tr>\n",
       "      <th>34</th>\n",
       "      <td>AAPL210507P00134000</td>\n",
       "      <td>2021-04-06 16:26:58</td>\n",
       "      <td>134.0</td>\n",
       "      <td>9.48</td>\n",
       "      <td>9.50</td>\n",
       "      <td>9.75</td>\n",
       "      <td>-0.750000</td>\n",
       "      <td>-7.331379</td>\n",
       "      <td>21</td>\n",
       "      <td>42</td>\n",
       "      <td>0.319221</td>\n",
       "      <td>True</td>\n",
       "      <td>REGULAR</td>\n",
       "      <td>USD</td>\n",
       "    </tr>\n",
       "    <tr>\n",
       "      <th>35</th>\n",
       "      <td>AAPL210507P00135000</td>\n",
       "      <td>2021-04-06 17:54:29</td>\n",
       "      <td>135.0</td>\n",
       "      <td>10.55</td>\n",
       "      <td>10.25</td>\n",
       "      <td>10.50</td>\n",
       "      <td>-0.550000</td>\n",
       "      <td>-4.954956</td>\n",
       "      <td>29</td>\n",
       "      <td>170</td>\n",
       "      <td>0.318000</td>\n",
       "      <td>True</td>\n",
       "      <td>REGULAR</td>\n",
       "      <td>USD</td>\n",
       "    </tr>\n",
       "    <tr>\n",
       "      <th>36</th>\n",
       "      <td>AAPL210507P00137000</td>\n",
       "      <td>2021-04-06 16:02:01</td>\n",
       "      <td>137.0</td>\n",
       "      <td>11.58</td>\n",
       "      <td>11.95</td>\n",
       "      <td>12.15</td>\n",
       "      <td>-0.920000</td>\n",
       "      <td>-7.360001</td>\n",
       "      <td>20</td>\n",
       "      <td>34</td>\n",
       "      <td>0.322761</td>\n",
       "      <td>True</td>\n",
       "      <td>REGULAR</td>\n",
       "      <td>USD</td>\n",
       "    </tr>\n",
       "    <tr>\n",
       "      <th>37</th>\n",
       "      <td>AAPL210507P00140000</td>\n",
       "      <td>2021-04-06 14:01:29</td>\n",
       "      <td>140.0</td>\n",
       "      <td>14.25</td>\n",
       "      <td>14.55</td>\n",
       "      <td>14.75</td>\n",
       "      <td>-1.370000</td>\n",
       "      <td>-8.770806</td>\n",
       "      <td>27</td>\n",
       "      <td>77</td>\n",
       "      <td>0.330085</td>\n",
       "      <td>True</td>\n",
       "      <td>REGULAR</td>\n",
       "      <td>USD</td>\n",
       "    </tr>\n",
       "    <tr>\n",
       "      <th>38</th>\n",
       "      <td>AAPL210507P00145000</td>\n",
       "      <td>2021-04-06 17:39:18</td>\n",
       "      <td>145.0</td>\n",
       "      <td>19.55</td>\n",
       "      <td>19.20</td>\n",
       "      <td>19.45</td>\n",
       "      <td>-2.630001</td>\n",
       "      <td>-11.857534</td>\n",
       "      <td>596</td>\n",
       "      <td>66</td>\n",
       "      <td>0.361090</td>\n",
       "      <td>True</td>\n",
       "      <td>REGULAR</td>\n",
       "      <td>USD</td>\n",
       "    </tr>\n",
       "    <tr>\n",
       "      <th>39</th>\n",
       "      <td>AAPL210507P00150000</td>\n",
       "      <td>2021-04-01 14:33:14</td>\n",
       "      <td>150.0</td>\n",
       "      <td>26.94</td>\n",
       "      <td>24.05</td>\n",
       "      <td>24.25</td>\n",
       "      <td>0.000000</td>\n",
       "      <td>0.000000</td>\n",
       "      <td>11</td>\n",
       "      <td>23</td>\n",
       "      <td>0.388190</td>\n",
       "      <td>True</td>\n",
       "      <td>REGULAR</td>\n",
       "      <td>USD</td>\n",
       "    </tr>\n",
       "    <tr>\n",
       "      <th>40</th>\n",
       "      <td>AAPL210507P00155000</td>\n",
       "      <td>2021-04-01 14:30:12</td>\n",
       "      <td>155.0</td>\n",
       "      <td>31.75</td>\n",
       "      <td>28.95</td>\n",
       "      <td>29.20</td>\n",
       "      <td>0.000000</td>\n",
       "      <td>0.000000</td>\n",
       "      <td>17</td>\n",
       "      <td>42</td>\n",
       "      <td>0.432623</td>\n",
       "      <td>True</td>\n",
       "      <td>REGULAR</td>\n",
       "      <td>USD</td>\n",
       "    </tr>\n",
       "  </tbody>\n",
       "</table>\n",
       "</div>"
      ],
      "text/plain": [
       "         contractSymbol       lastTradeDate  strike  lastPrice    bid    ask  \\\n",
       "0   AAPL210507P00075000 2021-04-05 16:52:05    75.0       0.06   0.02   0.05   \n",
       "1   AAPL210507P00080000 2021-04-06 19:27:01    80.0       0.04   0.05   0.07   \n",
       "2   AAPL210507P00085000 2021-04-06 13:32:59    85.0       0.08   0.08   0.10   \n",
       "3   AAPL210507P00090000 2021-04-06 17:11:20    90.0       0.12   0.11   0.14   \n",
       "4   AAPL210507P00095000 2021-04-06 14:55:48    95.0       0.17   0.17   0.18   \n",
       "5   AAPL210507P00100000 2021-04-06 19:24:49   100.0       0.23   0.21   0.24   \n",
       "6   AAPL210507P00105000 2021-04-06 19:36:55   105.0       0.33   0.31   0.35   \n",
       "7   AAPL210507P00107000 2021-04-06 17:50:30   107.0       0.41   0.37   0.42   \n",
       "8   AAPL210507P00108000 2021-04-06 17:18:40   108.0       0.45   0.41   0.46   \n",
       "9   AAPL210507P00109000 2021-04-06 19:17:01   109.0       0.48   0.46   0.51   \n",
       "10  AAPL210507P00110000 2021-04-06 19:30:40   110.0       0.55   0.51   0.56   \n",
       "11  AAPL210507P00111000 2021-04-06 18:22:48   111.0       0.62   0.58   0.63   \n",
       "12  AAPL210507P00112000 2021-04-06 18:19:35   112.0       0.67   0.66   0.71   \n",
       "13  AAPL210507P00113000 2021-04-06 19:14:57   113.0       0.78   0.75   0.81   \n",
       "14  AAPL210507P00114000 2021-04-06 19:56:43   114.0       0.91   0.86   0.92   \n",
       "15  AAPL210507P00115000 2021-04-06 19:58:15   115.0       1.06   0.99   1.06   \n",
       "16  AAPL210507P00116000 2021-04-06 19:58:15   116.0       1.20   1.14   1.22   \n",
       "17  AAPL210507P00117000 2021-04-06 19:30:41   117.0       1.32   1.32   1.40   \n",
       "18  AAPL210507P00118000 2021-04-06 19:50:21   118.0       1.56   1.52   1.61   \n",
       "19  AAPL210507P00119000 2021-04-06 19:58:28   119.0       1.82   1.75   1.84   \n",
       "20  AAPL210507P00120000 2021-04-06 19:55:40   120.0       2.10   2.02   2.11   \n",
       "21  AAPL210507P00121000 2021-04-06 19:56:26   121.0       2.38   2.32   2.41   \n",
       "22  AAPL210507P00122000 2021-04-06 19:54:47   122.0       2.71   2.65   2.76   \n",
       "23  AAPL210507P00123000 2021-04-06 19:49:19   123.0       3.05   3.00   3.15   \n",
       "24  AAPL210507P00124000 2021-04-06 18:48:47   124.0       3.50   3.40   3.55   \n",
       "25  AAPL210507P00125000 2021-04-06 19:54:15   125.0       3.95   3.85   4.00   \n",
       "26  AAPL210507P00126000 2021-04-06 19:35:40   126.0       4.50   4.35   4.50   \n",
       "27  AAPL210507P00127000 2021-04-06 18:40:34   127.0       4.90   4.85   5.00   \n",
       "28  AAPL210507P00128000 2021-04-06 19:41:35   128.0       5.43   5.45   5.55   \n",
       "29  AAPL210507P00129000 2021-04-06 19:34:58   129.0       6.02   6.00   6.15   \n",
       "30  AAPL210507P00130000 2021-04-06 17:13:36   130.0       6.55   6.65   6.80   \n",
       "31  AAPL210507P00131000 2021-04-06 19:12:20   131.0       7.25   7.30   7.50   \n",
       "32  AAPL210507P00132000 2021-04-05 18:45:59   132.0       7.65   8.00   8.20   \n",
       "33  AAPL210507P00133000 2021-04-06 19:17:45   133.0       8.64   8.75   8.90   \n",
       "34  AAPL210507P00134000 2021-04-06 16:26:58   134.0       9.48   9.50   9.75   \n",
       "35  AAPL210507P00135000 2021-04-06 17:54:29   135.0      10.55  10.25  10.50   \n",
       "36  AAPL210507P00137000 2021-04-06 16:02:01   137.0      11.58  11.95  12.15   \n",
       "37  AAPL210507P00140000 2021-04-06 14:01:29   140.0      14.25  14.55  14.75   \n",
       "38  AAPL210507P00145000 2021-04-06 17:39:18   145.0      19.55  19.20  19.45   \n",
       "39  AAPL210507P00150000 2021-04-01 14:33:14   150.0      26.94  24.05  24.25   \n",
       "40  AAPL210507P00155000 2021-04-01 14:30:12   155.0      31.75  28.95  29.20   \n",
       "\n",
       "      change  percentChange  volume  openInterest  impliedVolatility  \\\n",
       "0   0.000000       0.000000       5            12           0.691409   \n",
       "1  -0.020000     -33.333336      11            60           0.652347   \n",
       "2  -0.070000     -46.666670       4            45           0.605473   \n",
       "3   0.000000       0.000000      36            48           0.553715   \n",
       "4   0.000000       0.000000      24           211           0.501958   \n",
       "5  -0.010000      -4.166663     141           854           0.448736   \n",
       "6  -0.040000     -10.810808      93           325           0.399420   \n",
       "7  -0.030000      -6.818182      66           362           0.381842   \n",
       "8  -0.070000     -13.461537      49           252           0.372809   \n",
       "9  -0.070000     -12.727277      27           113           0.364752   \n",
       "10 -0.050000      -8.333335      93           583           0.355963   \n",
       "11 -0.070000     -10.144927      30           211           0.349372   \n",
       "12 -0.110000     -14.102559      35           191           0.343024   \n",
       "13 -0.080000      -9.302331      90           318           0.337897   \n",
       "14 -0.090000      -8.999997     108           275           0.332282   \n",
       "15 -0.070000      -6.194695     283           630           0.328620   \n",
       "16 -0.160000     -11.764703      69           303           0.325080   \n",
       "17 -0.240000     -15.384608      83           358           0.321540   \n",
       "18 -0.220000     -12.359552     372           331           0.318854   \n",
       "19 -0.190000      -9.452733     310           598           0.315681   \n",
       "20 -0.160000      -7.079650     374          1316           0.313605   \n",
       "21 -0.350000     -12.820509     145           272           0.311652   \n",
       "22 -0.200000      -6.872854     172           164           0.311164   \n",
       "23 -0.400000     -11.594205     200           259           0.311164   \n",
       "24 -0.250000      -6.666667      72           245           0.309455   \n",
       "25 -0.420000      -9.610981     826           608           0.308845   \n",
       "26 -0.190000      -4.051174     260           258           0.309211   \n",
       "27 -0.520000      -9.594095      50            68           0.307380   \n",
       "28 -0.530000      -8.892621      10            91           0.306525   \n",
       "29 -0.480000      -7.384615       3            64           0.306770   \n",
       "30 -0.660000      -9.153951      82           138           0.308234   \n",
       "31 -0.720000      -9.033874      11           246           0.311164   \n",
       "32 -0.850000      -9.999999       3            20           0.312019   \n",
       "33 -0.389999      -4.318930       6            41           0.310798   \n",
       "34 -0.750000      -7.331379      21            42           0.319221   \n",
       "35 -0.550000      -4.954956      29           170           0.318000   \n",
       "36 -0.920000      -7.360001      20            34           0.322761   \n",
       "37 -1.370000      -8.770806      27            77           0.330085   \n",
       "38 -2.630001     -11.857534     596            66           0.361090   \n",
       "39  0.000000       0.000000      11            23           0.388190   \n",
       "40  0.000000       0.000000      17            42           0.432623   \n",
       "\n",
       "    inTheMoney contractSize currency  \n",
       "0        False      REGULAR      USD  \n",
       "1        False      REGULAR      USD  \n",
       "2        False      REGULAR      USD  \n",
       "3        False      REGULAR      USD  \n",
       "4        False      REGULAR      USD  \n",
       "5        False      REGULAR      USD  \n",
       "6        False      REGULAR      USD  \n",
       "7        False      REGULAR      USD  \n",
       "8        False      REGULAR      USD  \n",
       "9        False      REGULAR      USD  \n",
       "10       False      REGULAR      USD  \n",
       "11       False      REGULAR      USD  \n",
       "12       False      REGULAR      USD  \n",
       "13       False      REGULAR      USD  \n",
       "14       False      REGULAR      USD  \n",
       "15       False      REGULAR      USD  \n",
       "16       False      REGULAR      USD  \n",
       "17       False      REGULAR      USD  \n",
       "18       False      REGULAR      USD  \n",
       "19       False      REGULAR      USD  \n",
       "20       False      REGULAR      USD  \n",
       "21       False      REGULAR      USD  \n",
       "22       False      REGULAR      USD  \n",
       "23       False      REGULAR      USD  \n",
       "24       False      REGULAR      USD  \n",
       "25       False      REGULAR      USD  \n",
       "26       False      REGULAR      USD  \n",
       "27        True      REGULAR      USD  \n",
       "28        True      REGULAR      USD  \n",
       "29        True      REGULAR      USD  \n",
       "30        True      REGULAR      USD  \n",
       "31        True      REGULAR      USD  \n",
       "32        True      REGULAR      USD  \n",
       "33        True      REGULAR      USD  \n",
       "34        True      REGULAR      USD  \n",
       "35        True      REGULAR      USD  \n",
       "36        True      REGULAR      USD  \n",
       "37        True      REGULAR      USD  \n",
       "38        True      REGULAR      USD  \n",
       "39        True      REGULAR      USD  \n",
       "40        True      REGULAR      USD  "
      ]
     },
     "execution_count": 17,
     "metadata": {},
     "output_type": "execute_result"
    }
   ],
   "source": [
    "AAPL = yf.Ticker(\"AAPL\")\n",
    "opt = AAPL.option_chain('2021-05-07')\n",
    "opt.puts"
   ]
  },
  {
   "cell_type": "code",
   "execution_count": 18,
   "metadata": {},
   "outputs": [
    {
     "name": "stdout",
     "output_type": "stream",
     "text": [
      "[*********************100%***********************]  1 of 1 completed\n"
     ]
    }
   ],
   "source": [
    "data = yf.download(\"AAPL\", start=\"2020-03-01\", end=\"2021-03-01\")"
   ]
  },
  {
   "cell_type": "code",
   "execution_count": 19,
   "metadata": {},
   "outputs": [
    {
     "data": {
      "text/plain": [
       "Date\n",
       "2020-03-02     74.127892\n",
       "2020-03-03     71.773636\n",
       "2020-03-04     75.102829\n",
       "2020-03-05     72.666725\n",
       "2020-03-06     71.701706\n",
       "                 ...    \n",
       "2021-02-22    126.000000\n",
       "2021-02-23    125.860001\n",
       "2021-02-24    125.349998\n",
       "2021-02-25    120.989998\n",
       "2021-02-26    121.260002\n",
       "Name: Adj Close, Length: 251, dtype: float64"
      ]
     },
     "execution_count": 19,
     "metadata": {},
     "output_type": "execute_result"
    }
   ],
   "source": [
    "data['Adj Close']"
   ]
  },
  {
   "cell_type": "code",
   "execution_count": 20,
   "metadata": {},
   "outputs": [
    {
     "data": {
      "text/plain": [
       "0.45732933573445084"
      ]
     },
     "execution_count": 20,
     "metadata": {},
     "output_type": "execute_result"
    }
   ],
   "source": [
    "S = data['Adj Close'][-1]\n",
    "K = opt.puts['strike']\n",
    "T = 1/12\n",
    "r = 0.0083\n",
    "q = 0.0069\n",
    "log_return = np.log(data['Adj Close'] / data['Adj Close'].shift(1))\n",
    "vol = np.sqrt(252) * log_return.std() \n",
    "vol"
   ]
  },
  {
   "cell_type": "code",
   "execution_count": 21,
   "metadata": {},
   "outputs": [
    {
     "name": "stdout",
     "output_type": "stream",
     "text": [
      "[*********************100%***********************]  1 of 1 completed\n"
     ]
    }
   ],
   "source": [
    "data = yf.download(\"AAPL\", start=\"2020-09-01\", end=\"2021-03-01\")"
   ]
  },
  {
   "cell_type": "code",
   "execution_count": 65,
   "metadata": {},
   "outputs": [
    {
     "data": {
      "text/plain": [
       "0.37784909941441586"
      ]
     },
     "execution_count": 65,
     "metadata": {},
     "output_type": "execute_result"
    }
   ],
   "source": [
    "S = data['Adj Close'][-1]\n",
    "K = opt.puts['strike']\n",
    "T = 1/12\n",
    "r = 0.0083\n",
    "q = 0.03\n",
    "log_return = np.log(data['Adj Close'] / data['Adj Close'].shift(1))\n",
    "vol = np.sqrt(252) * log_return.std() \n",
    "vol"
   ]
  },
  {
   "cell_type": "code",
   "execution_count": 97,
   "metadata": {},
   "outputs": [],
   "source": [
    "S0 = 126             # spot stock price\n",
    "K = 120               # strike\n",
    "T = 1/12                 # maturity \n",
    "r = 0.0083                 # risk free rate \n",
    "sig = 0.46               # diffusion coefficient or volatility\n",
    "N = 3                   # number of periods or number of time steps  \n",
    "payoff = \"put\"          # payoff"
   ]
  },
  {
   "cell_type": "code",
   "execution_count": 101,
   "metadata": {},
   "outputs": [],
   "source": [
    "def binary_option_bs(S, K, T, r, sig, payoff):\n",
    "    \n",
    "    #S: spot price\n",
    "    #K: strike price\n",
    "    #T: time to maturity\n",
    "    #r: risk free rate\n",
    "    #sig: volatility of underlying asset\n",
    "    #payoff: call or put\n",
    "    \n",
    "    d1 = (np.log(S / K) + (r + 0.5 * sig ** 2) * T) / (sig * np.sqrt(T))\n",
    "    d2 = (np.log(S / K) + (r - 0.5 * sig ** 2) * T) / (sig * np.sqrt(T))\n",
    "    if payoff == \"call\":\n",
    "        option_value = np.exp(-r * T) * si.norm.cdf(d2, 0.0, 1.0)\n",
    "    elif payoff == \"put\":\n",
    "        option_value = np.exp(-r * T) * si.norm.cdf(-d2, 0.0, 1.0)\n",
    "    \n",
    "    return option_value"
   ]
  },
  {
   "cell_type": "code",
   "execution_count": 102,
   "metadata": {},
   "outputs": [
    {
     "data": {
      "text/plain": [
       "0.379450185796959"
      ]
     },
     "execution_count": 102,
     "metadata": {},
     "output_type": "execute_result"
    }
   ],
   "source": [
    "binary_option_bs(126, 120, 1/12, 0.0083, 0.46, 'put')"
   ]
  },
  {
   "cell_type": "code",
   "execution_count": 103,
   "metadata": {},
   "outputs": [],
   "source": [
    "def mcs_simulation_np(p):\n",
    "    M = p\n",
    "    I = p\n",
    "    dt = T / M \n",
    "    S = np.zeros((M + 1, I))\n",
    "    S[0] = S0 \n",
    "    rn = np.random.standard_normal(S.shape) \n",
    "    for t in range(1, M + 1): \n",
    "        S[t] = S[t-1] * np.exp((r - sigma ** 2 / 2) * dt + sigma * np.sqrt(dt) * rn[t]) \n",
    "    return S"
   ]
  },
  {
   "cell_type": "code",
   "execution_count": 104,
   "metadata": {},
   "outputs": [],
   "source": [
    "T = 1/12\n",
    "r = 0.0083\n",
    "sigma = 0.46\n",
    "S0 = 126\n",
    "K = 120"
   ]
  },
  {
   "cell_type": "code",
   "execution_count": 105,
   "metadata": {},
   "outputs": [],
   "source": [
    "S = mcs_simulation_np(1000)"
   ]
  },
  {
   "cell_type": "code",
   "execution_count": 106,
   "metadata": {},
   "outputs": [
    {
     "data": {
      "text/plain": [
       "array([[126.        , 126.34462283, 126.5995278 , ..., 137.55437545,\n",
       "        136.85607416, 137.49148497],\n",
       "       [126.        , 126.88672106, 126.69420223, ..., 104.4432688 ,\n",
       "        104.17204367, 104.46749779],\n",
       "       [126.        , 125.99004344, 126.24911735, ...,  94.212929  ,\n",
       "         94.89322681,  94.4812127 ],\n",
       "       ...,\n",
       "       [126.        , 125.77305441, 124.96893844, ..., 110.65056777,\n",
       "        111.24133693, 111.20197388],\n",
       "       [126.        , 125.3779625 , 124.74581558, ..., 130.53097917,\n",
       "        130.09154558, 129.7192429 ],\n",
       "       [126.        , 126.56836333, 125.84980345, ..., 118.92733051,\n",
       "        119.17307819, 118.81811553]])"
      ]
     },
     "execution_count": 106,
     "metadata": {},
     "output_type": "execute_result"
    }
   ],
   "source": [
    "S = np.transpose(S)\n",
    "S"
   ]
  },
  {
   "cell_type": "code",
   "execution_count": 107,
   "metadata": {},
   "outputs": [
    {
     "data": {
      "text/plain": [
       "Text(0.5, 1.0, 'Frequency distribution of the simulated end-of-preiod values')"
      ]
     },
     "execution_count": 107,
     "metadata": {},
     "output_type": "execute_result"
    },
    {
     "data": {
      "image/png": "[encoded data removed]",
      "text/plain": [
       "<Figure size 432x288 with 1 Axes>"
      ]
     },
     "metadata": {
      "needs_background": "light"
     },
     "output_type": "display_data"
    }
   ],
   "source": [
    "import matplotlib.pyplot as plt\n",
    "n, bins, patches = plt.hist(x=S[:,-1], bins='auto', color='#0504aa',alpha=0.7, rwidth=0.85)\n",
    "\n",
    "plt.grid(axis='y', alpha=0.75)\n",
    "plt.xlabel('S_T')\n",
    "plt.ylabel('Frequency')\n",
    "plt.title('Frequency distribution of the simulated end-of-preiod values')"
   ]
  },
  {
   "cell_type": "code",
   "execution_count": 108,
   "metadata": {},
   "outputs": [
    {
     "name": "stdout",
     "output_type": "stream",
     "text": [
      "Binary put 0.03296703296703297\n"
     ]
    }
   ],
   "source": [
    "pp = (K - S[-1,:])>0\n",
    "bpp = np.mean(np.maximum(pp.astype(int),0))\n",
    "print('Binary put', str(bpp))"
   ]
  },
  {
   "cell_type": "code",
   "execution_count": 109,
   "metadata": {},
   "outputs": [],
   "source": [
    "def binary_option_bsm(S, K, T, r, q, vol, payoff):\n",
    "    \n",
    "    #S: spot price\n",
    "    #K: strike price\n",
    "    #T: time to maturity\n",
    "    #r: risk free rate\n",
    "    #q: continuous dividend yield\n",
    "    #vol: volatility of underlying asset\n",
    "    #payoff: call or put\n",
    "    \n",
    "    d1 = (np.log(S / K) + (r - q + 0.5 * vol ** 2) * T) / (vol * np.sqrt(T))\n",
    "    d2 = (np.log(S / K) + (r - q - 0.5 * vol ** 2) * T) / (vol * np.sqrt(T))\n",
    "    if payoff == \"call\":\n",
    "        option_value = np.exp(-r * T) * si.norm.cdf(d2, 0.0, 1.0)\n",
    "    elif payoff == \"put\":\n",
    "        option_value = np.exp(-r * T) * si.norm.cdf(-d2, 0.0, 1.0)\n",
    "    \n",
    "    return option_value"
   ]
  },
  {
   "cell_type": "code",
   "execution_count": 110,
   "metadata": {},
   "outputs": [
    {
     "data": {
      "text/plain": [
       "0.3866321831007985"
      ]
     },
     "execution_count": 110,
     "metadata": {},
     "output_type": "execute_result"
    }
   ],
   "source": [
    "binary_option_bsm(126, 120, 1/12, 0.0083, 0.03, 0.46, 'put')"
   ]
  },
  {
   "cell_type": "code",
   "execution_count": 111,
   "metadata": {},
   "outputs": [],
   "source": [
    "S = np.linspace(50,150,11)\n",
    "Call = np.zeros((len(S),1))\n",
    "Put = np.zeros((len(S),1))\n",
    "for i in range(len(S)):\n",
    "    Call [i] = binary_option_bsm(S[i], 120, 1/12, 0.0083, 0.03, 0.46, 'call')\n",
    "    Put [i] = binary_option_bsm(S[i], 120, 1/12, 0.0083, 0.03, 0.46, 'put')"
   ]
  },
  {
   "cell_type": "code",
   "execution_count": 112,
   "metadata": {},
   "outputs": [
    {
     "data": {
      "text/plain": [
       "<matplotlib.legend.Legend at 0x17ddd8afca0>"
      ]
     },
     "execution_count": 112,
     "metadata": {},
     "output_type": "execute_result"
    },
    {
     "data": {
      "image/png": "[encoded data removed]",
      "text/plain": [
       "<Figure size 432x288 with 1 Axes>"
      ]
     },
     "metadata": {
      "needs_background": "light"
     },
     "output_type": "display_data"
    }
   ],
   "source": [
    "fig = plt.figure()\n",
    "plt.plot(S, Call, '-')\n",
    "plt.plot(S, Put, '--')\n",
    "plt.grid()\n",
    "plt.xlabel('Stock Price')\n",
    "plt.ylabel('Option Price')\n",
    "plt.title('Binary Option')\n",
    "plt.legend(['Call','Put'])"
   ]
  },
  {
   "cell_type": "code",
   "execution_count": 113,
   "metadata": {},
   "outputs": [],
   "source": [
    "def delta(S, K, T, r, q, vol, payoff):\n",
    "    \n",
    "    d1 = (np.log(S / K) + (r - q + 0.5 * vol ** 2) * T) / (vol * np.sqrt(T))\n",
    "    d2 = (np.log(S / K) + (r - q - 0.5 * vol ** 2) * T) / (vol * np.sqrt(T))\n",
    "    if payoff == \"call\":\n",
    "        delta =  np.exp(-r * T) * si.norm.pdf(d2, 0.0, 1.0) / (vol * S * np.sqrt(T))\n",
    "    elif payoff == \"put\":\n",
    "        delta =   np.exp(-r * T) * si.norm.pdf(-d2, 0.0, 1.0) / (vol * S * np.sqrt(T))\n",
    "    \n",
    "    return delta"
   ]
  },
  {
   "cell_type": "code",
   "execution_count": 114,
   "metadata": {},
   "outputs": [
    {
     "data": {
      "text/plain": [
       "0.022863080472357633"
      ]
     },
     "execution_count": 114,
     "metadata": {},
     "output_type": "execute_result"
    }
   ],
   "source": [
    "delta(126, 120, 1/12, 0.0083, 0.03, 0.46, 'put')"
   ]
  },
  {
   "cell_type": "code",
   "execution_count": 115,
   "metadata": {},
   "outputs": [],
   "source": [
    "S = np.linspace(50,150,11)\n",
    "Delta_Call = np.zeros((len(S),1))\n",
    "Delta_Put = np.zeros((len(S),1))\n",
    "for i in range(len(S)):\n",
    "    Delta_Call [i] = delta(S[i], 120, 1/12, 0.0083, 0.03, 0.46, 'call')\n",
    "    Delta_Put [i] = delta(S[i], 120, 1/12, 0.0083, 0.03, 0.46, 'put')"
   ]
  },
  {
   "cell_type": "code",
   "execution_count": 116,
   "metadata": {},
   "outputs": [
    {
     "data": {
      "text/plain": [
       "<matplotlib.legend.Legend at 0x17ddd91e850>"
      ]
     },
     "execution_count": 116,
     "metadata": {},
     "output_type": "execute_result"
    },
    {
     "data": {
      "image/png": "[encoded data removed]",
      "text/plain": [
       "<Figure size 432x288 with 1 Axes>"
      ]
     },
     "metadata": {
      "needs_background": "light"
     },
     "output_type": "display_data"
    }
   ],
   "source": [
    "fig = plt.figure()\n",
    "plt.plot(S, Delta_Call, '-')\n",
    "plt.plot(S, Delta_Put, '--')\n",
    "plt.grid()\n",
    "plt.xlabel('Stock Price')\n",
    "plt.ylabel('Delta')\n",
    "plt.title('Delta')\n",
    "plt.legend(['Delta for Call','Delta for Put'])"
   ]
  },
  {
   "cell_type": "code",
   "execution_count": 117,
   "metadata": {},
   "outputs": [],
   "source": [
    "def gamma(S, K, T, r, q, vol, payoff):\n",
    "    \n",
    "    d1 = (np.log(S / K) + (r - q + 0.5 * vol ** 2) * T) / (vol * np.sqrt(T))\n",
    "    d2 = (np.log(S / K) + (r - q - 0.5 * vol ** 2) * T) / (vol * np.sqrt(T))\n",
    "    gamma = np.exp(-r * T) * si.norm.pdf(-d2, 0.0, 1.0) / (vol * S * np.sqrt(T))\n",
    "    \n",
    "    return gamma"
   ]
  },
  {
   "cell_type": "code",
   "execution_count": 118,
   "metadata": {},
   "outputs": [
    {
     "data": {
      "text/plain": [
       "0.022863080472357633"
      ]
     },
     "execution_count": 118,
     "metadata": {},
     "output_type": "execute_result"
    }
   ],
   "source": [
    "gamma(126, 120, 1/12, 0.0083, 0.03, 0.46, 'put')"
   ]
  },
  {
   "cell_type": "code",
   "execution_count": 119,
   "metadata": {},
   "outputs": [],
   "source": [
    "S = np.linspace(50,150,11)\n",
    "Gamma = np.zeros((len(S),1))\n",
    "for i in range(len(S)):\n",
    "    Gamma [i] = gamma(S[i], 120, 1/12, 0.0083, 0.03, 0.46, 'put')"
   ]
  },
  {
   "cell_type": "code",
   "execution_count": 120,
   "metadata": {},
   "outputs": [
    {
     "data": {
      "text/plain": [
       "<matplotlib.legend.Legend at 0x17ddd9632b0>"
      ]
     },
     "execution_count": 120,
     "metadata": {},
     "output_type": "execute_result"
    },
    {
     "data": {
      "image/png": "[encoded data removed]",
      "text/plain": [
       "<Figure size 432x288 with 1 Axes>"
      ]
     },
     "metadata": {
      "needs_background": "light"
     },
     "output_type": "display_data"
    }
   ],
   "source": [
    "fig = plt.figure()\n",
    "plt.plot(S, Gamma, '-')\n",
    "plt.grid()\n",
    "plt.xlabel('Stock Price')\n",
    "plt.ylabel('Gamma')\n",
    "plt.title('Gamma')\n",
    "plt.legend(['Gamma for Call and Put'])"
   ]
  },
  {
   "cell_type": "code",
   "execution_count": 121,
   "metadata": {},
   "outputs": [],
   "source": [
    "def rho(S, K, T, r, q, vol, payoff):\n",
    "    \n",
    "    d1 = (np.log(S / K) + (r - q + 0.5 * vol ** 2) * T) / (vol * np.sqrt(T))\n",
    "    d2 = (np.log(S / K) + (r - q - 0.5 * vol ** 2) * T) / (vol * np.sqrt(T))\n",
    "    if payoff == \"call\":\n",
    "        rho =  T * np.exp(-r * T) * si.norm.cdf(d2, 0.0, 1.0) + ((np.sqrt(T)) / vol) * (np.exp(-r * T) * si.norm.cdf(d2, 0.0, 1.0))\n",
    "    elif payoff == \"put\":\n",
    "        rho = T * np.exp(-r * T) * si.norm.cdf(-d2, 0.0, 1.0) - ((np.sqrt(T)) / vol) * (np.exp(-r * T) * si.norm.cdf(d2, 0.0, 1.0))\n",
    "    \n",
    "    return rho"
   ]
  },
  {
   "cell_type": "code",
   "execution_count": 122,
   "metadata": {},
   "outputs": [
    {
     "data": {
      "text/plain": [
       "-0.35226856264084166"
      ]
     },
     "execution_count": 122,
     "metadata": {},
     "output_type": "execute_result"
    }
   ],
   "source": [
    "rho(126, 120, 1/12, 0.0083, 0.03, 0.46, 'put')"
   ]
  },
  {
   "cell_type": "code",
   "execution_count": 123,
   "metadata": {},
   "outputs": [],
   "source": [
    "r = np.linspace(0,0.1,11)\n",
    "Rho_Call = np.zeros((len(r),1))\n",
    "Rho_Put = np.zeros((len(r),1))\n",
    "for i in range(len(r)):\n",
    "    Rho_Call [i] = rho(126, 120, 1/12, 0.0083, 0.03, 0.46, 'call')\n",
    "    Rho_Put [i] = rho(126, 120, 1/12, 0.0083, 0.03, 0.46, 'put')"
   ]
  },
  {
   "cell_type": "code",
   "execution_count": 124,
   "metadata": {},
   "outputs": [
    {
     "data": {
      "text/plain": [
       "<matplotlib.legend.Legend at 0x17dde9b8e20>"
      ]
     },
     "execution_count": 124,
     "metadata": {},
     "output_type": "execute_result"
    },
    {
     "data": {
      "image/png": "[encoded data removed]",
      "text/plain": [
       "<Figure size 432x288 with 1 Axes>"
      ]
     },
     "metadata": {
      "needs_background": "light"
     },
     "output_type": "display_data"
    }
   ],
   "source": [
    "fig = plt.figure()\n",
    "plt.plot(r, Rho_Call, '-')\n",
    "plt.plot(r, Rho_Put, '-')\n",
    "plt.grid()\n",
    "plt.xlabel('Interest Rate')\n",
    "plt.ylabel('Rho')\n",
    "plt.title('Rho')\n",
    "plt.legend(['Rho for Call', 'Rho for Put'])"
   ]
  },
  {
   "cell_type": "code",
   "execution_count": 125,
   "metadata": {},
   "outputs": [],
   "source": [
    "def vega(S, K, T, r, q, vol, payoff):\n",
    "    \n",
    "    d1 = (np.log(S / K) + (r - q + 0.5 * vol ** 2) * T) / (vol * np.sqrt(T))\n",
    "    d2 = (np.log(S / K) + (r - q - 0.5 * vol ** 2) * T) / (vol * np.sqrt(T))\n",
    "    vega = np.exp(-r * T) * si.norm.pdf(-d2, 0.0, 1.0) * (d1 / vol)\n",
    "    \n",
    "    return vega"
   ]
  },
  {
   "cell_type": "code",
   "execution_count": 126,
   "metadata": {},
   "outputs": [
    {
     "data": {
      "text/plain": [
       "0.3494378649324756"
      ]
     },
     "execution_count": 126,
     "metadata": {},
     "output_type": "execute_result"
    }
   ],
   "source": [
    "vega(126, 120, 1/12, 0.0083, 0.03, 0.46, 'put')"
   ]
  },
  {
   "cell_type": "code",
   "execution_count": 127,
   "metadata": {},
   "outputs": [],
   "source": [
    "vol = np.linspace(0.1,0.4,13)\n",
    "Vega = np.zeros((len(vol),1))\n",
    "for i in range(len(vol)):\n",
    "    Vega [i] = vega(121, 120, 1/12, 0.0083, 0.03, vol[i], 'put')\n"
   ]
  },
  {
   "cell_type": "code",
   "execution_count": 128,
   "metadata": {},
   "outputs": [
    {
     "data": {
      "text/plain": [
       "<matplotlib.legend.Legend at 0x17ddea0c310>"
      ]
     },
     "execution_count": 128,
     "metadata": {},
     "output_type": "execute_result"
    },
    {
     "data": {
      "image/png": "[encoded data removed]",
      "text/plain": [
       "<Figure size 432x288 with 1 Axes>"
      ]
     },
     "metadata": {
      "needs_background": "light"
     },
     "output_type": "display_data"
    }
   ],
   "source": [
    "fig = plt.figure()\n",
    "plt.plot(vol, Vega, '-')\n",
    "plt.grid()\n",
    "plt.xlabel('Volatility')\n",
    "plt.ylabel('Vega')\n",
    "plt.title('Vega')\n",
    "plt.legend(['Vega for Call and Put'])"
   ]
  },
  {
   "cell_type": "code",
   "execution_count": null,
   "metadata": {},
   "outputs": [],
   "source": []
  }
 ],
 "metadata": {
  "kernelspec": {
   "display_name": "Python 3",
   "language": "python",
   "name": "python3"
  },
  "language_info": {
   "codemirror_mode": {
    "name": "ipython",
    "version": 3
   },
   "file_extension": ".py",
   "mimetype": "text/x-python",
   "name": "python",
   "nbconvert_exporter": "python",
   "pygments_lexer": "ipython3",
   "version": "3.8.5"
  }
 },
 "nbformat": 4,
 "nbformat_minor": 4
}
